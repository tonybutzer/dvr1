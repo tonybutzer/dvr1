{
 "cells": [
  {
   "cell_type": "code",
   "execution_count": 1,
   "id": "d74305c6-4d2f-4c4a-a5e3-07834ad1950a",
   "metadata": {},
   "outputs": [],
   "source": [
    "from dotenv import load_dotenv\n",
    "import os\n",
    "#import json"
   ]
  },
  {
   "cell_type": "code",
   "execution_count": 2,
   "id": "fcc0ad43-c378-4ce1-b2ab-163b9fac579a",
   "metadata": {},
   "outputs": [],
   "source": [
    "from util import run_command"
   ]
  },
  {
   "cell_type": "code",
   "execution_count": 3,
   "id": "b18b7182-3390-457d-aa4a-f63d10c6a7ab",
   "metadata": {},
   "outputs": [
    {
     "data": {
      "text/plain": [
       "('10B16BC7', '192.168.0.151')"
      ]
     },
     "execution_count": 3,
     "metadata": {},
     "output_type": "execute_result"
    }
   ],
   "source": [
    "# Load environment variables from the .env file\n",
    "load_dotenv()\n",
    "\n",
    "# Access environment variables\n",
    "TUNER_ID = os.getenv('TUNER_ID')\n",
    "TUNER_IP = os.getenv('TUNER_IP')\n",
    "\n",
    "TUNER_ID, TUNER_IP"
   ]
  },
  {
   "cell_type": "code",
   "execution_count": 4,
   "id": "c6a642f6-c8cd-44e4-9cf8-26c185b8501f",
   "metadata": {},
   "outputs": [
    {
     "data": {
      "text/plain": [
       "'/home/tony/Videos'"
      ]
     },
     "execution_count": 4,
     "metadata": {},
     "output_type": "execute_result"
    }
   ],
   "source": [
    "RECORDINGS = os.getenv('DVR_RECORDINGS')\n",
    "RECORDINGS"
   ]
  },
  {
   "cell_type": "code",
   "execution_count": 5,
   "id": "cc99fb15-a11f-45cb-88c6-8950f40fca0b",
   "metadata": {},
   "outputs": [],
   "source": [
    "cmd=f'echo curl -o {RECORDINGS}/tony1nbc.ts {TUNER_IP}:5004/auto/v46.1?duration=3600 | at 13:25'\n"
   ]
  },
  {
   "cell_type": "code",
   "execution_count": 6,
   "id": "3d0baa3c-7387-444f-9aae-0ffa1e051bc8",
   "metadata": {},
   "outputs": [
    {
     "data": {
      "text/plain": [
       "'echo curl -o /home/tony/Videos/tony1nbc.ts 192.168.0.151:5004/auto/v46.1?duration=3600 | at 13:25'"
      ]
     },
     "execution_count": 6,
     "metadata": {},
     "output_type": "execute_result"
    }
   ],
   "source": [
    "cmd"
   ]
  },
  {
   "cell_type": "code",
   "execution_count": 7,
   "id": "a7903cbf-986a-46d0-81d5-922ae89e06a5",
   "metadata": {},
   "outputs": [],
   "source": [
    "#out, stat = run_command(cmd)"
   ]
  },
  {
   "cell_type": "code",
   "execution_count": 16,
   "id": "0b00ad1b-462e-4c79-ac5b-443717de526f",
   "metadata": {},
   "outputs": [
    {
     "data": {
      "text/plain": [
       "(0, '')"
      ]
     },
     "execution_count": 16,
     "metadata": {},
     "output_type": "execute_result"
    }
   ],
   "source": [
    "cmd=f'echo curl -o {RECORDINGS}/golf.ts {TUNER_IP}:5004/auto/v46.1?duration=10800 | at -t 202501111500'\n",
    "out, stat = run_command(cmd)\n",
    "stat, out"
   ]
  },
  {
   "cell_type": "code",
   "execution_count": 17,
   "id": "c6262afd-6958-442e-9996-6c104d5df510",
   "metadata": {},
   "outputs": [
    {
     "name": "stdout",
     "output_type": "stream",
     "text": [
      "3\tSat Jan 11 15:00:00 2025 a tony\n"
     ]
    }
   ],
   "source": [
    "! atq"
   ]
  },
  {
   "cell_type": "code",
   "execution_count": 18,
   "id": "8e29dc27-7f63-4e1b-8939-7983e731b579",
   "metadata": {},
   "outputs": [
    {
     "name": "stdout",
     "output_type": "stream",
     "text": [
      "Sat Jan 11 02:33:44 PM CST 2025\n"
     ]
    }
   ],
   "source": [
    "! date"
   ]
  },
  {
   "cell_type": "code",
   "execution_count": 19,
   "id": "0382d114-748e-4418-888a-bcca26b34055",
   "metadata": {},
   "outputs": [
    {
     "name": "stdout",
     "output_type": "stream",
     "text": [
      "Cannot find jobid 2\n"
     ]
    }
   ],
   "source": [
    "! atrm 2"
   ]
  },
  {
   "cell_type": "code",
   "execution_count": 21,
   "id": "58bd435d-670c-4623-b394-7189c9cbe4ff",
   "metadata": {},
   "outputs": [
    {
     "name": "stdout",
     "output_type": "stream",
     "text": [
      "#!/bin/sh\n",
      "# atrun uid=1000 gid=1000\n",
      "# mail tony 0\n",
      "umask 2\n",
      "LESSOPEN=\\|\\ /usr/bin/lesspipe\\ %s; export LESSOPEN\n",
      "CONDA_PROMPT_MODIFIER=\\(tv\\)\\ ; export CONDA_PROMPT_MODIFIER\n",
      "TUNER_IP=192.168.0.151; export TUNER_IP\n",
      "LANGUAGE=en_US; export LANGUAGE\n",
      "USER=tony; export USER\n",
      "XDG_SEAT=seat0; export XDG_SEAT\n",
      "MPLBACKEND=module://matplotlib_inline.backend_inline; export MPLBACKEND\n",
      "XDG_SESSION_TYPE=x11; export XDG_SESSION_TYPE\n",
      "SHLVL=1; export SHLVL\n",
      "OLDPWD=/home/tony/opt/dvr1/8_study; export OLDPWD\n",
      "CONDA_SHLVL=2; export CONDA_SHLVL\n",
      "HOME=/home/tony; export HOME\n",
      "DESKTOP_SESSION=cinnamon; export DESKTOP_SESSION\n",
      "XDG_SEAT_PATH=/org/freedesktop/DisplayManager/Seat0; export XDG_SEAT_PATH\n",
      "GTK_MODULES=gail:atk-bridge; export GTK_MODULES\n",
      "PAGER=cat; export PAGER\n",
      "MAKEFLAGS=; export MAKEFLAGS\n",
      "DBUS_SESSION_BUS_ADDRESS=unix:path=/run/user/1000/bus; export DBUS_SESSION_BUS_ADDRESS\n",
      "COLORTERM=truecolor; export COLORTERM\n",
      "_CE_M=; export _CE_M\n",
      "GNOME_KEYRING_CONTROL=/run/user/1000/keyring; export GNOME_KEYRING_CONTROL\n",
      "MAKE_TERMERR=/dev/pts/1; export MAKE_TERMERR\n",
      "LOGNAME=tony; export LOGNAME\n",
      "FORCE_COLOR=1; export FORCE_COLOR\n",
      "DESKTOP_AUTOSTART_ID=107e9dc4853a446054173649522330615900000010460024; export DESKTOP_AUTOSTART_ID\n",
      "XDG_SESSION_CLASS=user; export XDG_SESSION_CLASS\n",
      "XDG_SESSION_ID=c1; export XDG_SESSION_ID\n",
      "GNOME_DESKTOP_SESSION_ID=this-is-deprecated; export GNOME_DESKTOP_SESSION_ID\n",
      "_CE_CONDA=; export _CE_CONDA\n",
      "PATH=/home/tony/bin:/home/tony/miniforge3/envs/tv/bin:/home/tony/miniforge3/condabin:/home/tony/bin:/usr/local/sbin:/usr/local/bin:/usr/sbin:/usr/bin:/sbin:/bin:/usr/games:/usr/local/games:/snap/bin; export PATH\n",
      "GDM_LANG=en_US; export GDM_LANG\n",
      "GTK3_MODULES=xapp-gtk3-module; export GTK3_MODULES\n",
      "SESSION_MANAGER=local/sleepy:@/tmp/.ICE-unix/1046,unix/sleepy:/tmp/.ICE-unix/1046; export SESSION_MANAGER\n",
      "OWNER=TONY; export OWNER\n",
      "XDG_SESSION_PATH=/org/freedesktop/DisplayManager/Session0; export XDG_SESSION_PATH\n",
      "GNOME_TERMINAL_SCREEN=/org/gnome/Terminal/screen/67e3e073_3dd9_4634_8655_c326bb34d14d; export GNOME_TERMINAL_SCREEN\n",
      "XDG_RUNTIME_DIR=/run/user/1000; export XDG_RUNTIME_DIR\n",
      "MAKELEVEL=1; export MAKELEVEL\n",
      "LANG=en_US.UTF-8; export LANG\n",
      "XDG_CURRENT_DESKTOP=X-Cinnamon; export XDG_CURRENT_DESKTOP\n",
      "CONDA_PREFIX_1=/home/tony/miniforge3; export CONDA_PREFIX_1\n",
      "XAUTHORITY=/home/tony/.Xauthority; export XAUTHORITY\n",
      "GNOME_TERMINAL_SERVICE=:1.115; export GNOME_TERMINAL_SERVICE\n",
      "XDG_SESSION_DESKTOP=cinnamon; export XDG_SESSION_DESKTOP\n",
      "LS_COLORS=rs=0:di=01\\;34:ln=01\\;36:mh=00:pi=40\\;33:so=01\\;35:do=01\\;35:bd=40\\;33\\;01:cd=40\\;33\\;01:or=40\\;31\\;01:mi=00:su=37\\;41:sg=30\\;43:ca=00:tw=30\\;42:ow=34\\;42:st=37\\;44:ex=01\\;32:\\*.tar=01\\;31:\\*.tgz=01\\;31:\\*.arc=01\\;31:\\*.arj=01\\;31:\\*.taz=01\\;31:\\*.lha=01\\;31:\\*.lz4=01\\;31:\\*.lzh=01\\;31:\\*.lzma=01\\;31:\\*.tlz=01\\;31:\\*.txz=01\\;31:\\*.tzo=01\\;31:\\*.t7z=01\\;31:\\*.zip=01\\;31:\\*.z=01\\;31:\\*.dz=01\\;31:\\*.gz=01\\;31:\\*.lrz=01\\;31:\\*.lz=01\\;31:\\*.lzo=01\\;31:\\*.xz=01\\;31:\\*.zst=01\\;31:\\*.tzst=01\\;31:\\*.bz2=01\\;31:\\*.bz=01\\;31:\\*.tbz=01\\;31:\\*.tbz2=01\\;31:\\*.tz=01\\;31:\\*.deb=01\\;31:\\*.rpm=01\\;31:\\*.jar=01\\;31:\\*.war=01\\;31:\\*.ear=01\\;31:\\*.sar=01\\;31:\\*.rar=01\\;31:\\*.alz=01\\;31:\\*.ace=01\\;31:\\*.zoo=01\\;31:\\*.cpio=01\\;31:\\*.7z=01\\;31:\\*.rz=01\\;31:\\*.cab=01\\;31:\\*.wim=01\\;31:\\*.swm=01\\;31:\\*.dwm=01\\;31:\\*.esd=01\\;31:\\*.avif=01\\;35:\\*.jpg=01\\;35:\\*.jpeg=01\\;35:\\*.mjpg=01\\;35:\\*.mjpeg=01\\;35:\\*.gif=01\\;35:\\*.bmp=01\\;35:\\*.pbm=01\\;35:\\*.pgm=01\\;35:\\*.ppm=01\\;35:\\*.tga=01\\;35:\\*.xbm=01\\;35:\\*.xpm=01\\;35:\\*.tif=01\\;35:\\*.tiff=01\\;35:\\*.png=01\\;35:\\*.svg=01\\;35:\\*.svgz=01\\;35:\\*.mng=01\\;35:\\*.pcx=01\\;35:\\*.mov=01\\;35:\\*.mpg=01\\;35:\\*.mpeg=01\\;35:\\*.m2v=01\\;35:\\*.mkv=01\\;35:\\*.webm=01\\;35:\\*.webp=01\\;35:\\*.ogm=01\\;35:\\*.mp4=01\\;35:\\*.m4v=01\\;35:\\*.mp4v=01\\;35:\\*.vob=01\\;35:\\*.qt=01\\;35:\\*.nuv=01\\;35:\\*.wmv=01\\;35:\\*.asf=01\\;35:\\*.rm=01\\;35:\\*.rmvb=01\\;35:\\*.flc=01\\;35:\\*.avi=01\\;35:\\*.fli=01\\;35:\\*.flv=01\\;35:\\*.gl=01\\;35:\\*.dl=01\\;35:\\*.xcf=01\\;35:\\*.xwd=01\\;35:\\*.yuv=01\\;35:\\*.cgm=01\\;35:\\*.emf=01\\;35:\\*.ogv=01\\;35:\\*.ogx=01\\;35:\\*.aac=00\\;36:\\*.au=00\\;36:\\*.flac=00\\;36:\\*.m4a=00\\;36:\\*.mid=00\\;36:\\*.midi=00\\;36:\\*.mka=00\\;36:\\*.mp3=00\\;36:\\*.mpc=00\\;36:\\*.ogg=00\\;36:\\*.ra=00\\;36:\\*.wav=00\\;36:\\*.oga=00\\;36:\\*.opus=00\\;36:\\*.spx=00\\;36:\\*.xspf=00\\;36:\\*\\~=00\\;90:\\*#=00\\;90:\\*.bak=00\\;90:\\*.crdownload=00\\;90:\\*.dpkg-dist=00\\;90:\\*.dpkg-new=00\\;90:\\*.dpkg-old=00\\;90:\\*.dpkg-tmp=00\\;90:\\*.old=00\\;90:\\*.orig=00\\;90:\\*.part=00\\;90:\\*.rej=00\\;90:\\*.rpmnew=00\\;90:\\*.rpmorig=00\\;90:\\*.rpmsave=00\\;90:\\*.swp=00\\;90:\\*.tmp=00\\;90:\\*.ucf-dist=00\\;90:\\*.ucf-new=00\\;90:\\*.ucf-old=00\\;90:; export LS_COLORS\n",
      "SSH_AUTH_SOCK=/run/user/1000/keyring/ssh; export SSH_AUTH_SOCK\n",
      "CONDA_PYTHON_EXE=/home/tony/miniforge3/bin/python; export CONDA_PYTHON_EXE\n",
      "XDG_GREETER_DATA_DIR=/var/lib/lightdm-data/tony; export XDG_GREETER_DATA_DIR\n",
      "DVR_RECORDINGS=/home/tony/Videos; export DVR_RECORDINGS\n",
      "CLICOLOR_FORCE=1; export CLICOLOR_FORCE\n",
      "QT_ACCESSIBILITY=1; export QT_ACCESSIBILITY\n",
      "MAKE_TERMOUT=/dev/pts/1; export MAKE_TERMOUT\n",
      "GDMSESSION=cinnamon; export GDMSESSION\n",
      "TUNER_ID=10B16BC7; export TUNER_ID\n",
      "LESSCLOSE=/usr/bin/lesspipe\\ %s\\ %s; export LESSCLOSE\n",
      "CONDA_DEFAULT_ENV=tv; export CONDA_DEFAULT_ENV\n",
      "GPG_AGENT_INFO=/run/user/1000/gnupg/S.gpg-agent:0:1; export GPG_AGENT_INFO\n",
      "XDG_VTNR=7; export XDG_VTNR\n",
      "GIT_PAGER=cat; export GIT_PAGER\n",
      "PWD=/home/tony/opt/dvr1/8_study/0_hdhr; export PWD\n",
      "CLICOLOR=1; export CLICOLOR\n",
      "XDG_DATA_DIRS=/usr/share/cinnamon:/usr/share/gnome:/home/tony/.local/share/flatpak/exports/share:/var/lib/flatpak/exports/share:/usr/local/share:/usr/share; export XDG_DATA_DIRS\n",
      "XDG_CONFIG_DIRS=/etc/xdg/xdg-cinnamon:/etc/xdg; export XDG_CONFIG_DIRS\n",
      "CONDA_EXE=/home/tony/miniforge3/bin/conda; export CONDA_EXE\n",
      "JPY_PARENT_PID=85554; export JPY_PARENT_PID\n",
      "PYDEVD_USE_FRAME_EVAL=NO; export PYDEVD_USE_FRAME_EVAL\n",
      "MFLAGS=; export MFLAGS\n",
      "CONDA_PREFIX=/home/tony/miniforge3/envs/tv; export CONDA_PREFIX\n",
      "JPY_SESSION_NAME=/home/tony/opt/dvr1/8_study/0_hdhr/c9_dvr_record_prototype.ipynb; export JPY_SESSION_NAME\n",
      "VTE_VERSION=7600; export VTE_VERSION\n",
      "cd /home/tony/opt/dvr1/8\\_study/0\\_hdhr || {\n",
      "\t echo 'Execution directory inaccessible' >&2\n",
      "\t exit 1\n",
      "}\n",
      "curl -o /home/tony/Videos/golf.ts 192.168.0.151:5004/auto/v46.1?duration=10800\n",
      "\n"
     ]
    }
   ],
   "source": [
    "! at -c 3"
   ]
  },
  {
   "cell_type": "code",
   "execution_count": null,
   "id": "ecbbb5dc-73f4-4f21-b0ac-feeb8b07dc04",
   "metadata": {},
   "outputs": [],
   "source": []
  }
 ],
 "metadata": {
  "kernelspec": {
   "display_name": "Python 3 (ipykernel)",
   "language": "python",
   "name": "python3"
  },
  "language_info": {
   "codemirror_mode": {
    "name": "ipython",
    "version": 3
   },
   "file_extension": ".py",
   "mimetype": "text/x-python",
   "name": "python",
   "nbconvert_exporter": "python",
   "pygments_lexer": "ipython3",
   "version": "3.12.8"
  }
 },
 "nbformat": 4,
 "nbformat_minor": 5
}
