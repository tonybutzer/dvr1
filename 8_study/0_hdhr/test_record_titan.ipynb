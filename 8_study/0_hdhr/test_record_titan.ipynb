{
 "cells": [
  {
   "cell_type": "code",
   "execution_count": 15,
   "id": "d5957bd0-d775-4b39-82a3-c44350fdfde5",
   "metadata": {},
   "outputs": [],
   "source": [
    "# %load_ext autoreload\n",
    "# %autoreload 2 "
   ]
  },
  {
   "cell_type": "code",
   "execution_count": 16,
   "id": "9ddf116a-1c7a-4b24-80c5-f1b30a61f475",
   "metadata": {},
   "outputs": [
    {
     "ename": "ImportError",
     "evalue": "cannot import name 'get_xml_tvpi' from 'libdvr.titan_classes' (/home/tony/opt/dvr1/libdvr/libdvr/titan_classes.py)",
     "output_type": "error",
     "traceback": [
      "\u001b[0;31m---------------------------------------------------------------------------\u001b[0m",
      "\u001b[0;31mImportError\u001b[0m                               Traceback (most recent call last)",
      "Cell \u001b[0;32mIn[16], line 9\u001b[0m\n\u001b[1;32m      5\u001b[0m \u001b[38;5;28;01mimport\u001b[39;00m\u001b[38;5;250m \u001b[39m\u001b[38;5;21;01mos\u001b[39;00m\n\u001b[1;32m      6\u001b[0m \u001b[38;5;28;01mimport\u001b[39;00m\u001b[38;5;250m \u001b[39m\u001b[38;5;21;01mxmltodict\u001b[39;00m\n\u001b[0;32m----> 9\u001b[0m \u001b[38;5;28;01mfrom\u001b[39;00m\u001b[38;5;250m \u001b[39m\u001b[38;5;21;01mlibdvr\u001b[39;00m\u001b[38;5;21;01m.\u001b[39;00m\u001b[38;5;21;01mtitan_classes\u001b[39;00m\u001b[38;5;250m \u001b[39m\u001b[38;5;28;01mimport\u001b[39;00m get_files_titan_tvpi, get_xml_tvpi, t_schedule_record\n\u001b[1;32m     10\u001b[0m \u001b[38;5;28;01mfrom\u001b[39;00m\u001b[38;5;250m \u001b[39m\u001b[38;5;21;01mlibdvr\u001b[39;00m\u001b[38;5;21;01m.\u001b[39;00m\u001b[38;5;21;01mtitan_classes\u001b[39;00m\u001b[38;5;250m \u001b[39m\u001b[38;5;28;01mimport\u001b[39;00m init_dvr\n",
      "\u001b[0;31mImportError\u001b[0m: cannot import name 'get_xml_tvpi' from 'libdvr.titan_classes' (/home/tony/opt/dvr1/libdvr/libdvr/titan_classes.py)"
     ]
    }
   ],
   "source": [
    "# %load watch_now\n",
    "#!/usr/bin/env python\n",
    "\n",
    "\n",
    "import os\n",
    "import xmltodict\n",
    "\n",
    "\n",
    "from libdvr.titan_classes import get_files_titan_tvpi, get_xml_tvpi, t_schedule_record\n",
    "from libdvr.titan_classes import init_dvr"
   ]
  },
  {
   "cell_type": "code",
   "execution_count": 14,
   "id": "928ee506-27be-423e-a810-84e56ece3f25",
   "metadata": {},
   "outputs": [
    {
     "name": "stdout",
     "output_type": "stream",
     "text": [
      "['/home/tony/Downloads/record-program.tvpi']\n"
     ]
    }
   ],
   "source": [
    "logger = init_dvr()\n",
    "\n",
    "to_be_recorded = get_files_titan_tvpi()\n",
    "print(to_be_recorded)"
   ]
  },
  {
   "cell_type": "code",
   "execution_count": 9,
   "id": "e7603627-0c08-4a47-b6bc-a54396504e25",
   "metadata": {},
   "outputs": [
    {
     "ename": "NameError",
     "evalue": "name 'get_xml_tvpi' is not defined",
     "output_type": "error",
     "traceback": [
      "\u001b[0;31m---------------------------------------------------------------------------\u001b[0m",
      "\u001b[0;31mNameError\u001b[0m                                 Traceback (most recent call last)",
      "Cell \u001b[0;32mIn[9], line 2\u001b[0m\n\u001b[1;32m      1\u001b[0m \u001b[38;5;28;01mfor\u001b[39;00m show_file \u001b[38;5;129;01min\u001b[39;00m to_be_recorded:\n\u001b[0;32m----> 2\u001b[0m     my_record \u001b[38;5;241m=\u001b[39m \u001b[43mget_xml_tvpi\u001b[49m(show_file)\n\u001b[1;32m      3\u001b[0m     t_schedule_record(my_record)\n\u001b[1;32m      5\u001b[0m \u001b[38;5;66;03m# clean up tvpi files\u001b[39;00m\n",
      "\u001b[0;31mNameError\u001b[0m: name 'get_xml_tvpi' is not defined"
     ]
    }
   ],
   "source": [
    "for show_file in to_be_recorded:\n",
    "    my_record = get_xml_tvpi(show_file)\n",
    "    t_schedule_record(my_record)\n",
    "    \n",
    "# clean up tvpi files\n",
    "for xml_file in to_be_recorded:\n",
    "    print('deleteing:', xml_file)\n",
    "    os.remove(xml_file)"
   ]
  },
  {
   "cell_type": "code",
   "execution_count": null,
   "id": "de29b6e1-78d2-4072-b458-bce24f45921b",
   "metadata": {},
   "outputs": [],
   "source": []
  }
 ],
 "metadata": {
  "kernelspec": {
   "display_name": "Python 3 (ipykernel)",
   "language": "python",
   "name": "python3"
  },
  "language_info": {
   "codemirror_mode": {
    "name": "ipython",
    "version": 3
   },
   "file_extension": ".py",
   "mimetype": "text/x-python",
   "name": "python",
   "nbconvert_exporter": "python",
   "pygments_lexer": "ipython3",
   "version": "3.12.8"
  }
 },
 "nbformat": 4,
 "nbformat_minor": 5
}
