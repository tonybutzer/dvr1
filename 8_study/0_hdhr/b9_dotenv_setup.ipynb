{
 "cells": [
  {
   "cell_type": "code",
   "execution_count": 1,
   "id": "c5ce9454-07fd-4f82-81a0-109ed7d4ffde",
   "metadata": {},
   "outputs": [],
   "source": [
    "from dotenv import load_dotenv\n",
    "import os\n",
    "import json\n"
   ]
  },
  {
   "cell_type": "code",
   "execution_count": 2,
   "id": "7a687a01-a832-46d9-834b-7cf8d075af10",
   "metadata": {},
   "outputs": [],
   "source": [
    "from util import run_command"
   ]
  },
  {
   "cell_type": "code",
   "execution_count": 3,
   "id": "b117a16a-9b36-44e7-9027-a1722dc8e7f9",
   "metadata": {},
   "outputs": [],
   "source": [
    "cmd='hdhomerun_config discover'"
   ]
  },
  {
   "cell_type": "code",
   "execution_count": 4,
   "id": "43198e97-4f64-4402-9e29-9c30ae78d2ea",
   "metadata": {},
   "outputs": [],
   "source": [
    "output, stat = run_command(cmd)"
   ]
  },
  {
   "cell_type": "code",
   "execution_count": 5,
   "id": "ccac11cf-faef-471e-aa94-5eb47858938c",
   "metadata": {},
   "outputs": [
    {
     "name": "stdout",
     "output_type": "stream",
     "text": [
      "0\n"
     ]
    }
   ],
   "source": [
    "print(stat)"
   ]
  },
  {
   "cell_type": "code",
   "execution_count": 6,
   "id": "55ee3215-bb62-4870-8ad0-23a8583f8ac0",
   "metadata": {},
   "outputs": [
    {
     "name": "stdout",
     "output_type": "stream",
     "text": [
      "hdhomerun device 10B16BC7 found at fe80::218:ddff:fe0b:16bc%2\n",
      "hdhomerun device 10B16BC7 found at 192.168.0.151\n",
      "\n"
     ]
    }
   ],
   "source": [
    "print(output)"
   ]
  },
  {
   "cell_type": "code",
   "execution_count": 7,
   "id": "121f0cee-531a-4099-9e9e-7d128f773581",
   "metadata": {},
   "outputs": [
    {
     "data": {
      "text/plain": [
       "str"
      ]
     },
     "execution_count": 7,
     "metadata": {},
     "output_type": "execute_result"
    }
   ],
   "source": [
    "type (output)"
   ]
  },
  {
   "cell_type": "code",
   "execution_count": 8,
   "id": "6f5e5da5-fc70-40f6-bfb7-0f94192d7978",
   "metadata": {},
   "outputs": [],
   "source": [
    "out = output.split('\\n')[1]"
   ]
  },
  {
   "cell_type": "code",
   "execution_count": 9,
   "id": "7ab3c2de-d92f-4756-9840-34d54c363c07",
   "metadata": {},
   "outputs": [
    {
     "data": {
      "text/plain": [
       "'hdhomerun device 10B16BC7 found at 192.168.0.151'"
      ]
     },
     "execution_count": 9,
     "metadata": {},
     "output_type": "execute_result"
    }
   ],
   "source": [
    "out"
   ]
  },
  {
   "cell_type": "code",
   "execution_count": 10,
   "id": "59057bf5-0039-41c9-acc8-e3c90dc77c8d",
   "metadata": {},
   "outputs": [
    {
     "data": {
      "text/plain": [
       "'192.168.0.151'"
      ]
     },
     "execution_count": 10,
     "metadata": {},
     "output_type": "execute_result"
    }
   ],
   "source": [
    "ip = out.split()[-1]\n",
    "ip"
   ]
  },
  {
   "cell_type": "code",
   "execution_count": 11,
   "id": "ccf53c17-fd32-4292-b1cc-3e06ca20db14",
   "metadata": {},
   "outputs": [
    {
     "data": {
      "text/plain": [
       "'10B16BC7'"
      ]
     },
     "execution_count": 11,
     "metadata": {},
     "output_type": "execute_result"
    }
   ],
   "source": [
    "device = out.split()[2]\n",
    "device"
   ]
  },
  {
   "cell_type": "code",
   "execution_count": 12,
   "id": "f15a6a4a-9906-40af-adbf-02e722e469fa",
   "metadata": {},
   "outputs": [],
   "source": [
    "\n",
    "\n",
    "def write_list_to_env(env_value, env_var_name):\n",
    "  \"\"\"\n",
    "  Writes a Python list to the specified environment variable in the .env file.\n",
    "\n",
    "  Args:\n",
    "    list_data: The Python list to be written.\n",
    "    env_var_name: The name of the environment variable.\n",
    "  \"\"\"\n",
    "\n",
    "  # Get the path to the .env file\n",
    "  env_path = os.path.join(os.path.expanduser(\"~\"), \".env\")\n",
    "\n",
    "  # Read the existing .env file content (if it exists)\n",
    "  try:\n",
    "    with open(env_path, \"r\") as f:\n",
    "      existing_content = f.read()\n",
    "  except FileNotFoundError:\n",
    "    existing_content = \"\"\n",
    "\n",
    "  # Create the new environment variable line\n",
    "  new_line = f\"{env_var_name}={env_value}\\n\"\n",
    "\n",
    "  existing_content += new_line\n",
    "\n",
    "  # Write the updated content to the .env file\n",
    "  with open(env_path, \"w\") as f:\n",
    "    f.write(existing_content)\n",
    "\n"
   ]
  },
  {
   "cell_type": "code",
   "execution_count": 13,
   "id": "903488b6-0204-4409-8bd7-0e312497a571",
   "metadata": {},
   "outputs": [],
   "source": [
    "write_list_to_env(ip, 'TUNER_IP')"
   ]
  },
  {
   "cell_type": "code",
   "execution_count": 14,
   "id": "4c63ad9c-f70b-48e1-a9c0-afba61753692",
   "metadata": {},
   "outputs": [
    {
     "name": "stdout",
     "output_type": "stream",
     "text": [
      "OWNER=TONY\n",
      "TUNER_IP=192.168.0.151\n"
     ]
    }
   ],
   "source": [
    "! cat ~/.env"
   ]
  },
  {
   "cell_type": "code",
   "execution_count": 15,
   "id": "780af619-1296-44f0-b729-985c36907441",
   "metadata": {},
   "outputs": [],
   "source": [
    "write_list_to_env(device, 'TUNER_ID')"
   ]
  },
  {
   "cell_type": "code",
   "execution_count": 16,
   "id": "047ceed6-d50e-4855-ad65-0837f5a7c0ae",
   "metadata": {},
   "outputs": [
    {
     "data": {
      "text/plain": [
       "('10B16BC7', '192.168.0.151')"
      ]
     },
     "execution_count": 16,
     "metadata": {},
     "output_type": "execute_result"
    }
   ],
   "source": [
    "\n",
    "# Load environment variables from the .env file\n",
    "load_dotenv()\n",
    "\n",
    "# Access environment variables\n",
    "TUNER_ID = os.getenv('TUNER_ID')\n",
    "TUNER_IP = os.getenv('TUNER_IP')\n",
    "\n",
    "TUNER_ID, TUNER_IP"
   ]
  },
  {
   "cell_type": "code",
   "execution_count": 17,
   "id": "fbbe9990-c004-4132-b6b8-f3e2da8fc2db",
   "metadata": {},
   "outputs": [
    {
     "name": "stdout",
     "output_type": "stream",
     "text": [
      "OWNER=TONY\n",
      "TUNER_IP=192.168.0.151\n",
      "TUNER_ID=10B16BC7\n"
     ]
    }
   ],
   "source": [
    "! cat ~/.env\n"
   ]
  },
  {
   "cell_type": "code",
   "execution_count": 18,
   "id": "944003d2-fcca-4a11-97d5-4302a8cb9c2b",
   "metadata": {},
   "outputs": [
    {
     "data": {
      "text/plain": [
       "'curl -so z.ts 192.168.0.151:5004/auto/v36.1?duration=10'"
      ]
     },
     "execution_count": 18,
     "metadata": {},
     "output_type": "execute_result"
    }
   ],
   "source": [
    "cmd=f'curl -so z.ts {TUNER_IP}:5004/auto/v36.1?duration=10'\n",
    "cmd"
   ]
  },
  {
   "cell_type": "code",
   "execution_count": 19,
   "id": "3519f1da-07b4-471d-a49a-8512bff606c9",
   "metadata": {},
   "outputs": [],
   "source": [
    "output, stat = run_command(cmd)"
   ]
  },
  {
   "cell_type": "code",
   "execution_count": 20,
   "id": "781c1d34-d973-43ab-b2c3-ace5fb2b90a0",
   "metadata": {},
   "outputs": [
    {
     "data": {
      "text/plain": [
       "0"
      ]
     },
     "execution_count": 20,
     "metadata": {},
     "output_type": "execute_result"
    }
   ],
   "source": [
    "stat"
   ]
  },
  {
   "cell_type": "code",
   "execution_count": null,
   "id": "9814be67-0d6c-4b3a-8232-fb85417b3464",
   "metadata": {},
   "outputs": [],
   "source": []
  }
 ],
 "metadata": {
  "kernelspec": {
   "display_name": "Python 3 (ipykernel)",
   "language": "python",
   "name": "python3"
  },
  "language_info": {
   "codemirror_mode": {
    "name": "ipython",
    "version": 3
   },
   "file_extension": ".py",
   "mimetype": "text/x-python",
   "name": "python",
   "nbconvert_exporter": "python",
   "pygments_lexer": "ipython3",
   "version": "3.12.8"
  }
 },
 "nbformat": 4,
 "nbformat_minor": 5
}
