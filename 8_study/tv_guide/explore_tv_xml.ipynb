{
 "cells": [
  {
   "cell_type": "code",
   "execution_count": 1,
   "id": "33cba084-05d2-4a40-9372-107ab8e14b41",
   "metadata": {},
   "outputs": [],
   "source": [
    "import xml.etree.ElementTree as ET\n"
   ]
  },
  {
   "cell_type": "code",
   "execution_count": 2,
   "id": "c6dc0700-d0da-418a-87f3-e44c3445def5",
   "metadata": {},
   "outputs": [],
   "source": [
    "ugly = '/path/to/tvseries/xmltv.xml'\n",
    "tree = ET.parse(ugly)\n",
    "root = tree.getroot()"
   ]
  },
  {
   "cell_type": "code",
   "execution_count": 3,
   "id": "1698b0b2-9ec8-4bf4-9c1d-e1737ce954c9",
   "metadata": {},
   "outputs": [],
   "source": [
    "\n",
    "tree = ET.ElementTree(root)"
   ]
  },
  {
   "cell_type": "code",
   "execution_count": 4,
   "id": "568a6a5b-cc72-4771-b2f5-a07e27ff29a5",
   "metadata": {},
   "outputs": [
    {
     "name": "stdout",
     "output_type": "stream",
     "text": [
      "{'id': 'I2.1.44246.zap2it.com'}\n",
      "{'id': 'I2.2.44248.zap2it.com'}\n",
      "{'id': 'I2.3.62638.zap2it.com'}\n",
      "{'id': 'I2.4.101941.zap2it.com'}\n",
      "{'id': 'I2.6.108220.zap2it.com'}\n",
      "{'id': 'I4.1.31761.zap2it.com'}\n",
      "{'id': 'I4.2.52383.zap2it.com'}\n",
      "{'id': 'I4.3.80764.zap2it.com'}\n",
      "{'id': 'I4.4.111083.zap2it.com'}\n",
      "{'id': 'I4.5.111084.zap2it.com'}\n",
      "{'id': 'I7.1.35471.zap2it.com'}\n",
      "{'id': 'I7.10.126739.zap2it.com'}\n",
      "{'id': 'I7.11.123848.zap2it.com'}\n",
      "{'id': 'I7.2.64626.zap2it.com'}\n",
      "{'id': 'I7.3.105730.zap2it.com'}\n",
      "{'id': 'I7.4.121066.zap2it.com'}\n",
      "{'id': 'I7.5.121067.zap2it.com'}\n",
      "{'id': 'I7.6.121068.zap2it.com'}\n",
      "{'id': 'I7.7.121069.zap2it.com'}\n",
      "{'id': 'I7.8.121070.zap2it.com'}\n",
      "{'id': 'I7.9.121453.zap2it.com'}\n",
      "{'id': 'I9.1.33823.zap2it.com'}\n",
      "{'id': 'I9.2.62614.zap2it.com'}\n",
      "{'id': 'I9.3.100681.zap2it.com'}\n",
      "{'id': 'I9.4.100682.zap2it.com'}\n",
      "{'id': 'I11.1.32797.zap2it.com'}\n",
      "{'id': 'I11.2.36025.zap2it.com'}\n",
      "{'id': 'I11.3.97749.zap2it.com'}\n",
      "{'id': 'I11.4.106553.zap2it.com'}\n",
      "{'id': 'I13.1.20375.zap2it.com'}\n",
      "{'id': 'I13.2.77031.zap2it.com'}\n",
      "{'id': 'I13.3.96405.zap2it.com'}\n",
      "{'id': 'I13.4.114695.zap2it.com'}\n",
      "{'id': 'I13.5.124002.zap2it.com'}\n",
      "{'id': 'I13.6.169314.zap2it.com'}\n",
      "{'id': 'I14.1.35769.zap2it.com'}\n",
      "{'id': 'I14.2.61794.zap2it.com'}\n",
      "{'id': 'I14.3.96414.zap2it.com'}\n",
      "{'id': 'I14.4.117318.zap2it.com'}\n",
      "{'id': 'I20.1.52313.zap2it.com'}\n",
      "{'id': 'I20.2.55688.zap2it.com'}\n",
      "{'id': 'I20.3.58521.zap2it.com'}\n",
      "{'id': 'I20.4.58523.zap2it.com'}\n",
      "{'id': 'I20.5.103417.zap2it.com'}\n",
      "{'id': 'I20.6.118340.zap2it.com'}\n",
      "{'id': 'I23.1.43456.zap2it.com'}\n",
      "{'id': 'I23.2.59313.zap2it.com'}\n",
      "{'id': 'I23.3.62654.zap2it.com'}\n",
      "{'id': 'I23.4.102729.zap2it.com'}\n",
      "{'id': 'I23.6.108224.zap2it.com'}\n",
      "{'id': 'I26.21448.zap2it.com'}\n",
      "{'id': 'I36.1.44461.zap2it.com'}\n",
      "{'id': 'I44.29085.zap2it.com'}\n",
      "{'id': 'I44.1.34815.zap2it.com'}\n",
      "{'id': 'I44.2.53291.zap2it.com'}\n",
      "{'id': 'I44.3.91556.zap2it.com'}\n",
      "{'id': 'I46.1.34587.zap2it.com'}\n",
      "{'id': 'I46.2.49854.zap2it.com'}\n",
      "{'id': 'I46.3.116722.zap2it.com'}\n",
      "{'id': 'I46.4.116723.zap2it.com'}\n",
      "{'id': 'I46.5.118341.zap2it.com'}\n",
      "{'id': 'I46.6.151558.zap2it.com'}\n",
      "{'id': 'I53.17271.zap2it.com'}\n"
     ]
    }
   ],
   "source": [
    "for elm in tree.findall('channel'):\n",
    "    print(elm.attrib)"
   ]
  },
  {
   "cell_type": "code",
   "execution_count": 5,
   "id": "60013dbd-8cf1-47f0-8de7-d9d2246be83c",
   "metadata": {},
   "outputs": [
    {
     "name": "stdout",
     "output_type": "stream",
     "text": [
      "2.1 KUSDDT\n",
      "2.1\n",
      "KUSDDT\n",
      "2.2 KUSDDT2\n",
      "2.2\n",
      "KUSDDT2\n",
      "2.3 KUSDDT3\n",
      "2.3\n",
      "KUSDDT3\n",
      "2.4 KUSDDT4\n",
      "2.4\n",
      "KUSDDT4\n",
      "2.6 KUSDDT6\n",
      "2.6\n",
      "KUSDDT6\n",
      "4.1 KTIVDT\n",
      "4.1\n",
      "KTIVDT\n",
      "4.2 KTIVDT2\n",
      "4.2\n",
      "KTIVDT2\n",
      "4.3 KTIVDT3\n",
      "4.3\n",
      "KTIVDT3\n",
      "4.4 KTIVDT4\n",
      "4.4\n",
      "KTIVDT4\n",
      "4.5 KTIVDT5\n",
      "4.5\n",
      "KTIVDT5\n",
      "7.1 KTTWDT\n",
      "7.1\n",
      "KTTWDT\n",
      "7.10 KTTWD10\n",
      "7.10\n",
      "KTTWD10\n",
      "7.11 KTTWD11\n",
      "7.11\n",
      "KTTWD11\n",
      "7.2 KTTWDT2\n",
      "7.2\n",
      "KTTWDT2\n",
      "7.3 KTTWDT3\n",
      "7.3\n",
      "KTTWDT3\n",
      "7.4 KTTWDT4\n",
      "7.4\n",
      "KTTWDT4\n",
      "7.5 KTTWDT5\n",
      "7.5\n",
      "KTTWDT5\n",
      "7.6 KTTWDT6\n",
      "7.6\n",
      "KTTWDT6\n",
      "7.7 KTTWDT7\n",
      "7.7\n",
      "KTTWDT7\n",
      "7.8 KTTWDT8\n",
      "7.8\n",
      "KTTWDT8\n",
      "7.9 KTTWDT9\n",
      "7.9\n",
      "KTTWDT9\n",
      "9.1 KCAUDT\n",
      "9.1\n",
      "KCAUDT\n",
      "9.2 KCAUDT2\n",
      "9.2\n",
      "KCAUDT2\n",
      "9.3 KCAUDT3\n",
      "9.3\n",
      "KCAUDT3\n",
      "9.4 KCAUDT4\n",
      "9.4\n",
      "KCAUDT4\n",
      "11.1 KELODT\n",
      "11.1\n",
      "KELODT\n",
      "11.2 KELODT2\n",
      "11.2\n",
      "KELODT2\n",
      "11.3 KELODT3\n",
      "11.3\n",
      "KELODT3\n",
      "11.4 KELODT4\n",
      "11.4\n",
      "KELODT4\n",
      "13.1 KSFYDT\n",
      "13.1\n",
      "KSFYDT\n",
      "13.2 KSFYDT2\n",
      "13.2\n",
      "KSFYDT2\n",
      "13.3 KSFYDT3\n",
      "13.3\n",
      "KSFYDT3\n",
      "13.4 KSFYDT4\n",
      "13.4\n",
      "KSFYDT4\n",
      "13.5 KSFYDT5\n",
      "13.5\n",
      "KSFYDT5\n",
      "13.6 KSFYDT6\n",
      "13.6\n",
      "KSFYDT6\n",
      "14.1 KMEGDT\n",
      "14.1\n",
      "KMEGDT\n",
      "14.2 KMEGDT2\n",
      "14.2\n",
      "KMEGDT2\n",
      "14.3 KMEGDT3\n",
      "14.3\n",
      "KMEGDT3\n",
      "14.4 KMEGDT4\n",
      "14.4\n",
      "KMEGDT4\n",
      "20.1 KSMNDT\n",
      "20.1\n",
      "KSMNDT\n",
      "20.2 KSMNDT2\n",
      "20.2\n",
      "KSMNDT2\n",
      "20.3 KSMNDT3\n",
      "20.3\n",
      "KSMNDT3\n",
      "20.4 KSMNDT4\n",
      "20.4\n",
      "KSMNDT4\n",
      "20.5 KSMNDT5\n",
      "20.5\n",
      "KSMNDT5\n",
      "20.6 KSMNDT6\n",
      "20.6\n",
      "KSMNDT6\n",
      "23.1 KCSDDT\n",
      "23.1\n",
      "KCSDDT\n",
      "23.2 KCSDDT2\n",
      "23.2\n",
      "KCSDDT2\n",
      "23.3 KCSDDT3\n",
      "23.3\n",
      "KCSDDT3\n",
      "23.4 KCSDDT4\n",
      "23.4\n",
      "KCSDDT4\n",
      "23.6 KCSDDT6\n",
      "23.6\n",
      "KCSDDT6\n",
      "26 KCPOLP\n",
      "26\n",
      "KCPOLP\n",
      "36.1 KSFLDT\n",
      "36.1\n",
      "KSFLDT\n",
      "44 KCWSLP\n",
      "44\n",
      "KCWSLP\n",
      "44.1 KPTHDT\n",
      "44.1\n",
      "KPTHDT\n",
      "44.2 KPTHDT2\n",
      "44.2\n",
      "KPTHDT2\n",
      "44.3 KPTHDT3\n",
      "44.3\n",
      "KPTHDT3\n",
      "46.1 KDLTDT\n",
      "46.1\n",
      "KDLTDT\n",
      "46.2 KDLTDT2\n",
      "46.2\n",
      "KDLTDT2\n",
      "46.3 KDLTDT3\n",
      "46.3\n",
      "KDLTDT3\n",
      "46.4 KDLTDT4\n",
      "46.4\n",
      "KDLTDT4\n",
      "46.5 KDLTDT5\n",
      "46.5\n",
      "KDLTDT5\n",
      "46.6 KDLTDT6\n",
      "46.6\n",
      "KDLTDT6\n",
      "53 K53EG\n",
      "53\n",
      "K53EG\n"
     ]
    }
   ],
   "source": [
    "# Create a list to store dictionaries representing each book\n",
    "books_list = []\n",
    "# Iterate through each <book> element\n",
    "for book_elem in root.findall('.//channel'):\n",
    "    book_dict = {}\n",
    "    book_dict['id'] = book_elem.get('id')\n",
    "    i=0\n",
    "    for child_elem in book_elem.findall('display-name'):\n",
    "        print (child_elem.text)\n",
    "        tag=child_elem.tag+str(i)\n",
    "        book_dict[tag] = child_elem.text\n",
    "        i += 1\n",
    "    books_list.append(book_dict)\n"
   ]
  },
  {
   "cell_type": "code",
   "execution_count": 6,
   "id": "3ccc20c7-c5b9-4c31-a873-45afce5c8d30",
   "metadata": {},
   "outputs": [],
   "source": [
    "import pandas as pd"
   ]
  },
  {
   "cell_type": "code",
   "execution_count": 7,
   "id": "6dad2f0f-5764-437d-9aab-9c4e0b5a1f0e",
   "metadata": {},
   "outputs": [
    {
     "name": "stdout",
     "output_type": "stream",
     "text": [
      "                         id display-name0 display-name1 display-name2\n",
      "0     I2.1.44246.zap2it.com    2.1 KUSDDT           2.1        KUSDDT\n",
      "1     I2.2.44248.zap2it.com   2.2 KUSDDT2           2.2       KUSDDT2\n",
      "2     I2.3.62638.zap2it.com   2.3 KUSDDT3           2.3       KUSDDT3\n",
      "3    I2.4.101941.zap2it.com   2.4 KUSDDT4           2.4       KUSDDT4\n",
      "4    I2.6.108220.zap2it.com   2.6 KUSDDT6           2.6       KUSDDT6\n",
      "..                      ...           ...           ...           ...\n",
      "58  I46.3.116722.zap2it.com  46.3 KDLTDT3          46.3       KDLTDT3\n",
      "59  I46.4.116723.zap2it.com  46.4 KDLTDT4          46.4       KDLTDT4\n",
      "60  I46.5.118341.zap2it.com  46.5 KDLTDT5          46.5       KDLTDT5\n",
      "61  I46.6.151558.zap2it.com  46.6 KDLTDT6          46.6       KDLTDT6\n",
      "62     I53.17271.zap2it.com      53 K53EG            53         K53EG\n",
      "\n",
      "[63 rows x 4 columns]\n"
     ]
    }
   ],
   "source": [
    "df = pd.DataFrame(books_list)\n",
    "\n",
    "# Display the DataFrame\n",
    "print(df)"
   ]
  },
  {
   "cell_type": "code",
   "execution_count": 8,
   "id": "b4bf7baa-27fe-4b44-8e5d-3f7ee0d4f670",
   "metadata": {},
   "outputs": [],
   "source": [
    "# Create a list to store dictionaries representing each book\n",
    "progr_list = []\n",
    "# Iterate through each <book> element\n",
    "for progr_elem in root.findall('.//programme'):\n",
    "    progr_dict = {}\n",
    "    progr_dict['start'] = progr_elem.get('start')\n",
    "    progr_dict['stop'] = progr_elem.get('stop')\n",
    "    progr_dict['channel'] = progr_elem.get('channel')\n",
    "    #progr_dict['title'] = progr_elem.get('title')\n",
    "\n",
    "\n",
    "    i=0\n",
    "    for child_elem in progr_elem.findall('title'):\n",
    "        # print (child_elem.text)\n",
    "        tag=child_elem.tag\n",
    "        progr_dict[tag] = child_elem.text\n",
    "        i += 1\n",
    "        \n",
    "    for child_elem in progr_elem.findall('sub-title'):\n",
    "        # print (child_elem.text)\n",
    "        tag=child_elem.tag\n",
    "        progr_dict[tag] = child_elem.text\n",
    "        \n",
    "    for child_elem in progr_elem.findall('length'):\n",
    "        # print (child_elem.text)\n",
    "        tag=child_elem.tag\n",
    "        progr_dict[tag] = child_elem.text\n",
    "\n",
    "\n",
    "    progr_list.append(progr_dict)\n"
   ]
  },
  {
   "cell_type": "code",
   "execution_count": 9,
   "id": "940f8656-6efa-46e2-9eb4-9fd9b9e95f01",
   "metadata": {},
   "outputs": [
    {
     "data": {
      "text/html": [
       "<div>\n",
       "<style scoped>\n",
       "    .dataframe tbody tr th:only-of-type {\n",
       "        vertical-align: middle;\n",
       "    }\n",
       "\n",
       "    .dataframe tbody tr th {\n",
       "        vertical-align: top;\n",
       "    }\n",
       "\n",
       "    .dataframe thead th {\n",
       "        text-align: right;\n",
       "    }\n",
       "</style>\n",
       "<table border=\"1\" class=\"dataframe\">\n",
       "  <thead>\n",
       "    <tr style=\"text-align: right;\">\n",
       "      <th></th>\n",
       "      <th>start</th>\n",
       "      <th>stop</th>\n",
       "      <th>channel</th>\n",
       "      <th>title</th>\n",
       "      <th>sub-title</th>\n",
       "      <th>length</th>\n",
       "    </tr>\n",
       "  </thead>\n",
       "  <tbody>\n",
       "    <tr>\n",
       "      <th>0</th>\n",
       "      <td>20241218180000 +0000</td>\n",
       "      <td>20241218183000 +0000</td>\n",
       "      <td>I2.1.44246.zap2it.com</td>\n",
       "      <td>Sesame Street</td>\n",
       "      <td>Monster Truckin'</td>\n",
       "      <td>30</td>\n",
       "    </tr>\n",
       "    <tr>\n",
       "      <th>1</th>\n",
       "      <td>20241218183000 +0000</td>\n",
       "      <td>20241218190000 +0000</td>\n",
       "      <td>I2.1.44246.zap2it.com</td>\n",
       "      <td>Molly of Denali</td>\n",
       "      <td>Seal Dance; Snowboarding Qyah Style</td>\n",
       "      <td>30</td>\n",
       "    </tr>\n",
       "    <tr>\n",
       "      <th>2</th>\n",
       "      <td>20241218190000 +0000</td>\n",
       "      <td>20241218193000 +0000</td>\n",
       "      <td>I2.1.44246.zap2it.com</td>\n",
       "      <td>Xavier Riddle and the Secret Museum</td>\n",
       "      <td>We Are Siegel and Shuster; I Am Edmonia Lewis</td>\n",
       "      <td>30</td>\n",
       "    </tr>\n",
       "    <tr>\n",
       "      <th>3</th>\n",
       "      <td>20241218193000 +0000</td>\n",
       "      <td>20241218200000 +0000</td>\n",
       "      <td>I2.1.44246.zap2it.com</td>\n",
       "      <td>Cyberchase</td>\n",
       "      <td>The Domino Dilemma</td>\n",
       "      <td>30</td>\n",
       "    </tr>\n",
       "    <tr>\n",
       "      <th>4</th>\n",
       "      <td>20241218200000 +0000</td>\n",
       "      <td>20241218203000 +0000</td>\n",
       "      <td>I2.1.44246.zap2it.com</td>\n",
       "      <td>Wild Kratts</td>\n",
       "      <td>Adapto the Coyote</td>\n",
       "      <td>30</td>\n",
       "    </tr>\n",
       "  </tbody>\n",
       "</table>\n",
       "</div>"
      ],
      "text/plain": [
       "                  start                  stop                channel  \\\n",
       "0  20241218180000 +0000  20241218183000 +0000  I2.1.44246.zap2it.com   \n",
       "1  20241218183000 +0000  20241218190000 +0000  I2.1.44246.zap2it.com   \n",
       "2  20241218190000 +0000  20241218193000 +0000  I2.1.44246.zap2it.com   \n",
       "3  20241218193000 +0000  20241218200000 +0000  I2.1.44246.zap2it.com   \n",
       "4  20241218200000 +0000  20241218203000 +0000  I2.1.44246.zap2it.com   \n",
       "\n",
       "                                 title  \\\n",
       "0                        Sesame Street   \n",
       "1                      Molly of Denali   \n",
       "2  Xavier Riddle and the Secret Museum   \n",
       "3                           Cyberchase   \n",
       "4                          Wild Kratts   \n",
       "\n",
       "                                       sub-title length  \n",
       "0                               Monster Truckin'     30  \n",
       "1            Seal Dance; Snowboarding Qyah Style     30  \n",
       "2  We Are Siegel and Shuster; I Am Edmonia Lewis     30  \n",
       "3                             The Domino Dilemma     30  \n",
       "4                              Adapto the Coyote     30  "
      ]
     },
     "execution_count": 9,
     "metadata": {},
     "output_type": "execute_result"
    }
   ],
   "source": [
    "pdf = pd.DataFrame(progr_list)\n",
    "\n",
    "# Display the DataFrame\n",
    "pdf.head()"
   ]
  },
  {
   "cell_type": "code",
   "execution_count": 10,
   "id": "d82d3fbf-17a7-4e7f-990b-f07ae384299f",
   "metadata": {},
   "outputs": [],
   "source": [
    "fdf = df[df['display-name1'] == '13.3']"
   ]
  },
  {
   "cell_type": "code",
   "execution_count": 11,
   "id": "001d4f34-bdf8-40e1-986d-de3b2363aeee",
   "metadata": {},
   "outputs": [
    {
     "data": {
      "text/html": [
       "<div>\n",
       "<style scoped>\n",
       "    .dataframe tbody tr th:only-of-type {\n",
       "        vertical-align: middle;\n",
       "    }\n",
       "\n",
       "    .dataframe tbody tr th {\n",
       "        vertical-align: top;\n",
       "    }\n",
       "\n",
       "    .dataframe thead th {\n",
       "        text-align: right;\n",
       "    }\n",
       "</style>\n",
       "<table border=\"1\" class=\"dataframe\">\n",
       "  <thead>\n",
       "    <tr style=\"text-align: right;\">\n",
       "      <th></th>\n",
       "      <th>id</th>\n",
       "      <th>display-name0</th>\n",
       "      <th>display-name1</th>\n",
       "      <th>display-name2</th>\n",
       "    </tr>\n",
       "  </thead>\n",
       "  <tbody>\n",
       "    <tr>\n",
       "      <th>31</th>\n",
       "      <td>I13.3.96405.zap2it.com</td>\n",
       "      <td>13.3 KSFYDT3</td>\n",
       "      <td>13.3</td>\n",
       "      <td>KSFYDT3</td>\n",
       "    </tr>\n",
       "  </tbody>\n",
       "</table>\n",
       "</div>"
      ],
      "text/plain": [
       "                        id display-name0 display-name1 display-name2\n",
       "31  I13.3.96405.zap2it.com  13.3 KSFYDT3          13.3       KSFYDT3"
      ]
     },
     "execution_count": 11,
     "metadata": {},
     "output_type": "execute_result"
    }
   ],
   "source": [
    "fdf"
   ]
  },
  {
   "cell_type": "code",
   "execution_count": 12,
   "id": "0e7d1e55-a157-487a-8d13-7551e31975bf",
   "metadata": {},
   "outputs": [
    {
     "data": {
      "text/html": [
       "<div>\n",
       "<style scoped>\n",
       "    .dataframe tbody tr th:only-of-type {\n",
       "        vertical-align: middle;\n",
       "    }\n",
       "\n",
       "    .dataframe tbody tr th {\n",
       "        vertical-align: top;\n",
       "    }\n",
       "\n",
       "    .dataframe thead th {\n",
       "        text-align: right;\n",
       "    }\n",
       "</style>\n",
       "<table border=\"1\" class=\"dataframe\">\n",
       "  <thead>\n",
       "    <tr style=\"text-align: right;\">\n",
       "      <th></th>\n",
       "      <th>id</th>\n",
       "      <th>display-name0</th>\n",
       "      <th>display-name1</th>\n",
       "      <th>display-name2</th>\n",
       "    </tr>\n",
       "  </thead>\n",
       "  <tbody>\n",
       "    <tr>\n",
       "      <th>0</th>\n",
       "      <td>I2.1.44246.zap2it.com</td>\n",
       "      <td>2.1 KUSDDT</td>\n",
       "      <td>2.1</td>\n",
       "      <td>KUSDDT</td>\n",
       "    </tr>\n",
       "    <tr>\n",
       "      <th>1</th>\n",
       "      <td>I2.2.44248.zap2it.com</td>\n",
       "      <td>2.2 KUSDDT2</td>\n",
       "      <td>2.2</td>\n",
       "      <td>KUSDDT2</td>\n",
       "    </tr>\n",
       "    <tr>\n",
       "      <th>2</th>\n",
       "      <td>I2.3.62638.zap2it.com</td>\n",
       "      <td>2.3 KUSDDT3</td>\n",
       "      <td>2.3</td>\n",
       "      <td>KUSDDT3</td>\n",
       "    </tr>\n",
       "    <tr>\n",
       "      <th>3</th>\n",
       "      <td>I2.4.101941.zap2it.com</td>\n",
       "      <td>2.4 KUSDDT4</td>\n",
       "      <td>2.4</td>\n",
       "      <td>KUSDDT4</td>\n",
       "    </tr>\n",
       "    <tr>\n",
       "      <th>4</th>\n",
       "      <td>I2.6.108220.zap2it.com</td>\n",
       "      <td>2.6 KUSDDT6</td>\n",
       "      <td>2.6</td>\n",
       "      <td>KUSDDT6</td>\n",
       "    </tr>\n",
       "  </tbody>\n",
       "</table>\n",
       "</div>"
      ],
      "text/plain": [
       "                       id display-name0 display-name1 display-name2\n",
       "0   I2.1.44246.zap2it.com    2.1 KUSDDT           2.1        KUSDDT\n",
       "1   I2.2.44248.zap2it.com   2.2 KUSDDT2           2.2       KUSDDT2\n",
       "2   I2.3.62638.zap2it.com   2.3 KUSDDT3           2.3       KUSDDT3\n",
       "3  I2.4.101941.zap2it.com   2.4 KUSDDT4           2.4       KUSDDT4\n",
       "4  I2.6.108220.zap2it.com   2.6 KUSDDT6           2.6       KUSDDT6"
      ]
     },
     "execution_count": 12,
     "metadata": {},
     "output_type": "execute_result"
    }
   ],
   "source": [
    "df.head()"
   ]
  },
  {
   "cell_type": "code",
   "execution_count": 13,
   "id": "3b98a793-733a-439e-b86c-bee94e3a2544",
   "metadata": {},
   "outputs": [],
   "source": [
    "zap_c = fdf['id'].values[0]"
   ]
  },
  {
   "cell_type": "code",
   "execution_count": 14,
   "id": "7eae79de-dcfb-44c6-8993-71fbe5e1f534",
   "metadata": {},
   "outputs": [],
   "source": [
    "kelo_df = pdf[pdf['channel'] == zap_c]"
   ]
  },
  {
   "cell_type": "code",
   "execution_count": 15,
   "id": "b883b2bb-c1a2-44e9-b67f-c89cb4b40133",
   "metadata": {},
   "outputs": [
    {
     "data": {
      "text/html": [
       "<div>\n",
       "<style scoped>\n",
       "    .dataframe tbody tr th:only-of-type {\n",
       "        vertical-align: middle;\n",
       "    }\n",
       "\n",
       "    .dataframe tbody tr th {\n",
       "        vertical-align: top;\n",
       "    }\n",
       "\n",
       "    .dataframe thead th {\n",
       "        text-align: right;\n",
       "    }\n",
       "</style>\n",
       "<table border=\"1\" class=\"dataframe\">\n",
       "  <thead>\n",
       "    <tr style=\"text-align: right;\">\n",
       "      <th></th>\n",
       "      <th>start</th>\n",
       "      <th>stop</th>\n",
       "      <th>channel</th>\n",
       "      <th>title</th>\n",
       "      <th>sub-title</th>\n",
       "      <th>length</th>\n",
       "    </tr>\n",
       "  </thead>\n",
       "  <tbody>\n",
       "    <tr>\n",
       "      <th>119</th>\n",
       "      <td>20241218180000 +0000</td>\n",
       "      <td>20241218190000 +0000</td>\n",
       "      <td>I13.3.96405.zap2it.com</td>\n",
       "      <td>Gunsmoke</td>\n",
       "      <td>The Drummer</td>\n",
       "      <td>60</td>\n",
       "    </tr>\n",
       "    <tr>\n",
       "      <th>120</th>\n",
       "      <td>20241218190000 +0000</td>\n",
       "      <td>20241218200000 +0000</td>\n",
       "      <td>I13.3.96405.zap2it.com</td>\n",
       "      <td>Bonanza</td>\n",
       "      <td>King of the Mountain</td>\n",
       "      <td>60</td>\n",
       "    </tr>\n",
       "    <tr>\n",
       "      <th>121</th>\n",
       "      <td>20241218200000 +0000</td>\n",
       "      <td>20241218203000 +0000</td>\n",
       "      <td>I13.3.96405.zap2it.com</td>\n",
       "      <td>The Rifleman</td>\n",
       "      <td>The Angry Man</td>\n",
       "      <td>30</td>\n",
       "    </tr>\n",
       "    <tr>\n",
       "      <th>122</th>\n",
       "      <td>20241218203000 +0000</td>\n",
       "      <td>20241218210000 +0000</td>\n",
       "      <td>I13.3.96405.zap2it.com</td>\n",
       "      <td>The Rifleman</td>\n",
       "      <td>The Woman</td>\n",
       "      <td>30</td>\n",
       "    </tr>\n",
       "    <tr>\n",
       "      <th>362</th>\n",
       "      <td>20241218210000 +0000</td>\n",
       "      <td>20241218220000 +0000</td>\n",
       "      <td>I13.3.96405.zap2it.com</td>\n",
       "      <td>Wagon Train</td>\n",
       "      <td>Clyde</td>\n",
       "      <td>60</td>\n",
       "    </tr>\n",
       "  </tbody>\n",
       "</table>\n",
       "</div>"
      ],
      "text/plain": [
       "                    start                  stop                 channel  \\\n",
       "119  20241218180000 +0000  20241218190000 +0000  I13.3.96405.zap2it.com   \n",
       "120  20241218190000 +0000  20241218200000 +0000  I13.3.96405.zap2it.com   \n",
       "121  20241218200000 +0000  20241218203000 +0000  I13.3.96405.zap2it.com   \n",
       "122  20241218203000 +0000  20241218210000 +0000  I13.3.96405.zap2it.com   \n",
       "362  20241218210000 +0000  20241218220000 +0000  I13.3.96405.zap2it.com   \n",
       "\n",
       "            title             sub-title length  \n",
       "119      Gunsmoke           The Drummer     60  \n",
       "120       Bonanza  King of the Mountain     60  \n",
       "121  The Rifleman         The Angry Man     30  \n",
       "122  The Rifleman             The Woman     30  \n",
       "362   Wagon Train                 Clyde     60  "
      ]
     },
     "execution_count": 15,
     "metadata": {},
     "output_type": "execute_result"
    }
   ],
   "source": [
    "kelo_df.head()"
   ]
  },
  {
   "cell_type": "code",
   "execution_count": 16,
   "id": "e78d38c6-b74f-41ce-b0f1-252a10284876",
   "metadata": {},
   "outputs": [
    {
     "data": {
      "text/html": [
       "<div>\n",
       "<style scoped>\n",
       "    .dataframe tbody tr th:only-of-type {\n",
       "        vertical-align: middle;\n",
       "    }\n",
       "\n",
       "    .dataframe tbody tr th {\n",
       "        vertical-align: top;\n",
       "    }\n",
       "\n",
       "    .dataframe thead th {\n",
       "        text-align: right;\n",
       "    }\n",
       "</style>\n",
       "<table border=\"1\" class=\"dataframe\">\n",
       "  <thead>\n",
       "    <tr style=\"text-align: right;\">\n",
       "      <th></th>\n",
       "      <th>start</th>\n",
       "      <th>stop</th>\n",
       "      <th>channel</th>\n",
       "      <th>title</th>\n",
       "      <th>sub-title</th>\n",
       "      <th>length</th>\n",
       "    </tr>\n",
       "  </thead>\n",
       "  <tbody>\n",
       "    <tr>\n",
       "      <th>13528</th>\n",
       "      <td>20241225133000 +0000</td>\n",
       "      <td>20241225140000 +0000</td>\n",
       "      <td>I13.3.96405.zap2it.com</td>\n",
       "      <td>Leave It to Beaver</td>\n",
       "      <td>Long Distance Call</td>\n",
       "      <td>30</td>\n",
       "    </tr>\n",
       "    <tr>\n",
       "      <th>13529</th>\n",
       "      <td>20241225140000 +0000</td>\n",
       "      <td>20241225150000 +0000</td>\n",
       "      <td>I13.3.96405.zap2it.com</td>\n",
       "      <td>Perry Mason</td>\n",
       "      <td>The Case of the Difficult Detour</td>\n",
       "      <td>60</td>\n",
       "    </tr>\n",
       "    <tr>\n",
       "      <th>13768</th>\n",
       "      <td>20241225150000 +0000</td>\n",
       "      <td>20241225160000 +0000</td>\n",
       "      <td>I13.3.96405.zap2it.com</td>\n",
       "      <td>Matlock</td>\n",
       "      <td>The Secret</td>\n",
       "      <td>60</td>\n",
       "    </tr>\n",
       "    <tr>\n",
       "      <th>13769</th>\n",
       "      <td>20241225160000 +0000</td>\n",
       "      <td>20241225170000 +0000</td>\n",
       "      <td>I13.3.96405.zap2it.com</td>\n",
       "      <td>In the Heat of the Night</td>\n",
       "      <td>Legacy</td>\n",
       "      <td>60</td>\n",
       "    </tr>\n",
       "    <tr>\n",
       "      <th>13770</th>\n",
       "      <td>20241225170000 +0000</td>\n",
       "      <td>20241225180000 +0000</td>\n",
       "      <td>I13.3.96405.zap2it.com</td>\n",
       "      <td>The Waltons</td>\n",
       "      <td>The Children's Carol</td>\n",
       "      <td>60</td>\n",
       "    </tr>\n",
       "  </tbody>\n",
       "</table>\n",
       "</div>"
      ],
      "text/plain": [
       "                      start                  stop                 channel  \\\n",
       "13528  20241225133000 +0000  20241225140000 +0000  I13.3.96405.zap2it.com   \n",
       "13529  20241225140000 +0000  20241225150000 +0000  I13.3.96405.zap2it.com   \n",
       "13768  20241225150000 +0000  20241225160000 +0000  I13.3.96405.zap2it.com   \n",
       "13769  20241225160000 +0000  20241225170000 +0000  I13.3.96405.zap2it.com   \n",
       "13770  20241225170000 +0000  20241225180000 +0000  I13.3.96405.zap2it.com   \n",
       "\n",
       "                          title                         sub-title length  \n",
       "13528        Leave It to Beaver                Long Distance Call     30  \n",
       "13529               Perry Mason  The Case of the Difficult Detour     60  \n",
       "13768                   Matlock                        The Secret     60  \n",
       "13769  In the Heat of the Night                            Legacy     60  \n",
       "13770               The Waltons              The Children's Carol     60  "
      ]
     },
     "execution_count": 16,
     "metadata": {},
     "output_type": "execute_result"
    }
   ],
   "source": [
    "kelo_df.tail()"
   ]
  },
  {
   "cell_type": "code",
   "execution_count": 17,
   "id": "8f34d9c0-6406-4554-b19d-ad3802afa748",
   "metadata": {},
   "outputs": [
    {
     "data": {
      "text/html": [
       "<div>\n",
       "<style scoped>\n",
       "    .dataframe tbody tr th:only-of-type {\n",
       "        vertical-align: middle;\n",
       "    }\n",
       "\n",
       "    .dataframe tbody tr th {\n",
       "        vertical-align: top;\n",
       "    }\n",
       "\n",
       "    .dataframe thead th {\n",
       "        text-align: right;\n",
       "    }\n",
       "</style>\n",
       "<table border=\"1\" class=\"dataframe\">\n",
       "  <thead>\n",
       "    <tr style=\"text-align: right;\">\n",
       "      <th></th>\n",
       "      <th>start</th>\n",
       "      <th>stop</th>\n",
       "      <th>channel</th>\n",
       "      <th>title</th>\n",
       "      <th>sub-title</th>\n",
       "      <th>length</th>\n",
       "    </tr>\n",
       "  </thead>\n",
       "  <tbody>\n",
       "  </tbody>\n",
       "</table>\n",
       "</div>"
      ],
      "text/plain": [
       "Empty DataFrame\n",
       "Columns: [start, stop, channel, title, sub-title, length]\n",
       "Index: []"
      ]
     },
     "execution_count": 17,
     "metadata": {},
     "output_type": "execute_result"
    }
   ],
   "source": [
    "kelo_df[kelo_df['title'].str.contains(\"NCIS\")]"
   ]
  },
  {
   "cell_type": "code",
   "execution_count": 18,
   "id": "d50d974d-a341-463a-a211-6423bff2d4d6",
   "metadata": {},
   "outputs": [
    {
     "name": "stdout",
     "output_type": "stream",
     "text": [
      "Current time in GMT: 2024-12-20 08:46:04 UTC\n"
     ]
    }
   ],
   "source": [
    "from datetime import datetime, timezone, timedelta\n",
    "\n",
    "# Get current time in UTC\n",
    "now_utc = datetime.now(timezone.utc)\n",
    "\n",
    "# Format the time as a human-readable string\n",
    "gmt_time_str = now_utc.strftime(\"%Y-%m-%d %H:%M:%S %Z\") \n",
    "\n",
    "print(f\"Current time in GMT: {gmt_time_str}\")"
   ]
  },
  {
   "cell_type": "code",
   "execution_count": 19,
   "id": "f5ab96d7-56cd-45b3-9672-4d327e5b3414",
   "metadata": {},
   "outputs": [
    {
     "name": "stdout",
     "output_type": "stream",
     "text": [
      "Current time in GMT: 20241220084604\n"
     ]
    }
   ],
   "source": [
    "gmt_time_str = now_utc.strftime(\"%Y%m%d%H%M%S\") \n",
    "\n",
    "print(f\"Current time in GMT: {gmt_time_str}\")"
   ]
  },
  {
   "cell_type": "code",
   "execution_count": 20,
   "id": "f8b51397-caf0-4c92-a18d-87fc984f06d1",
   "metadata": {},
   "outputs": [
    {
     "name": "stdout",
     "output_type": "stream",
     "text": [
      "Time after adding one hour: 20241220094604\n"
     ]
    }
   ],
   "source": [
    "one_hour_later = now_utc + timedelta(hours=1)\n",
    "# Format the time as a human-readable string\n",
    "formatted_time = one_hour_later.strftime(\"%Y%m%d%H%M%S\")\n",
    "\n",
    "print(f\"Time after adding one hour: {formatted_time}\")"
   ]
  },
  {
   "cell_type": "code",
   "execution_count": 21,
   "id": "64893471-1da9-45ff-a63e-de04b2ee988b",
   "metadata": {},
   "outputs": [],
   "source": [
    "tqdf = kelo_df[kelo_df['start'] > gmt_time_str]"
   ]
  },
  {
   "cell_type": "code",
   "execution_count": 22,
   "id": "7853d698-cf41-48cd-944a-8a42acc1aaf8",
   "metadata": {},
   "outputs": [
    {
     "data": {
      "text/plain": [
       "(186, 6)"
      ]
     },
     "execution_count": 22,
     "metadata": {},
     "output_type": "execute_result"
    }
   ],
   "source": [
    "tqdf.shape\n"
   ]
  },
  {
   "cell_type": "code",
   "execution_count": 23,
   "id": "3b0e5e0b-3f81-40c8-9839-9ce9ee0b5a07",
   "metadata": {},
   "outputs": [
    {
     "data": {
      "text/html": [
       "<div>\n",
       "<style scoped>\n",
       "    .dataframe tbody tr th:only-of-type {\n",
       "        vertical-align: middle;\n",
       "    }\n",
       "\n",
       "    .dataframe tbody tr th {\n",
       "        vertical-align: top;\n",
       "    }\n",
       "\n",
       "    .dataframe thead th {\n",
       "        text-align: right;\n",
       "    }\n",
       "</style>\n",
       "<table border=\"1\" class=\"dataframe\">\n",
       "  <thead>\n",
       "    <tr style=\"text-align: right;\">\n",
       "      <th></th>\n",
       "      <th>start</th>\n",
       "      <th>stop</th>\n",
       "      <th>channel</th>\n",
       "      <th>title</th>\n",
       "      <th>sub-title</th>\n",
       "      <th>length</th>\n",
       "    </tr>\n",
       "  </thead>\n",
       "  <tbody>\n",
       "    <tr>\n",
       "      <th>3366</th>\n",
       "      <td>20241220090500 +0000</td>\n",
       "      <td>20241220100000 +0000</td>\n",
       "      <td>I13.3.96405.zap2it.com</td>\n",
       "      <td>Barnaby Jones</td>\n",
       "      <td>The Medium</td>\n",
       "      <td>55</td>\n",
       "    </tr>\n",
       "    <tr>\n",
       "      <th>3367</th>\n",
       "      <td>20241220100000 +0000</td>\n",
       "      <td>20241220103000 +0000</td>\n",
       "      <td>I13.3.96405.zap2it.com</td>\n",
       "      <td>Highway Patrol</td>\n",
       "      <td>Taxi</td>\n",
       "      <td>30</td>\n",
       "    </tr>\n",
       "    <tr>\n",
       "      <th>3368</th>\n",
       "      <td>20241220103000 +0000</td>\n",
       "      <td>20241220110000 +0000</td>\n",
       "      <td>I13.3.96405.zap2it.com</td>\n",
       "      <td>Dragnet</td>\n",
       "      <td>The Phony Police Racket</td>\n",
       "      <td>30</td>\n",
       "    </tr>\n",
       "    <tr>\n",
       "      <th>3369</th>\n",
       "      <td>20241220110000 +0000</td>\n",
       "      <td>20241220113000 +0000</td>\n",
       "      <td>I13.3.96405.zap2it.com</td>\n",
       "      <td>Adam-12</td>\n",
       "      <td>Alcohol</td>\n",
       "      <td>30</td>\n",
       "    </tr>\n",
       "    <tr>\n",
       "      <th>3370</th>\n",
       "      <td>20241220113000 +0000</td>\n",
       "      <td>20241220120000 +0000</td>\n",
       "      <td>I13.3.96405.zap2it.com</td>\n",
       "      <td>Adam-12</td>\n",
       "      <td>Credit Risk</td>\n",
       "      <td>30</td>\n",
       "    </tr>\n",
       "  </tbody>\n",
       "</table>\n",
       "</div>"
      ],
      "text/plain": [
       "                     start                  stop                 channel  \\\n",
       "3366  20241220090500 +0000  20241220100000 +0000  I13.3.96405.zap2it.com   \n",
       "3367  20241220100000 +0000  20241220103000 +0000  I13.3.96405.zap2it.com   \n",
       "3368  20241220103000 +0000  20241220110000 +0000  I13.3.96405.zap2it.com   \n",
       "3369  20241220110000 +0000  20241220113000 +0000  I13.3.96405.zap2it.com   \n",
       "3370  20241220113000 +0000  20241220120000 +0000  I13.3.96405.zap2it.com   \n",
       "\n",
       "               title                sub-title length  \n",
       "3366   Barnaby Jones               The Medium     55  \n",
       "3367  Highway Patrol                     Taxi     30  \n",
       "3368         Dragnet  The Phony Police Racket     30  \n",
       "3369         Adam-12                  Alcohol     30  \n",
       "3370         Adam-12              Credit Risk     30  "
      ]
     },
     "execution_count": 23,
     "metadata": {},
     "output_type": "execute_result"
    }
   ],
   "source": [
    "tqdf.head()"
   ]
  },
  {
   "cell_type": "code",
   "execution_count": 24,
   "id": "d882756a-9a7e-4e83-ab54-988db4b96740",
   "metadata": {},
   "outputs": [
    {
     "data": {
      "text/plain": [
       "(248, 6)"
      ]
     },
     "execution_count": 24,
     "metadata": {},
     "output_type": "execute_result"
    }
   ],
   "source": [
    "kelo_df.shape"
   ]
  },
  {
   "cell_type": "code",
   "execution_count": 25,
   "id": "fe89cf3a-7c28-4f4b-b8a8-ded07304ee98",
   "metadata": {},
   "outputs": [
    {
     "data": {
      "text/plain": [
       "'20241220094604'"
      ]
     },
     "execution_count": 25,
     "metadata": {},
     "output_type": "execute_result"
    }
   ],
   "source": [
    "formatted_time"
   ]
  },
  {
   "cell_type": "code",
   "execution_count": 26,
   "id": "33f11c8f-add8-4836-97cd-ce3eee475267",
   "metadata": {},
   "outputs": [],
   "source": [
    "tqqdf = tqdf[tqdf['stop'] < formatted_time]"
   ]
  },
  {
   "cell_type": "code",
   "execution_count": 27,
   "id": "3b49650f-85dd-4192-9312-b6cd038a3ad5",
   "metadata": {},
   "outputs": [
    {
     "data": {
      "text/plain": [
       "(0, 6)"
      ]
     },
     "execution_count": 27,
     "metadata": {},
     "output_type": "execute_result"
    }
   ],
   "source": [
    "tqqdf.shape"
   ]
  },
  {
   "cell_type": "code",
   "execution_count": 28,
   "id": "1061bf31-546f-460d-9a01-db5a0644d0e2",
   "metadata": {},
   "outputs": [
    {
     "data": {
      "text/html": [
       "<div>\n",
       "<style scoped>\n",
       "    .dataframe tbody tr th:only-of-type {\n",
       "        vertical-align: middle;\n",
       "    }\n",
       "\n",
       "    .dataframe tbody tr th {\n",
       "        vertical-align: top;\n",
       "    }\n",
       "\n",
       "    .dataframe thead th {\n",
       "        text-align: right;\n",
       "    }\n",
       "</style>\n",
       "<table border=\"1\" class=\"dataframe\">\n",
       "  <thead>\n",
       "    <tr style=\"text-align: right;\">\n",
       "      <th></th>\n",
       "      <th>start</th>\n",
       "      <th>stop</th>\n",
       "      <th>channel</th>\n",
       "      <th>title</th>\n",
       "      <th>sub-title</th>\n",
       "      <th>length</th>\n",
       "    </tr>\n",
       "  </thead>\n",
       "  <tbody>\n",
       "  </tbody>\n",
       "</table>\n",
       "</div>"
      ],
      "text/plain": [
       "Empty DataFrame\n",
       "Columns: [start, stop, channel, title, sub-title, length]\n",
       "Index: []"
      ]
     },
     "execution_count": 28,
     "metadata": {},
     "output_type": "execute_result"
    }
   ],
   "source": [
    "tqqdf.head()"
   ]
  },
  {
   "cell_type": "code",
   "execution_count": 29,
   "id": "2b68dc14-4ed2-4b7c-a7f3-d18ff0c1565b",
   "metadata": {},
   "outputs": [
    {
     "name": "stdout",
     "output_type": "stream",
     "text": [
      "Top of the hour: 2024-12-20 08:00:00+00:00\n"
     ]
    }
   ],
   "source": [
    "from datetime import datetime, timedelta\n",
    "\n",
    "def top_of_the_hour():\n",
    "  \"\"\"\n",
    "  Calculates the datetime object representing the top of the current hour.\n",
    "\n",
    "  Returns:\n",
    "    datetime: The datetime object for the top of the current hour.\n",
    "  \"\"\"\n",
    "  #now = datetime.now()\n",
    "  now_utc = datetime.now(timezone.utc)\n",
    "  now = now_utc\n",
    "\n",
    "  if now.minute == 0:\n",
    "    return now \n",
    "  else:\n",
    "    # Calculate the time difference to the next hour\n",
    "    next_hour = now #+ timedelta(hours=1)\n",
    "    next_hour = next_hour.replace(minute=0, second=0, microsecond=0)\n",
    "    return next_hour\n",
    "\n",
    "# Get the datetime object for the top of the current hour\n",
    "top_of_hour = top_of_the_hour()\n",
    "\n",
    "# Format and print the result\n",
    "print(f\"Top of the hour: {top_of_hour}\") "
   ]
  },
  {
   "cell_type": "code",
   "execution_count": 30,
   "id": "7c51c495-755b-41b2-8f01-7d8a0490b4b6",
   "metadata": {},
   "outputs": [
    {
     "data": {
      "text/plain": [
       "datetime.datetime"
      ]
     },
     "execution_count": 30,
     "metadata": {},
     "output_type": "execute_result"
    }
   ],
   "source": [
    "type(top_of_hour)"
   ]
  },
  {
   "cell_type": "code",
   "execution_count": 31,
   "id": "00e702f4-d05c-4078-8dd5-ba42d1b6fbc7",
   "metadata": {},
   "outputs": [],
   "source": [
    "gmt_time_str = top_of_hour.strftime(\"%Y%m%d%H%M%S\") \n"
   ]
  },
  {
   "cell_type": "code",
   "execution_count": 32,
   "id": "d0cce43c-1ccb-4dc0-9c58-23bbb5292ce9",
   "metadata": {},
   "outputs": [
    {
     "data": {
      "text/plain": [
       "'20241220080000'"
      ]
     },
     "execution_count": 32,
     "metadata": {},
     "output_type": "execute_result"
    }
   ],
   "source": [
    "gmt_time_str"
   ]
  },
  {
   "cell_type": "code",
   "execution_count": 33,
   "id": "7a94c745-be2d-43be-95df-85d527577938",
   "metadata": {},
   "outputs": [],
   "source": [
    "tqdf = kelo_df[kelo_df['start'] > gmt_time_str]"
   ]
  },
  {
   "cell_type": "code",
   "execution_count": 34,
   "id": "a1ccb068-69f7-4226-a1c9-61d202ccfb71",
   "metadata": {},
   "outputs": [
    {
     "data": {
      "text/html": [
       "<div>\n",
       "<style scoped>\n",
       "    .dataframe tbody tr th:only-of-type {\n",
       "        vertical-align: middle;\n",
       "    }\n",
       "\n",
       "    .dataframe tbody tr th {\n",
       "        vertical-align: top;\n",
       "    }\n",
       "\n",
       "    .dataframe thead th {\n",
       "        text-align: right;\n",
       "    }\n",
       "</style>\n",
       "<table border=\"1\" class=\"dataframe\">\n",
       "  <thead>\n",
       "    <tr style=\"text-align: right;\">\n",
       "      <th></th>\n",
       "      <th>start</th>\n",
       "      <th>stop</th>\n",
       "      <th>channel</th>\n",
       "      <th>title</th>\n",
       "      <th>sub-title</th>\n",
       "      <th>length</th>\n",
       "    </tr>\n",
       "  </thead>\n",
       "  <tbody>\n",
       "    <tr>\n",
       "      <th>3111</th>\n",
       "      <td>20241220080500 +0000</td>\n",
       "      <td>20241220090500 +0000</td>\n",
       "      <td>I13.3.96405.zap2it.com</td>\n",
       "      <td>Cannon</td>\n",
       "      <td>The Island Caper</td>\n",
       "      <td>60</td>\n",
       "    </tr>\n",
       "  </tbody>\n",
       "</table>\n",
       "</div>"
      ],
      "text/plain": [
       "                     start                  stop                 channel  \\\n",
       "3111  20241220080500 +0000  20241220090500 +0000  I13.3.96405.zap2it.com   \n",
       "\n",
       "       title         sub-title length  \n",
       "3111  Cannon  The Island Caper     60  "
      ]
     },
     "execution_count": 34,
     "metadata": {},
     "output_type": "execute_result"
    }
   ],
   "source": [
    "tqdf.head(1)"
   ]
  },
  {
   "cell_type": "code",
   "execution_count": null,
   "id": "04cd872c-69db-494e-abfa-f01eae44e287",
   "metadata": {},
   "outputs": [],
   "source": []
  }
 ],
 "metadata": {
  "kernelspec": {
   "display_name": "Python 3 (ipykernel)",
   "language": "python",
   "name": "python3"
  },
  "language_info": {
   "codemirror_mode": {
    "name": "ipython",
    "version": 3
   },
   "file_extension": ".py",
   "mimetype": "text/x-python",
   "name": "python",
   "nbconvert_exporter": "python",
   "pygments_lexer": "ipython3",
   "version": "3.10.8"
  }
 },
 "nbformat": 4,
 "nbformat_minor": 5
}
