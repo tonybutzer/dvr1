{
 "cells": [
  {
   "cell_type": "code",
   "execution_count": 2,
   "id": "39810fa2-cdb6-4548-a395-79a0ec76eb52",
   "metadata": {},
   "outputs": [
    {
     "name": "stdout",
     "output_type": "stream",
     "text": [
      "total 1.9G\n",
      "-rw-rw-r-- 1 tony tony 1.9G Jan 11 13:54 tony1nbc.ts\n"
     ]
    }
   ],
   "source": [
    "! ls -lh ~/Videos"
   ]
  },
  {
   "cell_type": "code",
   "execution_count": 4,
   "id": "da529e26-6e26-4b1e-8175-27448d7a495c",
   "metadata": {},
   "outputs": [
    {
     "name": "stdout",
     "output_type": "stream",
     "text": [
      "Miniforge3-Linux-x86_64.sh  record-program.tvpi\n"
     ]
    }
   ],
   "source": [
    "! ls ~/Downloads"
   ]
  },
  {
   "cell_type": "code",
   "execution_count": null,
   "id": "9bbbfced-0c95-4692-b124-c163a23ddbb8",
   "metadata": {},
   "outputs": [],
   "source": []
  }
 ],
 "metadata": {
  "kernelspec": {
   "display_name": "Python 3 (ipykernel)",
   "language": "python",
   "name": "python3"
  },
  "language_info": {
   "codemirror_mode": {
    "name": "ipython",
    "version": 3
   },
   "file_extension": ".py",
   "mimetype": "text/x-python",
   "name": "python",
   "nbconvert_exporter": "python",
   "pygments_lexer": "ipython3",
   "version": "3.12.8"
  }
 },
 "nbformat": 4,
 "nbformat_minor": 5
}
