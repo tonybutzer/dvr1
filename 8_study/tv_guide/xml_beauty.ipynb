{
 "cells": [
  {
   "cell_type": "code",
   "execution_count": 1,
   "id": "88ea3577-030b-4ac3-aba8-d54478eb7205",
   "metadata": {},
   "outputs": [
    {
     "name": "stdout",
     "output_type": "stream",
     "text": [
      "a.xml  beets  DaveMattthewsBand  example.xml  xmltv.xml\n"
     ]
    }
   ],
   "source": [
    "! ls /path/to/tvseries/"
   ]
  },
  {
   "cell_type": "code",
   "execution_count": 3,
   "id": "0d445b06-03a6-4799-ac9d-3dfb495007e8",
   "metadata": {},
   "outputs": [],
   "source": [
    "#! head /path/to/tvseries/xmltv.xml"
   ]
  },
  {
   "cell_type": "code",
   "execution_count": 4,
   "id": "76926201-c91b-4a8b-b078-4ee3b4acccb7",
   "metadata": {},
   "outputs": [],
   "source": [
    "import xml.etree.ElementTree as ET"
   ]
  },
  {
   "cell_type": "code",
   "execution_count": 5,
   "id": "37a2b087-b670-409f-be29-ed08aa400fed",
   "metadata": {},
   "outputs": [],
   "source": [
    "ugly = '/path/to/tvseries/xmltv.xml'\n",
    "tree = ET.parse(ugly)\n",
    "root = tree.getroot()"
   ]
  },
  {
   "cell_type": "code",
   "execution_count": 6,
   "id": "49acc88f-1346-432e-a1e8-13a6a5e98f0a",
   "metadata": {},
   "outputs": [],
   "source": [
    "\n",
    "file_name = './pretty_xmltv.xml'\n",
    "tree = ET.ElementTree(root)\n",
    "ET.indent(tree, space=\"\\t\", level=0)\n",
    "tree.write(file_name, encoding=\"utf-8\")"
   ]
  },
  {
   "cell_type": "code",
   "execution_count": null,
   "id": "60a39644-4547-46c9-b610-564dcdfdda8a",
   "metadata": {},
   "outputs": [],
   "source": []
  }
 ],
 "metadata": {
  "kernelspec": {
   "display_name": "Python 3 (ipykernel)",
   "language": "python",
   "name": "python3"
  },
  "language_info": {
   "codemirror_mode": {
    "name": "ipython",
    "version": 3
   },
   "file_extension": ".py",
   "mimetype": "text/x-python",
   "name": "python",
   "nbconvert_exporter": "python",
   "pygments_lexer": "ipython3",
   "version": "3.10.8"
  }
 },
 "nbformat": 4,
 "nbformat_minor": 5
}
