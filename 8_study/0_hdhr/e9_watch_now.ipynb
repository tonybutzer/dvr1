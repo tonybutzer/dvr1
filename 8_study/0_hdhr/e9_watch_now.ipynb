{
 "cells": [
  {
   "cell_type": "code",
   "execution_count": 41,
   "id": "da208db4-b2c2-4325-8c85-a23ab6173861",
   "metadata": {},
   "outputs": [],
   "source": [
    "import logging\n"
   ]
  },
  {
   "cell_type": "code",
   "execution_count": 42,
   "id": "d74305c6-4d2f-4c4a-a5e3-07834ad1950a",
   "metadata": {},
   "outputs": [],
   "source": [
    "from dotenv import load_dotenv\n",
    "import os\n",
    "#import json\n",
    "import xmltodict"
   ]
  },
  {
   "cell_type": "code",
   "execution_count": 43,
   "id": "3d1ef5f2-dad3-4789-8eec-f4d9078b288d",
   "metadata": {},
   "outputs": [],
   "source": [
    "from libdvr.util import run_command"
   ]
  },
  {
   "cell_type": "code",
   "execution_count": 44,
   "id": "4c3a3c1f-7e08-4bd7-b6b3-6c1e6eb19ef7",
   "metadata": {},
   "outputs": [],
   "source": [
    "from importlib import reload\n",
    "import libdvr\n",
    "reload(libdvr.titan_classes) \n",
    "from libdvr.titan_classes import get_files_titan_tvvi, convert_gmt_utc, build_record_titan_df, make_at_time, clean_string\n",
    "from libdvr.titan_classes import TITAN"
   ]
  },
  {
   "cell_type": "code",
   "execution_count": 45,
   "id": "b18b7182-3390-457d-aa4a-f63d10c6a7ab",
   "metadata": {},
   "outputs": [
    {
     "data": {
      "text/plain": [
       "('10B16BC7', '192.168.0.151')"
      ]
     },
     "execution_count": 45,
     "metadata": {},
     "output_type": "execute_result"
    }
   ],
   "source": [
    "# Load environment variables from the .env file\n",
    "load_dotenv()\n",
    "\n",
    "# Access environment variables\n",
    "TUNER_ID = os.getenv('TUNER_ID')\n",
    "TUNER_IP = os.getenv('TUNER_IP')\n",
    "\n",
    "TUNER_ID, TUNER_IP"
   ]
  },
  {
   "cell_type": "code",
   "execution_count": 46,
   "id": "c6a642f6-c8cd-44e4-9cf8-26c185b8501f",
   "metadata": {},
   "outputs": [
    {
     "data": {
      "text/plain": [
       "'/home/tony/Videos'"
      ]
     },
     "execution_count": 46,
     "metadata": {},
     "output_type": "execute_result"
    }
   ],
   "source": [
    "RECORDINGS = os.getenv('DVR_RECORDINGS')\n",
    "RECORDINGS"
   ]
  },
  {
   "cell_type": "code",
   "execution_count": 47,
   "id": "454d46ce-80e0-48f9-928e-30042b1d82d8",
   "metadata": {},
   "outputs": [],
   "source": [
    "DVR_HOME = '/home/tony/DVR'"
   ]
  },
  {
   "cell_type": "markdown",
   "id": "8c716ef5-a53b-4b80-9bba-82ab7beba43c",
   "metadata": {},
   "source": [
    "# LOGGING"
   ]
  },
  {
   "cell_type": "code",
   "execution_count": 48,
   "id": "02ca3a9e-2912-42aa-902c-9347257781ad",
   "metadata": {},
   "outputs": [],
   "source": [
    "# Configure logging\n",
    "logging.basicConfig(\n",
    "    filename=\"/home/tony/DVR/log/dvr.log\", \n",
    "    level=logging.INFO, \n",
    "    format=\"%(asctime)s - %(levelname)s - %(message)s\"\n",
    ")\n",
    "\n",
    "# Create a logger\n",
    "logger = logging.getLogger(__name__)\n",
    "\n",
    "# Log some messages\n",
    "logger.info(\"DVR application started.\")\n",
    "# logger.warning(\"Low disk space detected.\")\n",
    "# logger.error(\"Motion sensor malfunction.\")"
   ]
  },
  {
   "cell_type": "code",
   "execution_count": 49,
   "id": "880c1bf9-487a-422d-865d-af4744176903",
   "metadata": {},
   "outputs": [
    {
     "data": {
      "text/plain": [
       "['/home/tony/Downloads/watch-program.tvvi']"
      ]
     },
     "execution_count": 49,
     "metadata": {},
     "output_type": "execute_result"
    }
   ],
   "source": [
    "to_be_recorded = get_files_titan_tvvi()\n",
    "to_be_recorded"
   ]
  },
  {
   "cell_type": "code",
   "execution_count": 59,
   "id": "9807a729-22c1-4155-9b1a-7c74d5a6a165",
   "metadata": {},
   "outputs": [],
   "source": [
    "def get_xml(file):\n",
    "    my_fields={}\n",
    "    with open(file) as fd:\n",
    "        doc = xmltodict.parse(fd.read())\n",
    "    my_fields['title'] = doc['tv-viewer-info']['program']['program-title']\n",
    "    my_fields['episode'] = doc['tv-viewer-info']['program']['episode-title']\n",
    "    my_fields['station'] = doc['tv-viewer-info']['program']['station']\n",
    "    my_fields['major'] = doc['tv-viewer-info']['program']['psip-major']\n",
    "    my_fields['minor'] = doc['tv-viewer-info']['program']['psip-minor']\n",
    "    my_fields['duration'] = doc['tv-viewer-info']['program']['duration']\n",
    "    #my_fields['title'] = doc['tv-program-info']['program']['program-title']\n",
    "    return (my_fields)\n",
    "    "
   ]
  },
  {
   "cell_type": "code",
   "execution_count": 60,
   "id": "3090dab6-e526-44d3-a2f2-656a50e74113",
   "metadata": {},
   "outputs": [
    {
     "data": {
      "text/plain": [
       "{'title': 'Killer Cases',\n",
       " 'episode': 'Murder on the Gulf Coast',\n",
       " 'station': 'KSFY-DT4',\n",
       " 'major': '13',\n",
       " 'minor': '4',\n",
       " 'duration': '01:00'}"
      ]
     },
     "execution_count": 60,
     "metadata": {},
     "output_type": "execute_result"
    }
   ],
   "source": [
    "now = get_xml(to_be_recorded[0])\n",
    "now"
   ]
  },
  {
   "cell_type": "code",
   "execution_count": 11,
   "id": "c90221f7-408c-4e5f-837c-fde420169135",
   "metadata": {
    "editable": true,
    "slideshow": {
     "slide_type": ""
    },
    "tags": []
   },
   "outputs": [],
   "source": [
    "#program_todo_list"
   ]
  },
  {
   "cell_type": "code",
   "execution_count": 61,
   "id": "437430b7-e4af-4944-aad5-63b8d526e496",
   "metadata": {},
   "outputs": [
    {
     "name": "stdout",
     "output_type": "stream",
     "text": [
      "Hours: 2\n",
      "Minutes: 45\n",
      "Seconds: 9900\n"
     ]
    }
   ],
   "source": [
    "def duration_to_hms(duration_str):\n",
    "  \"\"\"\n",
    "  Converts a duration string (e.g., \"02:45\") to hours, minutes, and seconds.\n",
    "\n",
    "  Args:\n",
    "    duration_str: The duration string in the format \"HH:MM\" or \"MM:SS\".\n",
    "\n",
    "  Returns:\n",
    "    A tuple containing hours, minutes, and seconds as integers.\n",
    "  \"\"\"\n",
    "  try:\n",
    "    if ':' not in duration_str:\n",
    "      raise ValueError(\"Invalid duration format. Expected 'HH:MM' or 'MM:SS'.\")\n",
    "\n",
    "    parts = duration_str.split(':')\n",
    "    if len(parts) == 2:\n",
    "      hours = int(parts[0]) if parts[0] else 0\n",
    "      minutes = int(parts[1])\n",
    "      seconds = 0\n",
    "    elif len(parts) == 1:\n",
    "      hours = 0\n",
    "      minutes = int(parts[0])\n",
    "      seconds = 0\n",
    "    else:\n",
    "      raise ValueError(\"Invalid duration format. Expected 'HH:MM' or 'MM:SS'.\")\n",
    "\n",
    "    seconds = (hours * 60 + minutes) * 60\n",
    "\n",
    "    return hours, minutes, seconds\n",
    "\n",
    "  except ValueError as e:\n",
    "    print(f\"Error: {e}\")\n",
    "    return None\n",
    "\n",
    "# Example usage:\n",
    "duration = \"02:45\"\n",
    "hours, minutes, seconds = duration_to_hms(duration)\n",
    "\n",
    "if hours is not None:\n",
    "  print(f\"Hours: {hours}\")\n",
    "  print(f\"Minutes: {minutes}\")\n",
    "  print(f\"Seconds: {seconds}\")"
   ]
  },
  {
   "cell_type": "code",
   "execution_count": 62,
   "id": "0266ee74-2cb8-49a5-9f52-a9a92396fac3",
   "metadata": {},
   "outputs": [],
   "source": [
    "def duration(dur):\n",
    "    hours, minutes, seconds = duration_to_hms(dur)\n",
    "    if seconds > 3600 * 2 - 1:\n",
    "        seconds += 3600 + 1800\n",
    "    return seconds"
   ]
  },
  {
   "cell_type": "code",
   "execution_count": 74,
   "id": "e6b80a95-5070-42f7-a0fe-b6503eb04ac3",
   "metadata": {},
   "outputs": [],
   "source": [
    "def get_vchan(a):\n",
    "    chan = a['major']\n",
    "    minor = a['minor']\n",
    "    vchan = f'v{chan}.{minor}'\n",
    "    return vchan"
   ]
  },
  {
   "cell_type": "code",
   "execution_count": 75,
   "id": "02dc9e93-b048-48ec-a0a3-b296d69dd480",
   "metadata": {
    "editable": true,
    "slideshow": {
     "slide_type": ""
    },
    "tags": []
   },
   "outputs": [],
   "source": [
    "def run_at(name, time, dur_seconds, vchan):\n",
    "    global RECORDINGS\n",
    "    global TUNER_IP\n",
    "    cmd=f'echo curl -so {RECORDINGS}/{name} {TUNER_IP}:5004/auto/{vchan}?duration={dur_seconds}| at -t {time}'\n",
    "    logger.info(cmd)\n",
    "    print(cmd)\n",
    "    run_command(cmd)\n",
    "    "
   ]
  },
  {
   "cell_type": "code",
   "execution_count": 79,
   "id": "bb4495c7-885a-4ece-8c9e-04859d508846",
   "metadata": {
    "editable": true,
    "slideshow": {
     "slide_type": ""
    },
    "tags": []
   },
   "outputs": [],
   "source": [
    "from datetime import datetime, timedelta\n",
    "\n",
    "def schedule_record(a):\n",
    "    station = a['station']\n",
    "    ptitle = a['title']\n",
    "    #etitle = a['episode-title']\n",
    "    etitle = a.get('episode', 'One') \n",
    "   \n",
    "    now = datetime.now()\n",
    "    future_time = now + timedelta(seconds=10)\n",
    "    current_time = future_time.strftime(\"%H:%M\") \n",
    "    at_time = current_time\n",
    "    print(at_time)\n",
    "                \n",
    "    name_of_recording = f'{station}_{ptitle}_{etitle}_{at_time}.ts'\n",
    "    clean_name_of_recording = clean_string(name_of_recording)\n",
    "    print(clean_name_of_recording)\n",
    "    # process duration\n",
    "    dur = a['duration']\n",
    "    print(dur)\n",
    "    dur_seconds = duration(dur)\n",
    "    print(dur_seconds)\n",
    "    print(at_time)\n",
    "    vchan = get_vchan(a)\n",
    "    print(vchan)\n",
    "    run_at(clean_name_of_recording, at_time, dur_seconds, vchan)"
   ]
  },
  {
   "cell_type": "code",
   "execution_count": 80,
   "id": "5c16a062-f1f0-4e00-b52a-176a5fcc4ee8",
   "metadata": {},
   "outputs": [
    {
     "name": "stdout",
     "output_type": "stream",
     "text": [
      "21:38\n",
      "KSFY_DT4_Killer_Cases_Murder_on_the_Gulf_Coast_21_38_ts\n",
      "01:00\n",
      "3600\n",
      "21:38\n",
      "v13.4\n",
      "echo curl -so /home/tony/Videos/KSFY_DT4_Killer_Cases_Murder_on_the_Gulf_Coast_21_38_ts 192.168.0.151:5004/auto/v13.4?duration=3600| at -t 21:38\n"
     ]
    }
   ],
   "source": [
    "for show_file in to_be_recorded:\n",
    "    my_record = get_xml(show_file)\n",
    "    schedule_record(my_record)\n",
    "    "
   ]
  },
  {
   "cell_type": "code",
   "execution_count": 81,
   "id": "3803484b-debc-4eb6-b3c0-03d7548bc3b5",
   "metadata": {},
   "outputs": [
    {
     "name": "stdout",
     "output_type": "stream",
     "text": [
      "deleteing: /home/tony/Downloads/watch-program.tvvi\n"
     ]
    }
   ],
   "source": [
    "# clean up tvpi files\n",
    "for xml_file in to_be_recorded:\n",
    "    print('deleteing:', xml_file)\n",
    "    os.remove(xml_file)"
   ]
  },
  {
   "cell_type": "code",
   "execution_count": 20,
   "id": "cc99fb15-a11f-45cb-88c6-8950f40fca0b",
   "metadata": {
    "editable": true,
    "slideshow": {
     "slide_type": ""
    },
    "tags": []
   },
   "outputs": [],
   "source": [
    "#cmd=f'echo curl -o {RECORDINGS}/tony1nbc.ts {TUNER_IP}:5004/auto/v46.1?duration=3600 | at 13:25'\n"
   ]
  },
  {
   "cell_type": "code",
   "execution_count": 21,
   "id": "ecbbb5dc-73f4-4f21-b0ac-feeb8b07dc04",
   "metadata": {
    "editable": true,
    "slideshow": {
     "slide_type": ""
    },
    "tags": []
   },
   "outputs": [],
   "source": [
    "#! echo curl -so /home/tony/Videos/KSFY_DT_Monday_Night_Football_One_202501131915_ts 192.168.0.151:5004/auto/13.1?duration=15300| at 202501131915"
   ]
  }
 ],
 "metadata": {
  "kernelspec": {
   "display_name": "Python 3 (ipykernel)",
   "language": "python",
   "name": "python3"
  },
  "language_info": {
   "codemirror_mode": {
    "name": "ipython",
    "version": 3
   },
   "file_extension": ".py",
   "mimetype": "text/x-python",
   "name": "python",
   "nbconvert_exporter": "python",
   "pygments_lexer": "ipython3",
   "version": "3.12.8"
  }
 },
 "nbformat": 4,
 "nbformat_minor": 5
}
