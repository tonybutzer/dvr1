{
 "cells": [
  {
   "cell_type": "markdown",
   "id": "c883d4b1-8d35-4617-bbc4-b727ecfb4698",
   "metadata": {
    "editable": true,
    "slideshow": {
     "slide_type": ""
    },
    "tags": []
   },
   "source": [
    "# Plan\n",
    "\n",
    "## Todo\n",
    "- clear all unused notebooks\n",
    "- record a few programs tonight\n",
    "- record all football games tomorrow\n",
    "- move subroutines to titan\n",
    "- build df of to be recorded\n",
    "- write record_at_time routine\n",
    "- call this for each item\n",
    "- test video quality on sleepy\n",
    "\n",
    "\n",
    "## Done"
   ]
  },
  {
   "cell_type": "code",
   "execution_count": null,
   "id": "99e17e7d-55dc-4a53-8d62-404c29b63ceb",
   "metadata": {
    "editable": true,
    "slideshow": {
     "slide_type": ""
    },
    "tags": []
   },
   "outputs": [],
   "source": []
  }
 ],
 "metadata": {
  "kernelspec": {
   "display_name": "Python 3 (ipykernel)",
   "language": "python",
   "name": "python3"
  },
  "language_info": {
   "codemirror_mode": {
    "name": "ipython",
    "version": 3
   },
   "file_extension": ".py",
   "mimetype": "text/x-python",
   "name": "python",
   "nbconvert_exporter": "python",
   "pygments_lexer": "ipython3",
   "version": "3.12.8"
  }
 },
 "nbformat": 4,
 "nbformat_minor": 5
}
