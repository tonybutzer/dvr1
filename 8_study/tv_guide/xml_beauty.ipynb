{
 "cells": [
  {
   "cell_type": "code",
   "execution_count": 6,
   "id": "88ea3577-030b-4ac3-aba8-d54478eb7205",
   "metadata": {},
   "outputs": [
    {
     "name": "stdout",
     "output_type": "stream",
     "text": [
      "ls: cannot access '/path/to/tvseries/': No such file or directory\n"
     ]
    }
   ],
   "source": [
    "! ls /path/to/tvseries/"
   ]
  },
  {
   "cell_type": "code",
   "execution_count": 7,
   "id": "0d445b06-03a6-4799-ac9d-3dfb495007e8",
   "metadata": {},
   "outputs": [],
   "source": [
    "#! head /path/to/tvseries/xmltv.xml"
   ]
  },
  {
   "cell_type": "code",
   "execution_count": 8,
   "id": "76926201-c91b-4a8b-b078-4ee3b4acccb7",
   "metadata": {},
   "outputs": [],
   "source": [
    "import xml.etree.ElementTree as ET"
   ]
  },
  {
   "cell_type": "code",
   "execution_count": 9,
   "id": "37a2b087-b670-409f-be29-ed08aa400fed",
   "metadata": {},
   "outputs": [],
   "source": [
    "ugly = '../xmltv.xml'\n",
    "tree = ET.parse(ugly)\n",
    "root = tree.getroot()"
   ]
  },
  {
   "cell_type": "code",
   "execution_count": 10,
   "id": "49acc88f-1346-432e-a1e8-13a6a5e98f0a",
   "metadata": {},
   "outputs": [],
   "source": [
    "\n",
    "file_name = './pretty_xmltv.xml'\n",
    "tree = ET.ElementTree(root)\n",
    "ET.indent(tree, space=\"\\t\", level=0)\n",
    "tree.write(file_name, encoding=\"utf-8\")"
   ]
  },
  {
   "cell_type": "code",
   "execution_count": 11,
   "id": "60a39644-4547-46c9-b610-564dcdfdda8a",
   "metadata": {},
   "outputs": [
    {
     "name": "stdout",
     "output_type": "stream",
     "text": [
      "<tv source-info-url=\"http://tvlistings.zap2it.com/\" source-info-name=\"zap2it.com\" generator-info-name=\"zap2xml.py\" generator-info-url=\"github.com/arantius/zap2xml-py\">\n",
      "\t<channel id=\"I2.1.44246.zap2it.com\">\n",
      "\t\t<display-name>2.1 KUSDDT</display-name>\n",
      "\t\t<display-name>2.1</display-name>\n",
      "\t\t<display-name>KUSDDT</display-name>\n",
      "\t</channel>\n",
      "\t<channel id=\"I2.2.44248.zap2it.com\">\n",
      "\t\t<display-name>2.2 KUSDDT2</display-name>\n",
      "\t\t<display-name>2.2</display-name>\n",
      "\t\t<display-name>KUSDDT2</display-name>\n"
     ]
    }
   ],
   "source": [
    "! head ./pretty_xmltv.xml"
   ]
  },
  {
   "cell_type": "code",
   "execution_count": null,
   "id": "805529bb-d39d-405f-9b10-f6a86870bec4",
   "metadata": {},
   "outputs": [],
   "source": []
  }
 ],
 "metadata": {
  "kernelspec": {
   "display_name": "Python 3 (ipykernel)",
   "language": "python",
   "name": "python3"
  },
  "language_info": {
   "codemirror_mode": {
    "name": "ipython",
    "version": 3
   },
   "file_extension": ".py",
   "mimetype": "text/x-python",
   "name": "python",
   "nbconvert_exporter": "python",
   "pygments_lexer": "ipython3",
   "version": "3.12.8"
  }
 },
 "nbformat": 4,
 "nbformat_minor": 5
}
