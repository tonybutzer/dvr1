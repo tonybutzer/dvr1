{
 "cells": [
  {
   "cell_type": "code",
   "execution_count": 1,
   "id": "44f6af2a-d8c8-4c44-8f35-e4d539308c1f",
   "metadata": {},
   "outputs": [],
   "source": [
    "from datetime import datetime\n",
    "import pytz\n"
   ]
  },
  {
   "cell_type": "code",
   "execution_count": 2,
   "id": "732e78ed-9034-441d-b34d-c6cbf3ec21cf",
   "metadata": {},
   "outputs": [],
   "source": [
    "from libdvr.zap import the_show\n",
    "from libdvr.titan_classes import clean_string, run_at, init_dvr\n"
   ]
  },
  {
   "cell_type": "code",
   "execution_count": 3,
   "id": "e7e7351a-80ee-4652-b235-aae669ec0847",
   "metadata": {},
   "outputs": [
    {
     "data": {
      "text/plain": [
       "<Logger libdvr.titan_classes (INFO)>"
      ]
     },
     "execution_count": 3,
     "metadata": {},
     "output_type": "execute_result"
    }
   ],
   "source": [
    "init_dvr()"
   ]
  },
  {
   "cell_type": "code",
   "execution_count": 4,
   "id": "a1895824-45ff-44a8-adfe-978ebb472d01",
   "metadata": {},
   "outputs": [],
   "source": [
    "def record_the_show(station, start_time):\n",
    "    my_show = the_show(station, start_time)\n",
    "    dur_seconds = my_show['length'].values[0]\n",
    "    station = my_show['vchan'].values[0]\n",
    "    station = f'v{station}'\n",
    "    a = my_show['start'].values[0]\n",
    "    a1 = a.astype('datetime64[us]').astype(datetime) \n",
    "    b1 = a1.astimezone() \n",
    "    title = my_show['title'].values[0]\n",
    "    episode = my_show['sub-title'].values[0]\n",
    "    now = datetime.now()\n",
    "    local_timezone = now.astimezone().tzinfo\n",
    "    local_datetime = b1.replace(tzinfo=pytz.utc).astimezone(local_timezone)\n",
    "    at_time = local_datetime.strftime('%Y%m%d%H%M')\n",
    "    name_of_recording = f'{title}_{episode}_{station}_{at_time}'\n",
    "    clean_name_of_recording = clean_string(name_of_recording)\n",
    "    clean_name_of_recording = f'{clean_name_of_recording}.ts'\n",
    "    run_at(clean_name_of_recording, at_time, dur_seconds, station)\n",
    "    return my_show"
   ]
  },
  {
   "cell_type": "code",
   "execution_count": 5,
   "id": "e341e6c4-ee50-49cb-b002-3c6d4e470d9f",
   "metadata": {},
   "outputs": [],
   "source": [
    "# my_show = record_the_show('11.1', '2345')"
   ]
  },
  {
   "cell_type": "code",
   "execution_count": 6,
   "id": "cdc4842e-a6db-4de4-863e-2e865dc573af",
   "metadata": {},
   "outputs": [],
   "source": [
    "# record_the_show('13.1', '2240')"
   ]
  },
  {
   "cell_type": "code",
   "execution_count": 7,
   "id": "f7c3cd4d-2c31-4627-ba29-e34f61ad81ba",
   "metadata": {},
   "outputs": [],
   "source": [
    "my_days=['Mon','Tue','Wed','Sat']"
   ]
  },
  {
   "cell_type": "code",
   "execution_count": 8,
   "id": "d791e1ad-8d1d-4f9f-9f5f-93fa79303ea0",
   "metadata": {},
   "outputs": [],
   "source": [
    "from datetime import date\n",
    "\n",
    "def is_today_needed(my_days):\n",
    "    today = date.today()\n",
    "    today_weekday = today.strftime('%a')  # Get today's weekday as abbreviated string (e.g., 'Mon')\n",
    "    if today_weekday in my_days:\n",
    "        print(\"Today is one of the specified days.\")\n",
    "        return True\n",
    "    else:\n",
    "        print(\"Today is not one of the specified days.\")\n",
    "        return False"
   ]
  },
  {
   "cell_type": "code",
   "execution_count": 9,
   "id": "71508fbb-4077-4348-888f-893da6025999",
   "metadata": {},
   "outputs": [
    {
     "name": "stdout",
     "output_type": "stream",
     "text": [
      "                   days  station  start\n",
      "0               Mon-Tue     11.1   2000\n",
      "1  Mon-Tue-Wed-Thur-Fri     11.1   1700\n",
      "2  Mon-Tue-Wed-Thur-Fri     11.1   1730\n",
      "3  Mon-Tue-Wed-Thur-Fri     13.1   1730\n",
      "4  Mon-Tue-Wed-Thur-Fri     46.1   1800\n"
     ]
    }
   ],
   "source": [
    "import pandas as pd\n",
    "df = pd.read_csv('/home/tony/.favorite_tv', sep=',') \n",
    "\n",
    "print(df)"
   ]
  },
  {
   "cell_type": "code",
   "execution_count": 10,
   "id": "e14c7b4c-56cc-4c8c-870b-fa444fbdabba",
   "metadata": {},
   "outputs": [],
   "source": [
    "dict_without_index = df.to_dict('records')"
   ]
  },
  {
   "cell_type": "code",
   "execution_count": 11,
   "id": "421fbdbe-df13-42bc-bcdf-530eaea93648",
   "metadata": {},
   "outputs": [
    {
     "data": {
      "text/plain": [
       "[{'days': 'Mon-Tue', 'station': 11.1, 'start': 2000},\n",
       " {'days': 'Mon-Tue-Wed-Thur-Fri', 'station': 11.1, 'start': 1700},\n",
       " {'days': 'Mon-Tue-Wed-Thur-Fri', 'station': 11.1, 'start': 1730},\n",
       " {'days': 'Mon-Tue-Wed-Thur-Fri', 'station': 13.1, 'start': 1730},\n",
       " {'days': 'Mon-Tue-Wed-Thur-Fri', 'station': 46.1, 'start': 1800}]"
      ]
     },
     "execution_count": 11,
     "metadata": {},
     "output_type": "execute_result"
    }
   ],
   "source": [
    "dict_without_index"
   ]
  },
  {
   "cell_type": "code",
   "execution_count": 12,
   "id": "69dd5a3f-cfee-4758-9291-eed0ab718267",
   "metadata": {},
   "outputs": [
    {
     "name": "stdout",
     "output_type": "stream",
     "text": [
      "echo curl -so /home/tony/Videos/NCIS__Origins_All_s_Not_Lost_v11_1_202501202000.ts 192.168.0.151:5004/auto/v11.1?duration=60| at -t 202501202000\n",
      "NCIS: Origins\n",
      "echo curl -so /home/tony/Videos/KELOLAND_News_at_Five_ONE_v11_1_202501201700.ts 192.168.0.151:5004/auto/v11.1?duration=30| at -t 202501201700\n",
      "KELOLAND News at Five\n",
      "echo curl -so /home/tony/Videos/CBS_Evening_News_With_Norah_O_Donnell_ONE_v11_1_202501201730.ts 192.168.0.151:5004/auto/v11.1?duration=30| at -t 202501201730\n",
      "CBS Evening News With Norah O'Donnell\n",
      "echo curl -so /home/tony/Videos/ABC_World_News_Tonight_With_David_Muir_ONE_v13_1_202501201730.ts 192.168.0.151:5004/auto/v13.1?duration=30| at -t 202501201730\n",
      "ABC World News Tonight With David Muir\n",
      "echo curl -so /home/tony/Videos/NBC_Nightly_News_With_Lester_Holt_ONE_v46_1_202501201800.ts 192.168.0.151:5004/auto/v46.1?duration=30| at -t 202501201800\n",
      "NBC Nightly News With Lester Holt\n"
     ]
    }
   ],
   "source": [
    "for d in dict_without_index:\n",
    "    # print(d)\n",
    "    station = str(d['station'])\n",
    "    start = str(d['start'])\n",
    "    my_show = record_the_show(station, start)\n",
    "    print(my_show['title'].values[0])\n"
   ]
  },
  {
   "cell_type": "code",
   "execution_count": null,
   "id": "78feb831-7b48-4f00-a42d-8ade7468789c",
   "metadata": {},
   "outputs": [],
   "source": []
  }
 ],
 "metadata": {
  "kernelspec": {
   "display_name": "Python 3 (ipykernel)",
   "language": "python",
   "name": "python3"
  },
  "language_info": {
   "codemirror_mode": {
    "name": "ipython",
    "version": 3
   },
   "file_extension": ".py",
   "mimetype": "text/x-python",
   "name": "python",
   "nbconvert_exporter": "python",
   "pygments_lexer": "ipython3",
   "version": "3.12.8"
  }
 },
 "nbformat": 4,
 "nbformat_minor": 5
}
