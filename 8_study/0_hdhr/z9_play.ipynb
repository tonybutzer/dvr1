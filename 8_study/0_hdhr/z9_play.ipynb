{
 "cells": [
  {
   "cell_type": "code",
   "execution_count": 8,
   "id": "a2168098-0728-457a-9c7e-c50484b03417",
   "metadata": {},
   "outputs": [
    {
     "name": "stdout",
     "output_type": "stream",
     "text": [
      "2025-01-11 16:54:53,977 - INFO - DVR application started.\n",
      "2025-01-11 16:58:48,729 - INFO - DVR application started.\n",
      "2025-01-11 16:59:13,554 - INFO - DVR application started.\n",
      "2025-01-11 17:00:12,873 - INFO - DVR application started.\n",
      "2025-01-11 17:09:06,658 - INFO - DVR application started.\n",
      "2025-01-11 17:12:40,531 - INFO - DVR application started.\n",
      "2025-01-11 17:14:09,383 - INFO - DVR application started.\n",
      "2025-01-11 17:15:02,122 - INFO - DVR application started.\n",
      "2025-01-11 17:16:09,354 - INFO - DVR application started.\n",
      "2025-01-11 17:35:42,591 - INFO - echo curl -so /home/tony/Videos/KSFY_DT_Monday_Night_Football_One_202501131915_ts 192.168.0.151:5004/auto/13.1?duration=3600 | at 202501131915\n",
      "2025-01-11 17:35:42,592 - INFO - echo curl -so /home/tony/Videos/KDLT_DT_NBC_Nightly_News_with_Lester_Holt_One_202501111730_ts 192.168.0.151:5004/auto/46.1?duration=3600 | at 202501111730\n",
      "2025-01-11 17:35:42,592 - INFO - echo curl -so /home/tony/Videos/KDLT_DT_Dakota_News_Now_Saturday___6pm_on_KDLT_One_202501111800_ts 192.168.0.151:5004/auto/46.1?duration=3600 | at 202501111800\n",
      "2025-01-11 17:35:42,592 - INFO - echo curl -so /home/tony/Videos/KDLT_FOX_NFL_Playoffs_NFC_Wild_Card_Game__Green_Bay_Packers_at_Philadelphia_Eagles_from_Lincoln_Financial_Field_202501121530_ts 192.168.0.151:5004/auto/46.2?duration=3600 | at 202501121530\n",
      "2025-01-11 17:35:42,592 - INFO - echo curl -so /home/tony/Videos/KDLT_FOX_College_Basketball_Indiana_Hoosiers_at_Iowa_Hawkeyes_from_Carver_Hawkeye_Arena_202501111900_ts 192.168.0.151:5004/auto/46.2?duration=3600 | at 202501111900\n",
      "2025-01-11 17:35:42,592 - INFO - echo curl -so /home/tony/Videos/KSFY_DT_This_Week_with_George_Stephanopoulos_One_202501120900_ts 192.168.0.151:5004/auto/13.1?duration=3600 | at 202501120900\n",
      "2025-01-11 17:37:45,290 - INFO - echo curl -so /home/tony/Videos/KSFY_DT_Monday_Night_Football_One_202501131915_ts 192.168.0.151:5004/auto/13.1?duration=15300| at 202501131915\n",
      "2025-01-11 17:37:45,291 - INFO - echo curl -so /home/tony/Videos/KDLT_DT_NBC_Nightly_News_with_Lester_Holt_One_202501111730_ts 192.168.0.151:5004/auto/46.1?duration=1800| at 202501111730\n",
      "2025-01-11 17:37:45,292 - INFO - echo curl -so /home/tony/Videos/KDLT_DT_Dakota_News_Now_Saturday___6pm_on_KDLT_One_202501111800_ts 192.168.0.151:5004/auto/46.1?duration=1800| at 202501111800\n",
      "2025-01-11 17:37:45,293 - INFO - echo curl -so /home/tony/Videos/KDLT_FOX_NFL_Playoffs_NFC_Wild_Card_Game__Green_Bay_Packers_at_Philadelphia_Eagles_from_Lincoln_Financial_Field_202501121530_ts 192.168.0.151:5004/auto/46.2?duration=16200| at 202501121530\n",
      "2025-01-11 17:37:45,293 - INFO - echo curl -so /home/tony/Videos/KDLT_FOX_College_Basketball_Indiana_Hoosiers_at_Iowa_Hawkeyes_from_Carver_Hawkeye_Arena_202501111900_ts 192.168.0.151:5004/auto/46.2?duration=12600| at 202501111900\n",
      "2025-01-11 17:37:45,294 - INFO - echo curl -so /home/tony/Videos/KSFY_DT_This_Week_with_George_Stephanopoulos_One_202501120900_ts 192.168.0.151:5004/auto/13.1?duration=3600| at 202501120900\n",
      "2025-01-11 17:39:07,841 - INFO - DVR application started.\n",
      "2025-01-11 17:39:07,904 - INFO - echo curl -so /home/tony/Videos/KSFY_DT_Monday_Night_Football_One_202501131915_ts 192.168.0.151:5004/auto/13.1?duration=15300| at 202501131915\n",
      "2025-01-11 17:39:07,908 - INFO - echo curl -so /home/tony/Videos/KDLT_DT_NBC_Nightly_News_with_Lester_Holt_One_202501111730_ts 192.168.0.151:5004/auto/46.1?duration=1800| at 202501111730\n",
      "2025-01-11 17:39:07,910 - INFO - echo curl -so /home/tony/Videos/KDLT_DT_Dakota_News_Now_Saturday___6pm_on_KDLT_One_202501111800_ts 192.168.0.151:5004/auto/46.1?duration=1800| at 202501111800\n",
      "2025-01-11 17:39:07,913 - INFO - echo curl -so /home/tony/Videos/KDLT_FOX_NFL_Playoffs_NFC_Wild_Card_Game__Green_Bay_Packers_at_Philadelphia_Eagles_from_Lincoln_Financial_Field_202501121530_ts 192.168.0.151:5004/auto/46.2?duration=16200| at 202501121530\n",
      "2025-01-11 17:39:07,916 - INFO - echo curl -so /home/tony/Videos/KDLT_FOX_College_Basketball_Indiana_Hoosiers_at_Iowa_Hawkeyes_from_Carver_Hawkeye_Arena_202501111900_ts 192.168.0.151:5004/auto/46.2?duration=12600| at 202501111900\n",
      "2025-01-11 17:39:07,919 - INFO - echo curl -so /home/tony/Videos/KSFY_DT_This_Week_with_George_Stephanopoulos_One_202501120900_ts 192.168.0.151:5004/auto/13.1?duration=3600| at 202501120900\n",
      "2025-01-11 17:41:12,855 - INFO - DVR application started.\n",
      "2025-01-11 17:41:12,927 - INFO - echo curl -so /home/tony/Videos/KSFY_DT_Monday_Night_Football_One_202501131915_ts 192.168.0.151:5004/auto/13.1?duration=15300| at -t 202501131915\n",
      "2025-01-11 17:41:12,940 - INFO - echo curl -so /home/tony/Videos/KDLT_DT_NBC_Nightly_News_with_Lester_Holt_One_202501111730_ts 192.168.0.151:5004/auto/46.1?duration=1800| at -t 202501111730\n",
      "2025-01-11 17:41:12,955 - INFO - echo curl -so /home/tony/Videos/KDLT_DT_Dakota_News_Now_Saturday___6pm_on_KDLT_One_202501111800_ts 192.168.0.151:5004/auto/46.1?duration=1800| at -t 202501111800\n",
      "2025-01-11 17:41:12,969 - INFO - echo curl -so /home/tony/Videos/KDLT_FOX_NFL_Playoffs_NFC_Wild_Card_Game__Green_Bay_Packers_at_Philadelphia_Eagles_from_Lincoln_Financial_Field_202501121530_ts 192.168.0.151:5004/auto/46.2?duration=16200| at -t 202501121530\n",
      "2025-01-11 17:41:12,983 - INFO - echo curl -so /home/tony/Videos/KDLT_FOX_College_Basketball_Indiana_Hoosiers_at_Iowa_Hawkeyes_from_Carver_Hawkeye_Arena_202501111900_ts 192.168.0.151:5004/auto/46.2?duration=12600| at -t 202501111900\n",
      "2025-01-11 17:41:12,997 - INFO - echo curl -so /home/tony/Videos/KSFY_DT_This_Week_with_George_Stephanopoulos_One_202501120900_ts 192.168.0.151:5004/auto/13.1?duration=3600| at -t 202501120900\n"
     ]
    }
   ],
   "source": [
    "! cat ~/DVR/log/dvr.log"
   ]
  },
  {
   "cell_type": "code",
   "execution_count": 5,
   "id": "6b37e119-f606-4324-9d65-868c6332b06a",
   "metadata": {
    "editable": true,
    "slideshow": {
     "slide_type": ""
    },
    "tags": []
   },
   "outputs": [],
   "source": [
    "! rm ~/DVR/log/dvr.log"
   ]
  },
  {
   "cell_type": "code",
   "execution_count": 7,
   "id": "ccf537fe-b34b-47cb-8550-cbd2dd08b99b",
   "metadata": {
    "editable": true,
    "slideshow": {
     "slide_type": ""
    },
    "tags": []
   },
   "outputs": [
    {
     "name": "stdout",
     "output_type": "stream",
     "text": [
      "9\tSun Jan 12 09:00:00 2025 a tony\n",
      "4\tMon Jan 13 19:15:00 2025 a tony\n",
      "7\tSun Jan 12 15:30:00 2025 a tony\n",
      "3\tSat Jan 11 15:00:00 2025 = tony\n",
      "6\tSat Jan 11 18:00:00 2025 a tony\n",
      "8\tSat Jan 11 19:00:00 2025 a tony\n"
     ]
    }
   ],
   "source": [
    "! atq"
   ]
  },
  {
   "cell_type": "code",
   "execution_count": 9,
   "id": "8952b291-92f4-4396-b46a-f6601f768074",
   "metadata": {
    "editable": true,
    "slideshow": {
     "slide_type": ""
    },
    "tags": []
   },
   "outputs": [
    {
     "name": "stdout",
     "output_type": "stream",
     "text": [
      "Miniforge3-Linux-x86_64.sh\n"
     ]
    }
   ],
   "source": [
    "! ls /home/tony/Downloads/"
   ]
  },
  {
   "cell_type": "code",
   "execution_count": null,
   "id": "e502f8bf-ffbc-418f-a8f9-a22e795acab8",
   "metadata": {
    "editable": true,
    "slideshow": {
     "slide_type": ""
    },
    "tags": []
   },
   "outputs": [],
   "source": []
  }
 ],
 "metadata": {
  "kernelspec": {
   "display_name": "Python 3 (ipykernel)",
   "language": "python",
   "name": "python3"
  },
  "language_info": {
   "codemirror_mode": {
    "name": "ipython",
    "version": 3
   },
   "file_extension": ".py",
   "mimetype": "text/x-python",
   "name": "python",
   "nbconvert_exporter": "python",
   "pygments_lexer": "ipython3",
   "version": "3.12.8"
  }
 },
 "nbformat": 4,
 "nbformat_minor": 5
}
