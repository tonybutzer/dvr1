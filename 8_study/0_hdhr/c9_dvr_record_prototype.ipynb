{
 "cells": [
  {
   "cell_type": "code",
   "execution_count": 1,
   "id": "da208db4-b2c2-4325-8c85-a23ab6173861",
   "metadata": {},
   "outputs": [],
   "source": [
    "import logging\n"
   ]
  },
  {
   "cell_type": "code",
   "execution_count": 2,
   "id": "d74305c6-4d2f-4c4a-a5e3-07834ad1950a",
   "metadata": {},
   "outputs": [],
   "source": [
    "from dotenv import load_dotenv\n",
    "import os\n",
    "#import json"
   ]
  },
  {
   "cell_type": "code",
   "execution_count": 3,
   "id": "fcc0ad43-c378-4ce1-b2ab-163b9fac579a",
   "metadata": {},
   "outputs": [],
   "source": [
    "from util import run_command\n",
    "from titan_classes import get_files_titan_xml, convert_gmt_utc, build_record_titan_df, make_at_time, clean_string\n",
    "from titan_classes import TITAN"
   ]
  },
  {
   "cell_type": "code",
   "execution_count": 4,
   "id": "b18b7182-3390-457d-aa4a-f63d10c6a7ab",
   "metadata": {},
   "outputs": [
    {
     "data": {
      "text/plain": [
       "('10B16BC7', '192.168.0.151')"
      ]
     },
     "execution_count": 4,
     "metadata": {},
     "output_type": "execute_result"
    }
   ],
   "source": [
    "# Load environment variables from the .env file\n",
    "load_dotenv()\n",
    "\n",
    "# Access environment variables\n",
    "TUNER_ID = os.getenv('TUNER_ID')\n",
    "TUNER_IP = os.getenv('TUNER_IP')\n",
    "\n",
    "TUNER_ID, TUNER_IP"
   ]
  },
  {
   "cell_type": "code",
   "execution_count": 5,
   "id": "c6a642f6-c8cd-44e4-9cf8-26c185b8501f",
   "metadata": {},
   "outputs": [
    {
     "data": {
      "text/plain": [
       "'/home/tony/Videos'"
      ]
     },
     "execution_count": 5,
     "metadata": {},
     "output_type": "execute_result"
    }
   ],
   "source": [
    "RECORDINGS = os.getenv('DVR_RECORDINGS')\n",
    "RECORDINGS"
   ]
  },
  {
   "cell_type": "code",
   "execution_count": 6,
   "id": "454d46ce-80e0-48f9-928e-30042b1d82d8",
   "metadata": {},
   "outputs": [],
   "source": [
    "DVR_HOME = '/home/tony/DVR'"
   ]
  },
  {
   "cell_type": "markdown",
   "id": "8c716ef5-a53b-4b80-9bba-82ab7beba43c",
   "metadata": {},
   "source": [
    "# LOGGING"
   ]
  },
  {
   "cell_type": "code",
   "execution_count": 7,
   "id": "02ca3a9e-2912-42aa-902c-9347257781ad",
   "metadata": {},
   "outputs": [],
   "source": [
    "# Configure logging\n",
    "logging.basicConfig(\n",
    "    filename=\"/home/tony/DVR/log/dvr.log\", \n",
    "    level=logging.INFO, \n",
    "    format=\"%(asctime)s - %(levelname)s - %(message)s\"\n",
    ")\n",
    "\n",
    "# Create a logger\n",
    "logger = logging.getLogger(__name__)\n",
    "\n",
    "# Log some messages\n",
    "logger.info(\"DVR application started.\")\n",
    "# logger.warning(\"Low disk space detected.\")\n",
    "# logger.error(\"Motion sensor malfunction.\")"
   ]
  },
  {
   "cell_type": "code",
   "execution_count": 8,
   "id": "880c1bf9-487a-422d-865d-af4744176903",
   "metadata": {},
   "outputs": [
    {
     "data": {
      "text/plain": [
       "['/home/tony/Downloads/record-program(4).tvpi',\n",
       " '/home/tony/Downloads/record-program.tvpi',\n",
       " '/home/tony/Downloads/record-program(1).tvpi',\n",
       " '/home/tony/Downloads/record-program(5).tvpi',\n",
       " '/home/tony/Downloads/record-program(2).tvpi',\n",
       " '/home/tony/Downloads/record-program(3).tvpi']"
      ]
     },
     "execution_count": 8,
     "metadata": {},
     "output_type": "execute_result"
    }
   ],
   "source": [
    "to_be_recorded = get_files_titan_xml()\n",
    "to_be_recorded"
   ]
  },
  {
   "cell_type": "code",
   "execution_count": 9,
   "id": "35a2ef59-f1f7-4e88-ad97-41c3fc1de83e",
   "metadata": {},
   "outputs": [
    {
     "name": "stdout",
     "output_type": "stream",
     "text": [
      "20250114 01:15\n",
      "20250111 23:30\n",
      "20250112 00:00\n",
      "20250112 21:30\n",
      "20250112 01:00\n",
      "20250112 15:00\n"
     ]
    }
   ],
   "source": [
    "program_todo_list = build_record_titan_df(to_be_recorded)"
   ]
  },
  {
   "cell_type": "code",
   "execution_count": 10,
   "id": "c90221f7-408c-4e5f-837c-fde420169135",
   "metadata": {
    "editable": true,
    "slideshow": {
     "slide_type": ""
    },
    "tags": []
   },
   "outputs": [],
   "source": [
    "#program_todo_list"
   ]
  },
  {
   "cell_type": "code",
   "execution_count": 11,
   "id": "437430b7-e4af-4944-aad5-63b8d526e496",
   "metadata": {},
   "outputs": [
    {
     "name": "stdout",
     "output_type": "stream",
     "text": [
      "Hours: 2\n",
      "Minutes: 45\n",
      "Seconds: 9900\n"
     ]
    }
   ],
   "source": [
    "def duration_to_hms(duration_str):\n",
    "  \"\"\"\n",
    "  Converts a duration string (e.g., \"02:45\") to hours, minutes, and seconds.\n",
    "\n",
    "  Args:\n",
    "    duration_str: The duration string in the format \"HH:MM\" or \"MM:SS\".\n",
    "\n",
    "  Returns:\n",
    "    A tuple containing hours, minutes, and seconds as integers.\n",
    "  \"\"\"\n",
    "  try:\n",
    "    if ':' not in duration_str:\n",
    "      raise ValueError(\"Invalid duration format. Expected 'HH:MM' or 'MM:SS'.\")\n",
    "\n",
    "    parts = duration_str.split(':')\n",
    "    if len(parts) == 2:\n",
    "      hours = int(parts[0]) if parts[0] else 0\n",
    "      minutes = int(parts[1])\n",
    "      seconds = 0\n",
    "    elif len(parts) == 1:\n",
    "      hours = 0\n",
    "      minutes = int(parts[0])\n",
    "      seconds = 0\n",
    "    else:\n",
    "      raise ValueError(\"Invalid duration format. Expected 'HH:MM' or 'MM:SS'.\")\n",
    "\n",
    "    seconds = (hours * 60 + minutes) * 60\n",
    "\n",
    "    return hours, minutes, seconds\n",
    "\n",
    "  except ValueError as e:\n",
    "    print(f\"Error: {e}\")\n",
    "    return None\n",
    "\n",
    "# Example usage:\n",
    "duration = \"02:45\"\n",
    "hours, minutes, seconds = duration_to_hms(duration)\n",
    "\n",
    "if hours is not None:\n",
    "  print(f\"Hours: {hours}\")\n",
    "  print(f\"Minutes: {minutes}\")\n",
    "  print(f\"Seconds: {seconds}\")"
   ]
  },
  {
   "cell_type": "code",
   "execution_count": 12,
   "id": "0266ee74-2cb8-49a5-9f52-a9a92396fac3",
   "metadata": {},
   "outputs": [],
   "source": [
    "def duration(dur):\n",
    "    hours, minutes, seconds = duration_to_hms(dur)\n",
    "    if seconds > 3600 * 2 - 1:\n",
    "        seconds += 3600 + 1800\n",
    "    return seconds"
   ]
  },
  {
   "cell_type": "code",
   "execution_count": 13,
   "id": "e6b80a95-5070-42f7-a0fe-b6503eb04ac3",
   "metadata": {},
   "outputs": [],
   "source": [
    "def get_vchan(a):\n",
    "    chan = a['psip-major']\n",
    "    minor = a['psip-minor']\n",
    "    vchan = f'{chan}.{minor}'\n",
    "    return vchan"
   ]
  },
  {
   "cell_type": "code",
   "execution_count": 14,
   "id": "02dc9e93-b048-48ec-a0a3-b296d69dd480",
   "metadata": {
    "editable": true,
    "slideshow": {
     "slide_type": ""
    },
    "tags": []
   },
   "outputs": [],
   "source": [
    "def run_at(name, time, dur_seconds, vchan):\n",
    "    global RECORDINGS\n",
    "    global TUNER_IP\n",
    "    cmd=f'echo curl -so {RECORDINGS}/{name} {TUNER_IP}:5004/auto/{vchan}?duration={dur_seconds}| at -t {time}'\n",
    "    logger.info(cmd)\n",
    "    print(cmd)\n",
    "    run_command(cmd)\n",
    "    "
   ]
  },
  {
   "cell_type": "code",
   "execution_count": 15,
   "id": "bb4495c7-885a-4ece-8c9e-04859d508846",
   "metadata": {
    "editable": true,
    "slideshow": {
     "slide_type": ""
    },
    "tags": []
   },
   "outputs": [],
   "source": [
    "def schedule_record(a):\n",
    "    station = a['station']\n",
    "    ptitle = a['program-title']\n",
    "    #etitle = a['episode-title']\n",
    "    etitle = a.get('episode-title', 'One') \n",
    "    at_time = make_at_time(a['start-date'], a['start-time'])\n",
    "                \n",
    "    name_of_recording = f'{station}_{ptitle}_{etitle}_{at_time}.ts'\n",
    "    clean_name_of_recording = clean_string(name_of_recording)\n",
    "    print(clean_name_of_recording)\n",
    "    # process duration\n",
    "    dur = a['duration']\n",
    "    print(dur)\n",
    "    dur_seconds = duration(dur)\n",
    "    print(dur_seconds)\n",
    "    print(at_time)\n",
    "    vchan = get_vchan(a)\n",
    "    print(vchan)\n",
    "    run_at(clean_name_of_recording, at_time, dur_seconds, vchan)"
   ]
  },
  {
   "cell_type": "code",
   "execution_count": 16,
   "id": "5c16a062-f1f0-4e00-b52a-176a5fcc4ee8",
   "metadata": {},
   "outputs": [
    {
     "data": {
      "text/plain": [
       "{'station': 'KSFY-DT',\n",
       " 'tv-mode': 'digital',\n",
       " 'program-title': 'Monday Night Football',\n",
       " 'program-description': 'Debuting in 1970, Monday Night Football caps off the week in the NFL with one of the more premier matchups in the league, featuring games between elite teams.',\n",
       " 'start-date': '20250114',\n",
       " 'start-time': '01:15',\n",
       " 'end-date': '20250114',\n",
       " 'end-time': '04:00',\n",
       " 'duration': '02:45',\n",
       " 'rf-channel': '13',\n",
       " 'psip-major': '13',\n",
       " 'psip-minor': '1',\n",
       " 'stream-number': '1'}"
      ]
     },
     "execution_count": 16,
     "metadata": {},
     "output_type": "execute_result"
    }
   ],
   "source": [
    "program_todo_list[0]"
   ]
  },
  {
   "cell_type": "code",
   "execution_count": 17,
   "id": "4804d4d8-e26d-446f-9c25-8d8b7043b99c",
   "metadata": {
    "editable": true,
    "slideshow": {
     "slide_type": ""
    },
    "tags": []
   },
   "outputs": [
    {
     "name": "stdout",
     "output_type": "stream",
     "text": [
      "KSFY_DT_Monday_Night_Football_One_202501131915_ts\n",
      "02:45\n",
      "15300\n",
      "202501131915\n",
      "13.1\n",
      "echo curl -so /home/tony/Videos/KSFY_DT_Monday_Night_Football_One_202501131915_ts 192.168.0.151:5004/auto/13.1?duration=15300| at -t 202501131915\n",
      "KDLT_DT_NBC_Nightly_News_with_Lester_Holt_One_202501111730_ts\n",
      "00:30\n",
      "1800\n",
      "202501111730\n",
      "46.1\n",
      "echo curl -so /home/tony/Videos/KDLT_DT_NBC_Nightly_News_with_Lester_Holt_One_202501111730_ts 192.168.0.151:5004/auto/46.1?duration=1800| at -t 202501111730\n",
      "KDLT_DT_Dakota_News_Now_Saturday___6pm_on_KDLT_One_202501111800_ts\n",
      "00:30\n",
      "1800\n",
      "202501111800\n",
      "46.1\n",
      "echo curl -so /home/tony/Videos/KDLT_DT_Dakota_News_Now_Saturday___6pm_on_KDLT_One_202501111800_ts 192.168.0.151:5004/auto/46.1?duration=1800| at -t 202501111800\n",
      "KDLT_FOX_NFL_Playoffs_NFC_Wild_Card_Game__Green_Bay_Packers_at_Philadelphia_Eagles_from_Lincoln_Financial_Field_202501121530_ts\n",
      "03:00\n",
      "16200\n",
      "202501121530\n",
      "46.2\n",
      "echo curl -so /home/tony/Videos/KDLT_FOX_NFL_Playoffs_NFC_Wild_Card_Game__Green_Bay_Packers_at_Philadelphia_Eagles_from_Lincoln_Financial_Field_202501121530_ts 192.168.0.151:5004/auto/46.2?duration=16200| at -t 202501121530\n",
      "KDLT_FOX_College_Basketball_Indiana_Hoosiers_at_Iowa_Hawkeyes_from_Carver_Hawkeye_Arena_202501111900_ts\n",
      "02:00\n",
      "12600\n",
      "202501111900\n",
      "46.2\n",
      "echo curl -so /home/tony/Videos/KDLT_FOX_College_Basketball_Indiana_Hoosiers_at_Iowa_Hawkeyes_from_Carver_Hawkeye_Arena_202501111900_ts 192.168.0.151:5004/auto/46.2?duration=12600| at -t 202501111900\n",
      "KSFY_DT_This_Week_with_George_Stephanopoulos_One_202501120900_ts\n",
      "01:00\n",
      "3600\n",
      "202501120900\n",
      "13.1\n",
      "echo curl -so /home/tony/Videos/KSFY_DT_This_Week_with_George_Stephanopoulos_One_202501120900_ts 192.168.0.151:5004/auto/13.1?duration=3600| at -t 202501120900\n"
     ]
    }
   ],
   "source": [
    "for show in program_todo_list:\n",
    "    schedule_record(show)"
   ]
  },
  {
   "cell_type": "code",
   "execution_count": 21,
   "id": "3803484b-debc-4eb6-b3c0-03d7548bc3b5",
   "metadata": {},
   "outputs": [
    {
     "name": "stdout",
     "output_type": "stream",
     "text": [
      "deleteing: /home/tony/Downloads/record-program(4).tvpi\n",
      "deleteing: /home/tony/Downloads/record-program.tvpi\n",
      "deleteing: /home/tony/Downloads/record-program(1).tvpi\n",
      "deleteing: /home/tony/Downloads/record-program(5).tvpi\n",
      "deleteing: /home/tony/Downloads/record-program(2).tvpi\n",
      "deleteing: /home/tony/Downloads/record-program(3).tvpi\n"
     ]
    }
   ],
   "source": [
    "# clean up tvpi files\n",
    "for xml_file in to_be_recorded:\n",
    "    print('deleteing:', xml_file)\n",
    "    os.remove(xml_file)"
   ]
  },
  {
   "cell_type": "code",
   "execution_count": 18,
   "id": "cc99fb15-a11f-45cb-88c6-8950f40fca0b",
   "metadata": {
    "editable": true,
    "slideshow": {
     "slide_type": ""
    },
    "tags": []
   },
   "outputs": [],
   "source": [
    "#cmd=f'echo curl -o {RECORDINGS}/tony1nbc.ts {TUNER_IP}:5004/auto/v46.1?duration=3600 | at 13:25'\n"
   ]
  },
  {
   "cell_type": "code",
   "execution_count": 19,
   "id": "ecbbb5dc-73f4-4f21-b0ac-feeb8b07dc04",
   "metadata": {
    "editable": true,
    "slideshow": {
     "slide_type": ""
    },
    "tags": []
   },
   "outputs": [],
   "source": [
    "#! echo curl -so /home/tony/Videos/KSFY_DT_Monday_Night_Football_One_202501131915_ts 192.168.0.151:5004/auto/13.1?duration=15300| at 202501131915"
   ]
  }
 ],
 "metadata": {
  "kernelspec": {
   "display_name": "Python 3 (ipykernel)",
   "language": "python",
   "name": "python3"
  },
  "language_info": {
   "codemirror_mode": {
    "name": "ipython",
    "version": 3
   },
   "file_extension": ".py",
   "mimetype": "text/x-python",
   "name": "python",
   "nbconvert_exporter": "python",
   "pygments_lexer": "ipython3",
   "version": "3.12.8"
  }
 },
 "nbformat": 4,
 "nbformat_minor": 5
}
