{
 "cells": [
  {
   "cell_type": "code",
   "execution_count": 1,
   "id": "b70a4a4e-5389-406b-b6e8-cca2207b8bf0",
   "metadata": {},
   "outputs": [],
   "source": [
    "# %load chan_record\n",
    "#!/usr/bin/env python\n",
    "\n",
    "import pandas as pd\n",
    "from datetime import datetime\n",
    "from datetime import date\n",
    "import pytz\n",
    "import sys\n",
    "\n",
    "\n",
    "from libdvr.zap import the_show, tv_df_make\n",
    "from libdvr.titan_classes import init_dvr, record_the_show"
   ]
  },
  {
   "cell_type": "code",
   "execution_count": 2,
   "id": "540c6b64-07cc-46c8-bb85-20fffb4d3845",
   "metadata": {},
   "outputs": [
    {
     "data": {
      "text/plain": [
       "<Logger libdvr.titan_classes (INFO)>"
      ]
     },
     "execution_count": 2,
     "metadata": {},
     "output_type": "execute_result"
    }
   ],
   "source": [
    "init_dvr()"
   ]
  },
  {
   "cell_type": "code",
   "execution_count": 3,
   "id": "d8d78941-216f-4995-8296-ccfc2a815400",
   "metadata": {},
   "outputs": [],
   "source": [
    "mdf = pd.read_csv('/home/tony/.match_tv', sep=',')"
   ]
  },
  {
   "cell_type": "code",
   "execution_count": 4,
   "id": "c0541add-b712-4421-8967-1d7246b4225a",
   "metadata": {},
   "outputs": [
    {
     "data": {
      "text/html": [
       "<div>\n",
       "<style scoped>\n",
       "    .dataframe tbody tr th:only-of-type {\n",
       "        vertical-align: middle;\n",
       "    }\n",
       "\n",
       "    .dataframe tbody tr th {\n",
       "        vertical-align: top;\n",
       "    }\n",
       "\n",
       "    .dataframe thead th {\n",
       "        text-align: right;\n",
       "    }\n",
       "</style>\n",
       "<table border=\"1\" class=\"dataframe\">\n",
       "  <thead>\n",
       "    <tr style=\"text-align: right;\">\n",
       "      <th></th>\n",
       "      <th>match</th>\n",
       "      <th>comment</th>\n",
       "    </tr>\n",
       "  </thead>\n",
       "  <tbody>\n",
       "    <tr>\n",
       "      <th>0</th>\n",
       "      <td>48</td>\n",
       "      <td>48-hours</td>\n",
       "    </tr>\n",
       "    <tr>\n",
       "      <th>1</th>\n",
       "      <td>Dateline</td>\n",
       "      <td>Dateline</td>\n",
       "    </tr>\n",
       "    <tr>\n",
       "      <th>2</th>\n",
       "      <td>Kung</td>\n",
       "      <td>Kung Fu</td>\n",
       "    </tr>\n",
       "  </tbody>\n",
       "</table>\n",
       "</div>"
      ],
      "text/plain": [
       "      match    comment\n",
       "0        48   48-hours\n",
       "1  Dateline   Dateline\n",
       "2      Kung    Kung Fu"
      ]
     },
     "execution_count": 4,
     "metadata": {},
     "output_type": "execute_result"
    }
   ],
   "source": [
    "mdf"
   ]
  },
  {
   "cell_type": "code",
   "execution_count": 5,
   "id": "35926830-e4f8-4c84-82df-3c29eea3d69c",
   "metadata": {},
   "outputs": [],
   "source": [
    "matches = mdf['match'].to_list()"
   ]
  },
  {
   "cell_type": "code",
   "execution_count": 6,
   "id": "137d399c-3f7d-432b-a46c-c39b5ec140ca",
   "metadata": {},
   "outputs": [],
   "source": [
    "df = tv_df_make()"
   ]
  },
  {
   "cell_type": "code",
   "execution_count": 7,
   "id": "02715c5d-3a3b-4017-aa31-4ac0ea7a83fe",
   "metadata": {},
   "outputs": [
    {
     "name": "stdout",
     "output_type": "stream",
     "text": [
      "    vchan                     start                      stop  \\\n",
      "0     2.1 2025-01-24 00:00:00-06:00 2025-01-24 01:00:00-06:00   \n",
      "813   2.1 2025-01-24 11:30:00-06:00 2025-01-24 12:00:00-06:00   \n",
      "812   2.1 2025-01-24 11:00:00-06:00 2025-01-24 11:30:00-06:00   \n",
      "811   2.1 2025-01-24 10:30:00-06:00 2025-01-24 11:00:00-06:00   \n",
      "810   2.1 2025-01-24 10:00:00-06:00 2025-01-24 10:30:00-06:00   \n",
      "..    ...                       ...                       ...   \n",
      "268  53.0 2025-01-24 02:30:00-06:00 2025-01-24 03:00:00-06:00   \n",
      "267  53.0 2025-01-24 02:00:00-06:00 2025-01-24 02:30:00-06:00   \n",
      "266  53.0 2025-01-24 01:30:00-06:00 2025-01-24 02:00:00-06:00   \n",
      "265  53.0 2025-01-24 01:00:00-06:00 2025-01-24 01:30:00-06:00   \n",
      "264  53.0 2025-01-24 00:00:00-06:00 2025-01-24 01:00:00-06:00   \n",
      "\n",
      "                                         title  \\\n",
      "0                         Amanpour and Company   \n",
      "813                                 Nature Cat   \n",
      "812                         Elinor Wonders Why   \n",
      "811                                 Alma's Way   \n",
      "810                               Donkey Hodie   \n",
      "..                                         ...   \n",
      "268                                Reflections   \n",
      "267              Sid Roth's It's Supernatural!   \n",
      "266                                Reflections   \n",
      "265                                Reflections   \n",
      "264  Planetshakers Conference \"Abundance\" 2025   \n",
      "\n",
      "                                   sub-title length  \n",
      "0                                        ONE     60  \n",
      "813  More Than a Monkey Wrench; Trailblazers     30  \n",
      "812      A Garden for All; Band of Explorers     30  \n",
      "811        Alma's Movie Night; Papi the Hero     30  \n",
      "810   Yodel Bird Sitting; Superhero Squabble     30  \n",
      "..                                       ...    ...  \n",
      "268                                      ONE     30  \n",
      "267                           Enrique Pascal     30  \n",
      "266                                      ONE     30  \n",
      "265                                      ONE     30  \n",
      "264                                      ONE     60  \n",
      "\n",
      "[2109 rows x 6 columns]\n"
     ]
    }
   ],
   "source": [
    "import pandas as pd\n",
    "from datetime import datetime, time, timedelta\n",
    "\n",
    "# Assuming your DataFrame is named 'df' and contains the specified columns\n",
    "\n",
    "now = datetime.now()\n",
    "local_timezone = now.astimezone().tzinfo\n",
    "    # now_aware = datetime.now(local_timezone)\n",
    "    # now = now_aware\n",
    "\n",
    "# Get today's date at 12:00 AM\n",
    "today_start = datetime.combine(datetime.today(), time(0, 0))\n",
    "#today_start = now\n",
    "today_start = today_start.replace(tzinfo=local_timezone)\n",
    "\n",
    "\n",
    "# Get today's date at 12:00 AM tomorrow\n",
    "today_end = today_start + timedelta(days=1)\n",
    "#today_end = datetime.combine(datetime.today(), time(17, 0))\n",
    "today_end = today_end.replace(tzinfo=local_timezone)\n",
    "\n",
    "\n",
    "\n",
    "# Filter the DataFrame based on the conditions\n",
    "filtered_df = df[(df['start'] < today_end) & (df['stop'] > today_start)]\n",
    "\n",
    "# Print the filtered results\n",
    "print(filtered_df)"
   ]
  },
  {
   "cell_type": "code",
   "execution_count": 8,
   "id": "d177e326-7d44-4ba5-9a73-9d77d2d0b795",
   "metadata": {},
   "outputs": [],
   "source": [
    "df = filtered_df\n",
    "result_df = df[df['title'].str.contains('48')]"
   ]
  },
  {
   "cell_type": "code",
   "execution_count": 9,
   "id": "df35c9f9-4ac1-40f7-859d-b11f4b1503b9",
   "metadata": {},
   "outputs": [
    {
     "data": {
      "text/html": [
       "<div>\n",
       "<style scoped>\n",
       "    .dataframe tbody tr th:only-of-type {\n",
       "        vertical-align: middle;\n",
       "    }\n",
       "\n",
       "    .dataframe tbody tr th {\n",
       "        vertical-align: top;\n",
       "    }\n",
       "\n",
       "    .dataframe thead th {\n",
       "        text-align: right;\n",
       "    }\n",
       "</style>\n",
       "<table border=\"1\" class=\"dataframe\">\n",
       "  <thead>\n",
       "    <tr style=\"text-align: right;\">\n",
       "      <th></th>\n",
       "      <th>vchan</th>\n",
       "      <th>start</th>\n",
       "      <th>stop</th>\n",
       "      <th>title</th>\n",
       "      <th>sub-title</th>\n",
       "      <th>length</th>\n",
       "    </tr>\n",
       "  </thead>\n",
       "  <tbody>\n",
       "    <tr>\n",
       "      <th>1623</th>\n",
       "      <td>4.4</td>\n",
       "      <td>2025-01-24 18:00:00-06:00</td>\n",
       "      <td>2025-01-24 19:00:00-06:00</td>\n",
       "      <td>48 Hours</td>\n",
       "      <td>The Perfect Family</td>\n",
       "      <td>60</td>\n",
       "    </tr>\n",
       "    <tr>\n",
       "      <th>1868</th>\n",
       "      <td>4.4</td>\n",
       "      <td>2025-01-24 21:00:00-06:00</td>\n",
       "      <td>2025-01-24 22:00:00-06:00</td>\n",
       "      <td>48 Hours</td>\n",
       "      <td>The Writing on the Wall</td>\n",
       "      <td>60</td>\n",
       "    </tr>\n",
       "    <tr>\n",
       "      <th>1929</th>\n",
       "      <td>11.2</td>\n",
       "      <td>2025-01-24 21:00:00-06:00</td>\n",
       "      <td>2025-01-24 22:00:00-06:00</td>\n",
       "      <td>48 Hours</td>\n",
       "      <td>Dangerous Games</td>\n",
       "      <td>60</td>\n",
       "    </tr>\n",
       "    <tr>\n",
       "      <th>1788</th>\n",
       "      <td>26.0</td>\n",
       "      <td>2025-01-24 20:00:00-06:00</td>\n",
       "      <td>2025-01-24 21:00:00-06:00</td>\n",
       "      <td>The First 48</td>\n",
       "      <td>Live Bait; Drama at the Classic</td>\n",
       "      <td>60</td>\n",
       "    </tr>\n",
       "    <tr>\n",
       "      <th>213</th>\n",
       "      <td>26.0</td>\n",
       "      <td>2025-01-24 00:30:00-06:00</td>\n",
       "      <td>2025-01-24 01:30:00-06:00</td>\n",
       "      <td>The First 48</td>\n",
       "      <td>Devil Inside; Rattlesnake</td>\n",
       "      <td>60</td>\n",
       "    </tr>\n",
       "    <tr>\n",
       "      <th>502</th>\n",
       "      <td>44.1</td>\n",
       "      <td>2025-01-24 03:00:00-06:00</td>\n",
       "      <td>2025-01-24 04:00:00-06:00</td>\n",
       "      <td>48 Hours</td>\n",
       "      <td>Where Is Jennifer Kesse?</td>\n",
       "      <td>60</td>\n",
       "    </tr>\n",
       "    <tr>\n",
       "      <th>2074</th>\n",
       "      <td>46.5</td>\n",
       "      <td>2025-01-24 21:00:00-06:00</td>\n",
       "      <td>2025-01-24 22:00:00-06:00</td>\n",
       "      <td>48 Hours</td>\n",
       "      <td>The Writing on the Wall</td>\n",
       "      <td>60</td>\n",
       "    </tr>\n",
       "    <tr>\n",
       "      <th>1820</th>\n",
       "      <td>46.5</td>\n",
       "      <td>2025-01-24 18:00:00-06:00</td>\n",
       "      <td>2025-01-24 19:00:00-06:00</td>\n",
       "      <td>48 Hours</td>\n",
       "      <td>The Perfect Family</td>\n",
       "      <td>60</td>\n",
       "    </tr>\n",
       "  </tbody>\n",
       "</table>\n",
       "</div>"
      ],
      "text/plain": [
       "     vchan                     start                      stop         title  \\\n",
       "1623   4.4 2025-01-24 18:00:00-06:00 2025-01-24 19:00:00-06:00      48 Hours   \n",
       "1868   4.4 2025-01-24 21:00:00-06:00 2025-01-24 22:00:00-06:00      48 Hours   \n",
       "1929  11.2 2025-01-24 21:00:00-06:00 2025-01-24 22:00:00-06:00      48 Hours   \n",
       "1788  26.0 2025-01-24 20:00:00-06:00 2025-01-24 21:00:00-06:00  The First 48   \n",
       "213   26.0 2025-01-24 00:30:00-06:00 2025-01-24 01:30:00-06:00  The First 48   \n",
       "502   44.1 2025-01-24 03:00:00-06:00 2025-01-24 04:00:00-06:00      48 Hours   \n",
       "2074  46.5 2025-01-24 21:00:00-06:00 2025-01-24 22:00:00-06:00      48 Hours   \n",
       "1820  46.5 2025-01-24 18:00:00-06:00 2025-01-24 19:00:00-06:00      48 Hours   \n",
       "\n",
       "                            sub-title length  \n",
       "1623               The Perfect Family     60  \n",
       "1868          The Writing on the Wall     60  \n",
       "1929                  Dangerous Games     60  \n",
       "1788  Live Bait; Drama at the Classic     60  \n",
       "213         Devil Inside; Rattlesnake     60  \n",
       "502          Where Is Jennifer Kesse?     60  \n",
       "2074          The Writing on the Wall     60  \n",
       "1820               The Perfect Family     60  "
      ]
     },
     "execution_count": 9,
     "metadata": {},
     "output_type": "execute_result"
    }
   ],
   "source": [
    "result_df"
   ]
  },
  {
   "cell_type": "code",
   "execution_count": 10,
   "id": "e58190b9-bc25-440f-8248-51944862ec21",
   "metadata": {},
   "outputs": [
    {
     "name": "stdout",
     "output_type": "stream",
     "text": [
      "echo curl -so /home/tony/Videos/48_Hours_The_Perfect_Family_v4_4_202501241800.ts 192.168.0.93:5004/auto/v4.4?duration=3600| at -t 202501241800\n",
      "echo curl -so /home/tony/Videos/48_Hours_The_Writing_on_the_Wall_v4_4_202501242100.ts 192.168.0.93:5004/auto/v4.4?duration=3600| at -t 202501242100\n",
      "echo curl -so /home/tony/Videos/48_Hours_Dangerous_Games_v11_2_202501242100.ts 192.168.0.93:5004/auto/v11.2?duration=3600| at -t 202501242100\n",
      "echo curl -so /home/tony/Videos/The_First_48_Live_Bait__Drama_at_the_Classic_v26_0_202501242000.ts 192.168.0.93:5004/auto/v26.0?duration=3600| at -t 202501242000\n",
      "echo curl -so /home/tony/Videos/The_First_48_Devil_Inside__Rattlesnake_v26_0_202501240030.ts 192.168.0.93:5004/auto/v26.0?duration=3600| at -t 202501240030\n",
      "echo curl -so /home/tony/Videos/48_Hours_Where_Is_Jennifer_Kesse__v44_1_202501240300.ts 192.168.0.93:5004/auto/v44.1?duration=3600| at -t 202501240300\n",
      "echo curl -so /home/tony/Videos/48_Hours_The_Writing_on_the_Wall_v46_5_202501242100.ts 192.168.0.93:5004/auto/v46.5?duration=3600| at -t 202501242100\n",
      "echo curl -so /home/tony/Videos/48_Hours_The_Perfect_Family_v46_5_202501241800.ts 192.168.0.93:5004/auto/v46.5?duration=3600| at -t 202501241800\n",
      "echo curl -so /home/tony/Videos/Dateline_Broken_Circle_v4_1_202501241600.ts 192.168.0.93:5004/auto/v4.1?duration=3600| at -t 202501241600\n",
      "echo curl -so /home/tony/Videos/Jerusalem_Dateline_ONE_v7_1_202501240030.ts 192.168.0.93:5004/auto/v7.1?duration=1800| at -t 202501240030\n",
      "echo curl -so /home/tony/Videos/Dateline_Out_There_in_the_Dark_v13_4_202501242300.ts 192.168.0.93:5004/auto/v13.4?duration=3600| at -t 202501242300\n",
      "echo curl -so /home/tony/Videos/Dateline_Unthinkable__The_Menendez_Murders_v13_4_202501241400.ts 192.168.0.93:5004/auto/v13.4?duration=7200| at -t 202501241400\n",
      "echo curl -so /home/tony/Videos/Dateline_Black_Friday_v13_4_202501240100.ts 192.168.0.93:5004/auto/v13.4?duration=3600| at -t 202501240100\n",
      "echo curl -so /home/tony/Videos/Dateline_Unspeakable_v13_4_202501241300.ts 192.168.0.93:5004/auto/v13.4?duration=3600| at -t 202501241300\n",
      "echo curl -so /home/tony/Videos/Dateline_Unthinkable__The_Menendez_Murders_v13_4_202501241400.ts 192.168.0.93:5004/auto/v13.4?duration=7200| at -t 202501241400\n",
      "echo curl -so /home/tony/Videos/Dateline_Devil_s_Bathtub_v13_4_202501240000.ts 192.168.0.93:5004/auto/v13.4?duration=3600| at -t 202501240000\n",
      "echo curl -so /home/tony/Videos/Dateline_The_Women___Dirty_John_v13_4_202501241200.ts 192.168.0.93:5004/auto/v13.4?duration=3600| at -t 202501241200\n",
      "echo curl -so /home/tony/Videos/Dateline_Broken_Circle_v46_1_202501241400.ts 192.168.0.93:5004/auto/v46.1?duration=3600| at -t 202501241400\n",
      "echo curl -so /home/tony/Videos/Dateline_The_Night_Kelsie_Disappeared_v46_1_202501240112.ts 192.168.0.93:5004/auto/v46.1?duration=3600| at -t 202501240112\n",
      "echo curl -so /home/tony/Videos/Kung_Fu_Cry_of_the_Night_Beast_v13_2_202501241100.ts 192.168.0.93:5004/auto/v13.2?duration=3600| at -t 202501241100\n",
      "echo curl -so /home/tony/Videos/Kung_Fu_My_Brother__My_Executioner_v13_2_202501241000.ts 192.168.0.93:5004/auto/v13.2?duration=3600| at -t 202501241000\n"
     ]
    }
   ],
   "source": [
    "df = filtered_df\n",
    "\n",
    "for match in matches:\n",
    "    result_df = df[df['title'].str.contains(match)]\n",
    "    for i, r in result_df.iterrows():\n",
    "        station = r['vchan']\n",
    "        tim = r['start']\n",
    "        tim_str = tim.strftime(\"%H%M\")\n",
    "        record_the_show(station, tim_str)\n",
    "    "
   ]
  },
  {
   "cell_type": "code",
   "execution_count": 11,
   "id": "75b33efe-d33d-444f-ba8f-421c4120e773",
   "metadata": {},
   "outputs": [],
   "source": [
    "#f.head()"
   ]
  }
 ],
 "metadata": {
  "kernelspec": {
   "display_name": "Python 3 (ipykernel)",
   "language": "python",
   "name": "python3"
  },
  "language_info": {
   "codemirror_mode": {
    "name": "ipython",
    "version": 3
   },
   "file_extension": ".py",
   "mimetype": "text/x-python",
   "name": "python",
   "nbconvert_exporter": "python",
   "pygments_lexer": "ipython3",
   "version": "3.10.8"
  }
 },
 "nbformat": 4,
 "nbformat_minor": 5
}
