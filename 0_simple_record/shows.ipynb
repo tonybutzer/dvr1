{
 "cells": [
  {
   "cell_type": "code",
   "execution_count": 1,
   "id": "2bd943fa-8145-41ba-bfb3-80d0b070aeb1",
   "metadata": {},
   "outputs": [],
   "source": [
    "import pandas as pd\n",
    "from tabulate import tabulate\n"
   ]
  },
  {
   "cell_type": "code",
   "execution_count": 2,
   "id": "b1ffd441-9860-42aa-a316-8708d24ae3fa",
   "metadata": {},
   "outputs": [],
   "source": [
    "from libdvr.util import run_command"
   ]
  },
  {
   "cell_type": "code",
   "execution_count": 3,
   "id": "a730217c-31a7-4211-bd61-37548dcdbd7b",
   "metadata": {},
   "outputs": [],
   "source": [
    "command='atqplus'\n",
    "res = run_command(command)"
   ]
  },
  {
   "cell_type": "code",
   "execution_count": 4,
   "id": "5240bcca-9f52-4cdf-8647-4fab8872a94c",
   "metadata": {},
   "outputs": [],
   "source": [
    "# res"
   ]
  },
  {
   "cell_type": "code",
   "execution_count": 5,
   "id": "c5323d74-6635-4407-91ae-fbd548d010ef",
   "metadata": {},
   "outputs": [
    {
     "name": "stdout",
     "output_type": "stream",
     "text": [
      "2025-01-23 09:00:00-06:00\n"
     ]
    }
   ],
   "source": [
    "from datetime import datetime, timezone\n",
    "\n",
    "def date_string_to_tz_aware_datetime(date_string):\n",
    "  \"\"\"\n",
    "  Converts a date string in the format 'YYYYMMDDHHMM' to a timezone-aware datetime object.\n",
    "\n",
    "  Args:\n",
    "    date_string: The date string in the format 'YYYYMMDDHHMM'.\n",
    "\n",
    "  Returns:\n",
    "    A timezone-aware datetime object.\n",
    "  \"\"\"\n",
    "  # Extract year, month, day, hour, and minute from the date string\n",
    "  year = int(date_string[:4])\n",
    "  month = int(date_string[4:6])\n",
    "  day = int(date_string[6:8])\n",
    "  hour = int(date_string[8:10])\n",
    "  minute = int(date_string[10:])\n",
    "\n",
    "  # Create a naive datetime object\n",
    "  dt = datetime(year, month, day, hour, minute)\n",
    "\n",
    "  now = datetime.now()\n",
    "  local_timezone = now.astimezone().tzinfo\n",
    "\n",
    "  # Make the datetime object timezone-aware in UTC\n",
    "  dt_utc = dt.replace(tzinfo=local_timezone)\n",
    "\n",
    "  return dt_utc\n",
    "\n",
    "# Example usage\n",
    "date_string = \"202501230900\"\n",
    "tz_aware_datetime = date_string_to_tz_aware_datetime(date_string)\n",
    "print(tz_aware_datetime)  # Output: 2025-01-23 09:00:00+00:00"
   ]
  },
  {
   "cell_type": "code",
   "execution_count": 6,
   "id": "588892fe-df50-4815-9b8f-e1e2833953fe",
   "metadata": {},
   "outputs": [],
   "source": [
    "recs=[]\n",
    "for l in res:\n",
    "    l = str(l)\n",
    "    a=l.split('\\n')\n",
    "    for b in a:\n",
    "        if 'curl' in b:\n",
    "            #print(b)\n",
    "            b = b.replace('/home/tony/Videos/','')\n",
    "            #print(b)\n",
    "            c = b.split(' ')\n",
    "            for d in c:\n",
    "                rec={}\n",
    "                #print(d)\n",
    "                if '.ts' in d:\n",
    "                    # print(d)\n",
    "                    d = d.replace('.ts','')\n",
    "                    dt = d.split('_')[-1]\n",
    "                    dt = date_string_to_tz_aware_datetime(dt)\n",
    "                    rec['when'] = dt\n",
    "                    rec['title'] = d\n",
    "                    recs.append(rec)"
   ]
  },
  {
   "cell_type": "code",
   "execution_count": 7,
   "id": "933c0634-0659-4be3-9765-505261db573a",
   "metadata": {},
   "outputs": [],
   "source": [
    "# recs"
   ]
  },
  {
   "cell_type": "code",
   "execution_count": 8,
   "id": "2444be69-5210-4c4f-8111-9a094ebf33f0",
   "metadata": {},
   "outputs": [],
   "source": [
    "import pandas as pd\n",
    "show_df = pd.DataFrame(recs)"
   ]
  },
  {
   "cell_type": "code",
   "execution_count": 9,
   "id": "b8966bc5-0af3-462b-9671-80a18d98c53a",
   "metadata": {},
   "outputs": [],
   "source": [
    "#print(tabulate(show_df, headers='keys', tablefmt='fancy_grid'))"
   ]
  },
  {
   "cell_type": "code",
   "execution_count": 10,
   "id": "80406744-f9a9-40c6-a420-6c668cb76418",
   "metadata": {},
   "outputs": [
    {
     "name": "stdout",
     "output_type": "stream",
     "text": [
      "╒═══════════════════════════╤══════════════════════════════════════════════════════════════════════════════════════════════════╕\n",
      "│ when                      │ title                                                                                            │\n",
      "╞═══════════════════════════╪══════════════════════════════════════════════════════════════════════════════════════════════════╡\n",
      "│ 2025-01-23 14:00:00-06:00 │ Dateline_The_Halloween_Party_v13_4_202501231400                                                  │\n",
      "├───────────────────────────┼──────────────────────────────────────────────────────────────────────────────────────────────────┤\n",
      "│ 2025-01-23 16:00:00-06:00 │ KELOLAND_News_First_at_Four_ONE_v11_1_202501231600                                               │\n",
      "├───────────────────────────┼──────────────────────────────────────────────────────────────────────────────────────────────────┤\n",
      "│ 2025-01-23 16:00:00-06:00 │ Dateline_Deadly_Secret_v4_1_202501231600                                                         │\n",
      "├───────────────────────────┼──────────────────────────────────────────────────────────────────────────────────────────────────┤\n",
      "│ 2025-01-23 17:30:00-06:00 │ CBS_Evening_News_With_Norah_O_Donnell_ONE_v11_1_202501231730                                     │\n",
      "├───────────────────────────┼──────────────────────────────────────────────────────────────────────────────────────────────────┤\n",
      "│ 2025-01-23 17:30:00-06:00 │ ABC_World_News_Tonight_With_David_Muir_ONE_v13_1_202501231730                                    │\n",
      "├───────────────────────────┼──────────────────────────────────────────────────────────────────────────────────────────────────┤\n",
      "│ 2025-01-23 18:00:00-06:00 │ NBC_Nightly_News_With_Lester_Holt_ONE_v46_1_202501231800                                         │\n",
      "├───────────────────────────┼──────────────────────────────────────────────────────────────────────────────────────────────────┤\n",
      "│ 2025-01-23 18:00:00-06:00 │ 48_Hours_AKA_Rockefeller_v4_4_202501231800                                                       │\n",
      "├───────────────────────────┼──────────────────────────────────────────────────────────────────────────────────────────────────┤\n",
      "│ 2025-01-23 19:00:00-06:00 │ Dateline_Mystery_on_Tracy_Road_v11_2_202501231900                                                │\n",
      "├───────────────────────────┼──────────────────────────────────────────────────────────────────────────────────────────────────┤\n",
      "│ 2025-01-23 19:00:00-06:00 │ Hollywood_Squares_Didn_t_Work_if_Nelly_Didn_t_Laugh__The_Price_Was_Wrong_Drew_v11_1_202501231900 │\n",
      "├───────────────────────────┼──────────────────────────────────────────────────────────────────────────────────────────────────┤\n",
      "│ 2025-01-23 20:00:00-06:00 │ Georgie___Mandy_s_First_Marriage_An_Old_Mustang_v11_1_202501232000                               │\n",
      "├───────────────────────────┼──────────────────────────────────────────────────────────────────────────────────────────────────┤\n",
      "│ 2025-01-23 20:31:00-06:00 │ Ghosts_The_Primary_Source_v11_1_202501232031                                                     │\n",
      "├───────────────────────────┼──────────────────────────────────────────────────────────────────────────────────────────────────┤\n",
      "│ 2025-01-23 21:00:00-06:00 │ 48_Hours_Where_Is_Jennifer_Kesse__v11_2_202501232100                                             │\n",
      "├───────────────────────────┼──────────────────────────────────────────────────────────────────────────────────────────────────┤\n",
      "│ 2025-01-23 21:00:00-06:00 │ 48_Hours_Redemption_Song_v4_4_202501232100                                                       │\n",
      "├───────────────────────────┼──────────────────────────────────────────────────────────────────────────────────────────────────┤\n",
      "│ 2025-01-23 21:00:00-06:00 │ 48_Hours_Redemption_Song_v46_5_202501232100                                                      │\n",
      "├───────────────────────────┼──────────────────────────────────────────────────────────────────────────────────────────────────┤\n",
      "│ 2025-01-23 23:00:00-06:00 │ Dateline_Dark_Valley_v13_4_202501232300                                                          │\n",
      "├───────────────────────────┼──────────────────────────────────────────────────────────────────────────────────────────────────┤\n",
      "│ 2025-01-26 08:00:00-06:00 │ FOX_News_Sunday_One_KDLT_FOX_202501260800                                                        │\n",
      "╘═══════════════════════════╧══════════════════════════════════════════════════════════════════════════════════════════════════╛\n"
     ]
    }
   ],
   "source": [
    "df_sorted = show_df.sort_values(by='when') \n",
    "\n",
    "print(tabulate(df_sorted, headers='keys', tablefmt='fancy_grid', showindex=False))"
   ]
  },
  {
   "cell_type": "code",
   "execution_count": 11,
   "id": "ddb73759-65aa-4825-bef9-f6a8c495e480",
   "metadata": {},
   "outputs": [
    {
     "name": "stdout",
     "output_type": "stream",
     "text": [
      "Job ID: 2912\n",
      "Last Line: curl -so /home/tony/Videos/CBS_Evening_News_With_Norah_O_Donnell_ONE_v11_1_202501231730.ts 192.168.0.93:5004/auto/v11.1?duration=1800\n",
      "-----\n",
      "Job ID: 2891\n",
      "Last Line: curl -so /home/tony/Videos/Dateline_The_Halloween_Party_v13_4_202501231400.ts 192.168.0.93:5004/auto/v13.4?duration=7200\n",
      "-----\n",
      "Job ID: 2878\n",
      "Last Line: curl -so /home/tony/Videos/48_Hours_Where_Is_Jennifer_Kesse__v11_2_202501232100.ts 192.168.0.93:5004/auto/v11.2?duration=3600\n",
      "-----\n",
      "Job ID: 2913\n",
      "Last Line: curl -so /home/tony/Videos/ABC_World_News_Tonight_With_David_Muir_ONE_v13_1_202501231730.ts 192.168.0.93:5004/auto/v13.1?duration=1800\n",
      "-----\n",
      "Job ID: 2869\n",
      "Last Line: curl -so /home/tony/Videos/48_Hours_Redemption_Song_v4_4_202501232100.ts 192.168.0.93:5004/auto/v4.4?duration=3600\n",
      "-----\n",
      "Job ID: 2884\n",
      "Last Line: curl -so /home/tony/Videos/Dateline_Mystery_on_Tracy_Road_v11_2_202501231900.ts 192.168.0.93:5004/auto/v11.2?duration=3600\n",
      "-----\n",
      "Job ID: 2905\n",
      "Last Line: curl -so /home/tony/Videos/Hollywood_Squares_Didn_t_Work_if_Nelly_Didn_t_Laugh__The_Price_Was_Wrong_Drew_v11_1_202501231900.ts 192.168.0.93:5004/auto/v11.1?duration=3600\n",
      "-----\n",
      "Job ID: 2880\n",
      "Last Line: curl -so /home/tony/Videos/48_Hours_Redemption_Song_v46_5_202501232100.ts 192.168.0.93:5004/auto/v46.5?duration=3600\n",
      "-----\n",
      "Job ID: 2887\n",
      "Last Line: curl -so /home/tony/Videos/Dateline_Dark_Valley_v13_4_202501232300.ts 192.168.0.93:5004/auto/v13.4?duration=3600\n",
      "-----\n",
      "Job ID: 2911\n",
      "Last Line: curl -so /home/tony/Videos/KELOLAND_News_First_at_Four_ONE_v11_1_202501231600.ts 192.168.0.93:5004/auto/v11.1?duration=3600\n",
      "-----\n",
      "Job ID: 2800\n",
      "Last Line: curl -so /home/tony/Videos/FOX_News_Sunday_One_KDLT_FOX_202501260800.ts 192.168.0.93:5004/auto/v46.2?duration=3600\n",
      "-----\n",
      "Job ID: 2882\n",
      "Last Line: curl -so /home/tony/Videos/Dateline_Deadly_Secret_v4_1_202501231600.ts 192.168.0.93:5004/auto/v4.1?duration=3600\n",
      "-----\n",
      "Job ID: 2914\n",
      "Last Line: curl -so /home/tony/Videos/NBC_Nightly_News_With_Lester_Holt_ONE_v46_1_202501231800.ts 192.168.0.93:5004/auto/v46.1?duration=1800\n",
      "-----\n",
      "Job ID: 2900\n",
      "Last Line: curl -so /home/tony/Videos/Georgie___Mandy_s_First_Marriage_An_Old_Mustang_v11_1_202501232000.ts 192.168.0.93:5004/auto/v11.1?duration=1860\n",
      "-----\n",
      "Job ID: 2870\n",
      "Last Line: curl -so /home/tony/Videos/48_Hours_AKA_Rockefeller_v4_4_202501231800.ts 192.168.0.93:5004/auto/v4.4?duration=3600\n",
      "-----\n",
      "Job ID: 2906\n",
      "Last Line: curl -so /home/tony/Videos/Ghosts_The_Primary_Source_v11_1_202501232031.ts 192.168.0.93:5004/auto/v11.1?duration=1800\n",
      "-----\n"
     ]
    }
   ],
   "source": [
    "!atqplus"
   ]
  },
  {
   "cell_type": "code",
   "execution_count": 14,
   "id": "2ac118be-7f47-4986-9882-dbed0dae5904",
   "metadata": {},
   "outputs": [],
   "source": [
    "#!atrm 2869"
   ]
  },
  {
   "cell_type": "code",
   "execution_count": null,
   "id": "a6173b75-53c1-45ef-b8af-77805cf341fa",
   "metadata": {},
   "outputs": [],
   "source": []
  }
 ],
 "metadata": {
  "kernelspec": {
   "display_name": "Python 3 (ipykernel)",
   "language": "python",
   "name": "python3"
  },
  "language_info": {
   "codemirror_mode": {
    "name": "ipython",
    "version": 3
   },
   "file_extension": ".py",
   "mimetype": "text/x-python",
   "name": "python",
   "nbconvert_exporter": "python",
   "pygments_lexer": "ipython3",
   "version": "3.10.8"
  }
 },
 "nbformat": 4,
 "nbformat_minor": 5
}
