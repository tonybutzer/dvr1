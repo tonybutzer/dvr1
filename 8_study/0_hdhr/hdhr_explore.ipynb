{
 "cells": [
  {
   "cell_type": "markdown",
   "id": "7fb6ac07-0dff-403f-9618-2c28742c76d7",
   "metadata": {},
   "source": [
    "# Overview\n",
    "\n",
    "- discover\n",
    "- channels stations\n",
    "- signal strenth\n",
    "- recording"
   ]
  },
  {
   "cell_type": "code",
   "execution_count": 1,
   "id": "7f561eae-8c74-49ee-aef0-c43b9bf73cd3",
   "metadata": {},
   "outputs": [
    {
     "name": "stdout",
     "output_type": "stream",
     "text": [
      "hdhomerun device 10B16BC7 found at fe80::218:ddff:fe0b:16bc%2\n",
      "hdhomerun device 10B16BC7 found at 192.168.0.151\n"
     ]
    }
   ],
   "source": [
    "# discover \n",
    "!hdhomerun_config discover"
   ]
  },
  {
   "cell_type": "code",
   "execution_count": 2,
   "id": "84977357-6cac-40b3-8984-04b96aa591ba",
   "metadata": {},
   "outputs": [],
   "source": [
    "hdhr0 = '10B16BC7'\n",
    "hdip = '192.168.0.151'"
   ]
  },
  {
   "cell_type": "markdown",
   "id": "0b8d422c-42c2-484e-b5d3-a074fe684ff3",
   "metadata": {},
   "source": [
    "# Stations Channels Lineup\n",
    "\n",
    "https://www.silicondust.com/hdhomerun/hdhomerun_development.pdf\n",
    "https://community.getchannels.com/t/what-is-the-lineup-value-in-json-of-a-hdhomerun-source/36388\n"
   ]
  },
  {
   "cell_type": "code",
   "execution_count": 3,
   "id": "434ac679-d213-4fae-8443-d5e3b17d7ef6",
   "metadata": {},
   "outputs": [
    {
     "name": "stdout",
     "output_type": "stream",
     "text": [
      "--2025-01-10 14:39:18--  http://192.168.0.151/lineup.json\n",
      "Connecting to 192.168.0.151:80... connected.\n",
      "HTTP request sent, awaiting response... 200 OK\n",
      "Length: unspecified [application/json]\n",
      "Saving to: ‘lineup.json.1’\n",
      "\n",
      "lineup.json.1           [ <=>                ]   4.57K  --.-KB/s    in 0.002s  \n",
      "\n",
      "2025-01-10 14:39:18 (2.31 MB/s) - ‘lineup.json.1’ saved [4681]\n",
      "\n"
     ]
    }
   ],
   "source": [
    "! wget 192.168.0.151/lineup.json"
   ]
  },
  {
   "cell_type": "code",
   "execution_count": 4,
   "id": "7ce974f3-c9f7-4cd1-a1d3-698b46589cf9",
   "metadata": {},
   "outputs": [
    {
     "name": "stdout",
     "output_type": "stream",
     "text": [
      "[{'GuideNumber': '4.1', 'GuideName': 'KTIVNBC', 'VideoCodec': 'MPEG2', 'AudioCodec': 'AC3', 'HD': 1, 'URL': 'http://192.168.0.151:5004/auto/v4.1'}, {'GuideNumber': '4.2', 'GuideName': 'KTIVCW', 'VideoCodec': 'MPEG2', 'AudioCodec': 'AC3', 'HD': 1, 'URL': 'http://192.168.0.151:5004/auto/v4.2'}, {'GuideNumber': '4.3', 'GuideName': 'KTIVME', 'VideoCodec': 'MPEG2', 'AudioCodec': 'AC3', 'URL': 'http://192.168.0.151:5004/auto/v4.3'}, {'GuideNumber': '4.4', 'GuideName': 'CourtTV', 'VideoCodec': 'MPEG2', 'AudioCodec': 'AC3', 'URL': 'http://192.168.0.151:5004/auto/v4.4'}, {'GuideNumber': '4.5', 'GuideName': 'Ion', 'VideoCodec': 'MPEG2', 'AudioCodec': 'AC3', 'URL': 'http://192.168.0.151:5004/auto/v4.5'}, {'GuideNumber': '4.6', 'GuideName': 'Outlaw', 'VideoCodec': 'MPEG2', 'AudioCodec': 'AC3', 'URL': 'http://192.168.0.151:5004/auto/v4.6'}, {'GuideNumber': '7.1', 'GuideName': 'KTTW HD', 'VideoCodec': 'MPEG2', 'AudioCodec': 'AC3', 'HD': 1, 'URL': 'http://192.168.0.151:5004/auto/v7.1'}, {'GuideNumber': '7.2', 'GuideName': 'ONTV4U', 'VideoCodec': 'MPEG2', 'AudioCodec': 'AC3', 'URL': 'http://192.168.0.151:5004/auto/v7.2'}, {'GuideNumber': '7.3', 'GuideName': 'SBN', 'VideoCodec': 'MPEG2', 'AudioCodec': 'AC3', 'URL': 'http://192.168.0.151:5004/auto/v7.3'}, {'GuideNumber': '7.4', 'GuideName': 'LAFF', 'VideoCodec': 'MPEG2', 'AudioCodec': 'AC3', 'URL': 'http://192.168.0.151:5004/auto/v7.4'}, {'GuideNumber': '7.5', 'GuideName': 'Bounce', 'VideoCodec': 'MPEG2', 'AudioCodec': 'AC3', 'URL': 'http://192.168.0.151:5004/auto/v7.5'}, {'GuideNumber': '7.6', 'GuideName': 'Grit', 'VideoCodec': 'MPEG2', 'AudioCodec': 'AC3', 'URL': 'http://192.168.0.151:5004/auto/v7.6'}, {'GuideNumber': '7.7', 'GuideName': 'IONPlus', 'VideoCodec': 'MPEG2', 'AudioCodec': 'AC3', 'URL': 'http://192.168.0.151:5004/auto/v7.7'}, {'GuideNumber': '7.8', 'GuideName': 'Positiv', 'VideoCodec': 'MPEG2', 'AudioCodec': 'AC3', 'URL': 'http://192.168.0.151:5004/auto/v7.8'}, {'GuideNumber': '7.9', 'GuideName': 'GDT', 'VideoCodec': 'MPEG2', 'AudioCodec': 'AC3', 'URL': 'http://192.168.0.151:5004/auto/v7.9'}, {'GuideNumber': '7.10', 'GuideName': 'Quest', 'VideoCodec': 'MPEG2', 'AudioCodec': 'AC3', 'URL': 'http://192.168.0.151:5004/auto/v7.10'}, {'GuideNumber': '13.1', 'GuideName': 'KSFY-TV', 'VideoCodec': 'MPEG2', 'AudioCodec': 'AC3', 'HD': 1, 'URL': 'http://192.168.0.151:5004/auto/v13.1'}, {'GuideNumber': '13.2', 'GuideName': 'Outlaw', 'VideoCodec': 'MPEG2', 'AudioCodec': 'AC3', 'HD': 1, 'URL': 'http://192.168.0.151:5004/auto/v13.2'}, {'GuideNumber': '13.3', 'GuideName': 'MeTV', 'VideoCodec': 'MPEG2', 'AudioCodec': 'AC3', 'URL': 'http://192.168.0.151:5004/auto/v13.3'}, {'GuideNumber': '13.4', 'GuideName': 'T-Crime', 'VideoCodec': 'MPEG2', 'AudioCodec': 'AC3', 'URL': 'http://192.168.0.151:5004/auto/v13.4'}, {'GuideNumber': '13.5', 'GuideName': 'StartTV', 'VideoCodec': 'MPEG2', 'AudioCodec': 'AC3', 'URL': 'http://192.168.0.151:5004/auto/v13.5'}, {'GuideNumber': '13.6', 'GuideName': 'MeToons', 'VideoCodec': 'MPEG2', 'AudioCodec': 'AC3', 'URL': 'http://192.168.0.151:5004/auto/v13.6'}, {'GuideNumber': '15.1', 'GuideName': 'KABY-LD', 'VideoCodec': 'MPEG2', 'AudioCodec': 'AC3', 'HD': 1, 'URL': 'http://192.168.0.151:5004/auto/v15.1'}, {'GuideNumber': '15.2', 'GuideName': 'Outlaw', 'VideoCodec': 'MPEG2', 'AudioCodec': 'AC3', 'HD': 1, 'URL': 'http://192.168.0.151:5004/auto/v15.2'}, {'GuideNumber': '15.3', 'GuideName': 'MeTV', 'VideoCodec': 'MPEG2', 'AudioCodec': 'AC3', 'URL': 'http://192.168.0.151:5004/auto/v15.3'}, {'GuideNumber': '15.4', 'GuideName': 'T-Crime', 'VideoCodec': 'MPEG2', 'AudioCodec': 'AC3', 'URL': 'http://192.168.0.151:5004/auto/v15.4'}, {'GuideNumber': '15.5', 'GuideName': 'StartTV', 'VideoCodec': 'MPEG2', 'AudioCodec': 'AC3', 'URL': 'http://192.168.0.151:5004/auto/v15.5'}, {'GuideNumber': '15.6', 'GuideName': 'MeToons', 'VideoCodec': 'MPEG2', 'AudioCodec': 'AC3', 'URL': 'http://192.168.0.151:5004/auto/v15.6'}, {'GuideNumber': '36.1', 'GuideName': 'KSFL-DT', 'VideoCodec': 'MPEG2', 'AudioCodec': 'AC3', 'HD': 1, 'URL': 'http://192.168.0.151:5004/auto/v36.1'}, {'GuideNumber': '36.2', 'GuideName': 'YTA', 'VideoCodec': 'MPEG2', 'AudioCodec': 'AC3', 'HD': 1, 'URL': 'http://192.168.0.151:5004/auto/v36.2'}, {'GuideNumber': '46.1', 'GuideName': 'KDLT-TV', 'VideoCodec': 'MPEG2', 'AudioCodec': 'AC3', 'HD': 1, 'URL': 'http://192.168.0.151:5004/auto/v46.1'}, {'GuideNumber': '46.2', 'GuideName': 'FOX', 'VideoCodec': 'MPEG2', 'AudioCodec': 'AC3', 'HD': 1, 'URL': 'http://192.168.0.151:5004/auto/v46.2'}, {'GuideNumber': '46.3', 'GuideName': 'The365', 'VideoCodec': 'MPEG2', 'AudioCodec': 'AC3', 'URL': 'http://192.168.0.151:5004/auto/v46.3'}, {'GuideNumber': '46.4', 'GuideName': 'Cozi', 'VideoCodec': 'MPEG2', 'AudioCodec': 'AC3', 'URL': 'http://192.168.0.151:5004/auto/v46.4'}, {'GuideNumber': '46.5', 'GuideName': 'Court', 'VideoCodec': 'MPEG2', 'AudioCodec': 'AC3', 'URL': 'http://192.168.0.151:5004/auto/v46.5'}, {'GuideNumber': '46.6', 'GuideName': 'IONMyst', 'VideoCodec': 'MPEG2', 'AudioCodec': 'AC3', 'URL': 'http://192.168.0.151:5004/auto/v46.6'}]\n"
     ]
    }
   ],
   "source": [
    "import json\n",
    "\n",
    "def read_json_to_dict(file_path):\n",
    "  \"\"\"\n",
    "  Reads a JSON file and returns its contents as a Python dictionary.\n",
    "\n",
    "  Args:\n",
    "    file_path: The path to the JSON file.\n",
    "\n",
    "  Returns:\n",
    "    A Python dictionary containing the data from the JSON file.\n",
    "  \"\"\"\n",
    "  with open(file_path, 'r') as f:\n",
    "    data = json.load(f)\n",
    "  return data\n",
    "\n",
    "# Example usage:\n",
    "file_path = 'lineup.json'  # Replace with the actual path to your JSON file\n",
    "data_dict = read_json_to_dict(file_path)\n",
    "\n",
    "print(data_dict) "
   ]
  },
  {
   "cell_type": "code",
   "execution_count": 5,
   "id": "8c236def-b5b6-42d3-8028-75a0a801f001",
   "metadata": {},
   "outputs": [
    {
     "data": {
      "text/plain": [
       "[{'GuideNumber': '4.1',\n",
       "  'GuideName': 'KTIVNBC',\n",
       "  'VideoCodec': 'MPEG2',\n",
       "  'AudioCodec': 'AC3',\n",
       "  'HD': 1,\n",
       "  'URL': 'http://192.168.0.151:5004/auto/v4.1'},\n",
       " {'GuideNumber': '4.2',\n",
       "  'GuideName': 'KTIVCW',\n",
       "  'VideoCodec': 'MPEG2',\n",
       "  'AudioCodec': 'AC3',\n",
       "  'HD': 1,\n",
       "  'URL': 'http://192.168.0.151:5004/auto/v4.2'},\n",
       " {'GuideNumber': '4.3',\n",
       "  'GuideName': 'KTIVME',\n",
       "  'VideoCodec': 'MPEG2',\n",
       "  'AudioCodec': 'AC3',\n",
       "  'URL': 'http://192.168.0.151:5004/auto/v4.3'},\n",
       " {'GuideNumber': '4.4',\n",
       "  'GuideName': 'CourtTV',\n",
       "  'VideoCodec': 'MPEG2',\n",
       "  'AudioCodec': 'AC3',\n",
       "  'URL': 'http://192.168.0.151:5004/auto/v4.4'},\n",
       " {'GuideNumber': '4.5',\n",
       "  'GuideName': 'Ion',\n",
       "  'VideoCodec': 'MPEG2',\n",
       "  'AudioCodec': 'AC3',\n",
       "  'URL': 'http://192.168.0.151:5004/auto/v4.5'},\n",
       " {'GuideNumber': '4.6',\n",
       "  'GuideName': 'Outlaw',\n",
       "  'VideoCodec': 'MPEG2',\n",
       "  'AudioCodec': 'AC3',\n",
       "  'URL': 'http://192.168.0.151:5004/auto/v4.6'},\n",
       " {'GuideNumber': '7.1',\n",
       "  'GuideName': 'KTTW HD',\n",
       "  'VideoCodec': 'MPEG2',\n",
       "  'AudioCodec': 'AC3',\n",
       "  'HD': 1,\n",
       "  'URL': 'http://192.168.0.151:5004/auto/v7.1'},\n",
       " {'GuideNumber': '7.2',\n",
       "  'GuideName': 'ONTV4U',\n",
       "  'VideoCodec': 'MPEG2',\n",
       "  'AudioCodec': 'AC3',\n",
       "  'URL': 'http://192.168.0.151:5004/auto/v7.2'},\n",
       " {'GuideNumber': '7.3',\n",
       "  'GuideName': 'SBN',\n",
       "  'VideoCodec': 'MPEG2',\n",
       "  'AudioCodec': 'AC3',\n",
       "  'URL': 'http://192.168.0.151:5004/auto/v7.3'},\n",
       " {'GuideNumber': '7.4',\n",
       "  'GuideName': 'LAFF',\n",
       "  'VideoCodec': 'MPEG2',\n",
       "  'AudioCodec': 'AC3',\n",
       "  'URL': 'http://192.168.0.151:5004/auto/v7.4'},\n",
       " {'GuideNumber': '7.5',\n",
       "  'GuideName': 'Bounce',\n",
       "  'VideoCodec': 'MPEG2',\n",
       "  'AudioCodec': 'AC3',\n",
       "  'URL': 'http://192.168.0.151:5004/auto/v7.5'},\n",
       " {'GuideNumber': '7.6',\n",
       "  'GuideName': 'Grit',\n",
       "  'VideoCodec': 'MPEG2',\n",
       "  'AudioCodec': 'AC3',\n",
       "  'URL': 'http://192.168.0.151:5004/auto/v7.6'},\n",
       " {'GuideNumber': '7.7',\n",
       "  'GuideName': 'IONPlus',\n",
       "  'VideoCodec': 'MPEG2',\n",
       "  'AudioCodec': 'AC3',\n",
       "  'URL': 'http://192.168.0.151:5004/auto/v7.7'},\n",
       " {'GuideNumber': '7.8',\n",
       "  'GuideName': 'Positiv',\n",
       "  'VideoCodec': 'MPEG2',\n",
       "  'AudioCodec': 'AC3',\n",
       "  'URL': 'http://192.168.0.151:5004/auto/v7.8'},\n",
       " {'GuideNumber': '7.9',\n",
       "  'GuideName': 'GDT',\n",
       "  'VideoCodec': 'MPEG2',\n",
       "  'AudioCodec': 'AC3',\n",
       "  'URL': 'http://192.168.0.151:5004/auto/v7.9'},\n",
       " {'GuideNumber': '7.10',\n",
       "  'GuideName': 'Quest',\n",
       "  'VideoCodec': 'MPEG2',\n",
       "  'AudioCodec': 'AC3',\n",
       "  'URL': 'http://192.168.0.151:5004/auto/v7.10'},\n",
       " {'GuideNumber': '13.1',\n",
       "  'GuideName': 'KSFY-TV',\n",
       "  'VideoCodec': 'MPEG2',\n",
       "  'AudioCodec': 'AC3',\n",
       "  'HD': 1,\n",
       "  'URL': 'http://192.168.0.151:5004/auto/v13.1'},\n",
       " {'GuideNumber': '13.2',\n",
       "  'GuideName': 'Outlaw',\n",
       "  'VideoCodec': 'MPEG2',\n",
       "  'AudioCodec': 'AC3',\n",
       "  'HD': 1,\n",
       "  'URL': 'http://192.168.0.151:5004/auto/v13.2'},\n",
       " {'GuideNumber': '13.3',\n",
       "  'GuideName': 'MeTV',\n",
       "  'VideoCodec': 'MPEG2',\n",
       "  'AudioCodec': 'AC3',\n",
       "  'URL': 'http://192.168.0.151:5004/auto/v13.3'},\n",
       " {'GuideNumber': '13.4',\n",
       "  'GuideName': 'T-Crime',\n",
       "  'VideoCodec': 'MPEG2',\n",
       "  'AudioCodec': 'AC3',\n",
       "  'URL': 'http://192.168.0.151:5004/auto/v13.4'},\n",
       " {'GuideNumber': '13.5',\n",
       "  'GuideName': 'StartTV',\n",
       "  'VideoCodec': 'MPEG2',\n",
       "  'AudioCodec': 'AC3',\n",
       "  'URL': 'http://192.168.0.151:5004/auto/v13.5'},\n",
       " {'GuideNumber': '13.6',\n",
       "  'GuideName': 'MeToons',\n",
       "  'VideoCodec': 'MPEG2',\n",
       "  'AudioCodec': 'AC3',\n",
       "  'URL': 'http://192.168.0.151:5004/auto/v13.6'},\n",
       " {'GuideNumber': '15.1',\n",
       "  'GuideName': 'KABY-LD',\n",
       "  'VideoCodec': 'MPEG2',\n",
       "  'AudioCodec': 'AC3',\n",
       "  'HD': 1,\n",
       "  'URL': 'http://192.168.0.151:5004/auto/v15.1'},\n",
       " {'GuideNumber': '15.2',\n",
       "  'GuideName': 'Outlaw',\n",
       "  'VideoCodec': 'MPEG2',\n",
       "  'AudioCodec': 'AC3',\n",
       "  'HD': 1,\n",
       "  'URL': 'http://192.168.0.151:5004/auto/v15.2'},\n",
       " {'GuideNumber': '15.3',\n",
       "  'GuideName': 'MeTV',\n",
       "  'VideoCodec': 'MPEG2',\n",
       "  'AudioCodec': 'AC3',\n",
       "  'URL': 'http://192.168.0.151:5004/auto/v15.3'},\n",
       " {'GuideNumber': '15.4',\n",
       "  'GuideName': 'T-Crime',\n",
       "  'VideoCodec': 'MPEG2',\n",
       "  'AudioCodec': 'AC3',\n",
       "  'URL': 'http://192.168.0.151:5004/auto/v15.4'},\n",
       " {'GuideNumber': '15.5',\n",
       "  'GuideName': 'StartTV',\n",
       "  'VideoCodec': 'MPEG2',\n",
       "  'AudioCodec': 'AC3',\n",
       "  'URL': 'http://192.168.0.151:5004/auto/v15.5'},\n",
       " {'GuideNumber': '15.6',\n",
       "  'GuideName': 'MeToons',\n",
       "  'VideoCodec': 'MPEG2',\n",
       "  'AudioCodec': 'AC3',\n",
       "  'URL': 'http://192.168.0.151:5004/auto/v15.6'},\n",
       " {'GuideNumber': '36.1',\n",
       "  'GuideName': 'KSFL-DT',\n",
       "  'VideoCodec': 'MPEG2',\n",
       "  'AudioCodec': 'AC3',\n",
       "  'HD': 1,\n",
       "  'URL': 'http://192.168.0.151:5004/auto/v36.1'},\n",
       " {'GuideNumber': '36.2',\n",
       "  'GuideName': 'YTA',\n",
       "  'VideoCodec': 'MPEG2',\n",
       "  'AudioCodec': 'AC3',\n",
       "  'HD': 1,\n",
       "  'URL': 'http://192.168.0.151:5004/auto/v36.2'},\n",
       " {'GuideNumber': '46.1',\n",
       "  'GuideName': 'KDLT-TV',\n",
       "  'VideoCodec': 'MPEG2',\n",
       "  'AudioCodec': 'AC3',\n",
       "  'HD': 1,\n",
       "  'URL': 'http://192.168.0.151:5004/auto/v46.1'},\n",
       " {'GuideNumber': '46.2',\n",
       "  'GuideName': 'FOX',\n",
       "  'VideoCodec': 'MPEG2',\n",
       "  'AudioCodec': 'AC3',\n",
       "  'HD': 1,\n",
       "  'URL': 'http://192.168.0.151:5004/auto/v46.2'},\n",
       " {'GuideNumber': '46.3',\n",
       "  'GuideName': 'The365',\n",
       "  'VideoCodec': 'MPEG2',\n",
       "  'AudioCodec': 'AC3',\n",
       "  'URL': 'http://192.168.0.151:5004/auto/v46.3'},\n",
       " {'GuideNumber': '46.4',\n",
       "  'GuideName': 'Cozi',\n",
       "  'VideoCodec': 'MPEG2',\n",
       "  'AudioCodec': 'AC3',\n",
       "  'URL': 'http://192.168.0.151:5004/auto/v46.4'},\n",
       " {'GuideNumber': '46.5',\n",
       "  'GuideName': 'Court',\n",
       "  'VideoCodec': 'MPEG2',\n",
       "  'AudioCodec': 'AC3',\n",
       "  'URL': 'http://192.168.0.151:5004/auto/v46.5'},\n",
       " {'GuideNumber': '46.6',\n",
       "  'GuideName': 'IONMyst',\n",
       "  'VideoCodec': 'MPEG2',\n",
       "  'AudioCodec': 'AC3',\n",
       "  'URL': 'http://192.168.0.151:5004/auto/v46.6'}]"
      ]
     },
     "execution_count": 5,
     "metadata": {},
     "output_type": "execute_result"
    }
   ],
   "source": [
    "data_dict"
   ]
  },
  {
   "cell_type": "code",
   "execution_count": 6,
   "id": "f24185d4-be21-40f2-b702-a4d1b8c549e3",
   "metadata": {},
   "outputs": [
    {
     "data": {
      "text/plain": [
       "{'GuideNumber': '4.1',\n",
       " 'GuideName': 'KTIVNBC',\n",
       " 'VideoCodec': 'MPEG2',\n",
       " 'AudioCodec': 'AC3',\n",
       " 'HD': 1,\n",
       " 'URL': 'http://192.168.0.151:5004/auto/v4.1'}"
      ]
     },
     "execution_count": 6,
     "metadata": {},
     "output_type": "execute_result"
    }
   ],
   "source": [
    "data_dict[0]"
   ]
  },
  {
   "cell_type": "code",
   "execution_count": 7,
   "id": "836bd504-7bdc-41cc-a269-9ffee363269a",
   "metadata": {},
   "outputs": [
    {
     "name": "stdout",
     "output_type": "stream",
     "text": [
      "   GuideNumber GuideName VideoCodec AudioCodec   HD  \\\n",
      "0          4.1   KTIVNBC      MPEG2        AC3  1.0   \n",
      "1          4.2    KTIVCW      MPEG2        AC3  1.0   \n",
      "2          4.3    KTIVME      MPEG2        AC3  NaN   \n",
      "3          4.4   CourtTV      MPEG2        AC3  NaN   \n",
      "4          4.5       Ion      MPEG2        AC3  NaN   \n",
      "5          4.6    Outlaw      MPEG2        AC3  NaN   \n",
      "6          7.1   KTTW HD      MPEG2        AC3  1.0   \n",
      "7          7.2    ONTV4U      MPEG2        AC3  NaN   \n",
      "8          7.3       SBN      MPEG2        AC3  NaN   \n",
      "9          7.4      LAFF      MPEG2        AC3  NaN   \n",
      "10         7.5    Bounce      MPEG2        AC3  NaN   \n",
      "11         7.6      Grit      MPEG2        AC3  NaN   \n",
      "12         7.7   IONPlus      MPEG2        AC3  NaN   \n",
      "13         7.8   Positiv      MPEG2        AC3  NaN   \n",
      "14         7.9       GDT      MPEG2        AC3  NaN   \n",
      "15        7.10     Quest      MPEG2        AC3  NaN   \n",
      "16        13.1   KSFY-TV      MPEG2        AC3  1.0   \n",
      "17        13.2    Outlaw      MPEG2        AC3  1.0   \n",
      "18        13.3      MeTV      MPEG2        AC3  NaN   \n",
      "19        13.4   T-Crime      MPEG2        AC3  NaN   \n",
      "20        13.5   StartTV      MPEG2        AC3  NaN   \n",
      "21        13.6   MeToons      MPEG2        AC3  NaN   \n",
      "22        15.1   KABY-LD      MPEG2        AC3  1.0   \n",
      "23        15.2    Outlaw      MPEG2        AC3  1.0   \n",
      "24        15.3      MeTV      MPEG2        AC3  NaN   \n",
      "25        15.4   T-Crime      MPEG2        AC3  NaN   \n",
      "26        15.5   StartTV      MPEG2        AC3  NaN   \n",
      "27        15.6   MeToons      MPEG2        AC3  NaN   \n",
      "28        36.1   KSFL-DT      MPEG2        AC3  1.0   \n",
      "29        36.2       YTA      MPEG2        AC3  1.0   \n",
      "30        46.1   KDLT-TV      MPEG2        AC3  1.0   \n",
      "31        46.2       FOX      MPEG2        AC3  1.0   \n",
      "32        46.3    The365      MPEG2        AC3  NaN   \n",
      "33        46.4      Cozi      MPEG2        AC3  NaN   \n",
      "34        46.5     Court      MPEG2        AC3  NaN   \n",
      "35        46.6   IONMyst      MPEG2        AC3  NaN   \n",
      "\n",
      "                                     URL  \n",
      "0    http://192.168.0.151:5004/auto/v4.1  \n",
      "1    http://192.168.0.151:5004/auto/v4.2  \n",
      "2    http://192.168.0.151:5004/auto/v4.3  \n",
      "3    http://192.168.0.151:5004/auto/v4.4  \n",
      "4    http://192.168.0.151:5004/auto/v4.5  \n",
      "5    http://192.168.0.151:5004/auto/v4.6  \n",
      "6    http://192.168.0.151:5004/auto/v7.1  \n",
      "7    http://192.168.0.151:5004/auto/v7.2  \n",
      "8    http://192.168.0.151:5004/auto/v7.3  \n",
      "9    http://192.168.0.151:5004/auto/v7.4  \n",
      "10   http://192.168.0.151:5004/auto/v7.5  \n",
      "11   http://192.168.0.151:5004/auto/v7.6  \n",
      "12   http://192.168.0.151:5004/auto/v7.7  \n",
      "13   http://192.168.0.151:5004/auto/v7.8  \n",
      "14   http://192.168.0.151:5004/auto/v7.9  \n",
      "15  http://192.168.0.151:5004/auto/v7.10  \n",
      "16  http://192.168.0.151:5004/auto/v13.1  \n",
      "17  http://192.168.0.151:5004/auto/v13.2  \n",
      "18  http://192.168.0.151:5004/auto/v13.3  \n",
      "19  http://192.168.0.151:5004/auto/v13.4  \n",
      "20  http://192.168.0.151:5004/auto/v13.5  \n",
      "21  http://192.168.0.151:5004/auto/v13.6  \n",
      "22  http://192.168.0.151:5004/auto/v15.1  \n",
      "23  http://192.168.0.151:5004/auto/v15.2  \n",
      "24  http://192.168.0.151:5004/auto/v15.3  \n",
      "25  http://192.168.0.151:5004/auto/v15.4  \n",
      "26  http://192.168.0.151:5004/auto/v15.5  \n",
      "27  http://192.168.0.151:5004/auto/v15.6  \n",
      "28  http://192.168.0.151:5004/auto/v36.1  \n",
      "29  http://192.168.0.151:5004/auto/v36.2  \n",
      "30  http://192.168.0.151:5004/auto/v46.1  \n",
      "31  http://192.168.0.151:5004/auto/v46.2  \n",
      "32  http://192.168.0.151:5004/auto/v46.3  \n",
      "33  http://192.168.0.151:5004/auto/v46.4  \n",
      "34  http://192.168.0.151:5004/auto/v46.5  \n",
      "35  http://192.168.0.151:5004/auto/v46.6  \n"
     ]
    }
   ],
   "source": [
    "\n",
    "import pandas as pd\n",
    "\n",
    "def dict_to_df(data_dict):\n",
    "  \"\"\"\n",
    "  Converts a Python dictionary to a pandas DataFrame.\n",
    "\n",
    "  Args:\n",
    "    data_dict: The dictionary to be converted.\n",
    "\n",
    "  Returns:\n",
    "    A pandas DataFrame.\n",
    "  \"\"\"\n",
    "  df = pd.DataFrame.from_dict(data_dict)\n",
    "  return df\n",
    "\n",
    "# Example usage:\n",
    "# Assuming 'data_dict' is your existing dictionary\n",
    "df = dict_to_df(data_dict)\n",
    "\n",
    "print(df)"
   ]
  },
  {
   "cell_type": "code",
   "execution_count": 8,
   "id": "604eddeb-59ac-4380-8018-e0ba4c4a0164",
   "metadata": {},
   "outputs": [
    {
     "name": "stdout",
     "output_type": "stream",
     "text": [
      "4.1\n",
      "4.2\n",
      "4.3\n",
      "4.4\n",
      "4.5\n",
      "4.6\n",
      "7.1\n",
      "7.2\n",
      "7.3\n",
      "7.4\n",
      "7.5\n",
      "7.6\n",
      "7.7\n",
      "7.8\n",
      "7.9\n",
      "7.10\n",
      "13.1\n",
      "13.2\n",
      "13.3\n",
      "13.4\n",
      "13.5\n",
      "13.6\n",
      "15.1\n",
      "15.2\n",
      "15.3\n",
      "15.4\n",
      "15.5\n",
      "15.6\n",
      "36.1\n",
      "36.2\n",
      "46.1\n",
      "46.2\n",
      "46.3\n",
      "46.4\n",
      "46.5\n",
      "46.6\n"
     ]
    }
   ],
   "source": [
    "for index, row in df.iterrows():\n",
    "    print(row['GuideNumber'])"
   ]
  },
  {
   "cell_type": "code",
   "execution_count": 9,
   "id": "7c90ecdf-b41d-4790-a2f1-6b11c05ea052",
   "metadata": {},
   "outputs": [
    {
     "name": "stdout",
     "output_type": "stream",
     "text": [
      "Command executed successfully.\n",
      "Output:\n",
      " total 4252\n",
      "-rw-rw-r-- 1 tony tony 4299700 Jan 10 14:31 a.ts\n",
      "-rw-rw-r-- 1 tony tony   29463 Jan 10 14:37 hdhr_explore.ipynb\n",
      "-rw-rw-r-- 1 tony tony    4681 Jan 10 14:10 lineup.json\n",
      "-rw-rw-r-- 1 tony tony    4681 Jan 10 14:39 lineup.json.1\n",
      "-rw-rw-r-- 1 tony tony     142 Jan 10 12:46 Makefile\n",
      "\n"
     ]
    }
   ],
   "source": [
    "\n",
    "import subprocess\n",
    "\n",
    "def run_command_in_background(command):\n",
    "  \"\"\"\n",
    "  Runs a command in the background and captures its output.\n",
    "\n",
    "  Args:\n",
    "    command: The command to be executed (e.g., \"ls -l\").\n",
    "\n",
    "  Returns:\n",
    "    A tuple containing:\n",
    "      - The output of the command as a string.\n",
    "      - The return code of the command.\n",
    "  \"\"\"\n",
    "  try:\n",
    "    result = subprocess.run(command, shell=True, capture_output=True, text=True)\n",
    "    return result.stdout, result.returncode\n",
    "  except subprocess.CalledProcessError as e:\n",
    "    return e.output, e.returncode\n",
    "\n",
    "# Example usage:\n",
    "command = \"ls -l\"\n",
    "output, returncode = run_command_in_background(command)\n",
    "\n",
    "if returncode == 0:\n",
    "  print(\"Command executed successfully.\")\n",
    "  print(\"Output:\\n\", output)\n",
    "else:\n",
    "  print(\"Command execution failed.\")\n",
    "  print(\"Output:\\n\", output)\n",
    "  print(\"Return code:\", returncode)"
   ]
  },
  {
   "cell_type": "code",
   "execution_count": 10,
   "id": "a67dfae6-be84-4d14-8dbe-c3070ddf4892",
   "metadata": {},
   "outputs": [],
   "source": [
    "command = f'curl -o a.ts {hdip}:5004/tuner1/v13.1?duration=6 &'\n",
    "command2 = f'hdhomerun_config {hdhr0} get /tuner1/status'\n"
   ]
  },
  {
   "cell_type": "code",
   "execution_count": 11,
   "id": "537c0d78-17f0-48cb-9a51-bfe754a4124c",
   "metadata": {},
   "outputs": [
    {
     "name": "stdout",
     "output_type": "stream",
     "text": [
      "Command executed successfully.\n",
      "Output:\n",
      " \n",
      "ch=none lock=none ss=0 snq=0 seq=0 bps=0 pps=0\n",
      "\n"
     ]
    }
   ],
   "source": [
    "output, returncode = run_command_in_background(command)\n",
    "output2, returncode2 = run_command_in_background(command2)\n",
    "\n",
    "if returncode == 0:\n",
    "  print(\"Command executed successfully.\")\n",
    "  print(\"Output:\\n\", output)\n",
    "else:\n",
    "  print(\"Command execution failed.\")\n",
    "  print(\"Output:\\n\", output)\n",
    "  print(\"Return code:\", returncode)\n",
    "\n",
    "print(output2)\n"
   ]
  },
  {
   "cell_type": "code",
   "execution_count": 12,
   "id": "520f0497-cf52-480c-a589-22a550f21b4f",
   "metadata": {},
   "outputs": [
    {
     "name": "stdout",
     "output_type": "stream",
     "text": [
      "Command executed successfully.\n",
      "Output:\n",
      " ch=none lock=none ss=0 snq=0 seq=0 bps=0 pps=0\n",
      "\n"
     ]
    }
   ],
   "source": [
    "if returncode2 == 0:\n",
    "  print(\"Command executed successfully.\")\n",
    "  print(\"Output:\\n\", output2)\n",
    "else:\n",
    "  print(\"Command execution failed.\")\n",
    "  print(\"Output:\\n\", output)\n",
    "  print(\"Return code:\", returncode)"
   ]
  },
  {
   "cell_type": "code",
   "execution_count": 13,
   "id": "6a5f46e2-8b65-4ebe-bd97-e2f3e90a87ff",
   "metadata": {},
   "outputs": [],
   "source": [
    "#! curl -o a.ts 192.168.0.151:5004/tuner1/v13.1?duration=6"
   ]
  },
  {
   "cell_type": "code",
   "execution_count": 17,
   "id": "4b0a243d-4e5f-4f80-a63e-5d0e47475a17",
   "metadata": {},
   "outputs": [],
   "source": [
    "def get_tuner_status(hdhr):\n",
    "    command2 = f'hdhomerun_config {hdhr} get /tuner1/status'\n",
    "    output2, returncode2 = run_command_in_background(command2)\n",
    "    print(output2)\n"
   ]
  },
  {
   "cell_type": "code",
   "execution_count": 18,
   "id": "09d87439-ec4c-4a58-82ec-e8e9a1b1f9db",
   "metadata": {},
   "outputs": [],
   "source": [
    "import time\n",
    "\n"
   ]
  },
  {
   "cell_type": "code",
   "execution_count": 20,
   "id": "c6651ad4-78b8-41dd-8832-72ca3b683df5",
   "metadata": {},
   "outputs": [
    {
     "name": "stderr",
     "output_type": "stream",
     "text": [
      "  % Total    % Received % Xferd  Average Speed   Time    Time     Time  Current\n",
      "                                 Dload  Upload   Total   Spent    Left  Speed\n",
      "100   376    0   376    0     0    978      0 --:--:-- --:--:-- --:--:--   976"
     ]
    },
    {
     "name": "stdout",
     "output_type": "stream",
     "text": [
      "ch=8vsb:213000000 lock=8vsb ss=100 snq=79 seq=100 bps=1490464 pps=128\n",
      "\n"
     ]
    },
    {
     "name": "stderr",
     "output_type": "stream",
     "text": [
      "100 4654k    0 4654k    0     0   873k      0 --:--:--  0:00:05 --:--:--  941k"
     ]
    }
   ],
   "source": [
    "from subprocess import Popen\n",
    "cmd_list = command.split(' ')\n",
    "p = Popen(cmd_list) # something long running\n",
    "time.sleep(1)\n",
    "get_tuner_status(hdhr0)\n",
    "time.sleep(5)\n",
    "# ... do other stuff while subprocess is running\n",
    "p.terminate()"
   ]
  },
  {
   "cell_type": "code",
   "execution_count": null,
   "id": "ad1a604a-ccf1-45aa-8926-f8322263d46e",
   "metadata": {},
   "outputs": [],
   "source": []
  }
 ],
 "metadata": {
  "kernelspec": {
   "display_name": "Python 3 (ipykernel)",
   "language": "python",
   "name": "python3"
  },
  "language_info": {
   "codemirror_mode": {
    "name": "ipython",
    "version": 3
   },
   "file_extension": ".py",
   "mimetype": "text/x-python",
   "name": "python",
   "nbconvert_exporter": "python",
   "pygments_lexer": "ipython3",
   "version": "3.12.8"
  }
 },
 "nbformat": 4,
 "nbformat_minor": 5
}
