{
 "cells": [
  {
   "cell_type": "markdown",
   "id": "e8096cbb-588c-43d5-8828-8507a54eaf4c",
   "metadata": {},
   "source": [
    "# Explore zap2it code\n",
    "\n",
    "## args - use examine_args_pickle.py "
   ]
  },
  {
   "cell_type": "code",
   "execution_count": null,
   "id": "1baf0d75-9ca7-4c1d-9bf2-287d2e70a70b",
   "metadata": {},
   "outputs": [],
   "source": []
  }
 ],
 "metadata": {
  "kernelspec": {
   "display_name": "Python 3 (ipykernel)",
   "language": "python",
   "name": "python3"
  },
  "language_info": {
   "codemirror_mode": {
    "name": "ipython",
    "version": 3
   },
   "file_extension": ".py",
   "mimetype": "text/x-python",
   "name": "python",
   "nbconvert_exporter": "python",
   "pygments_lexer": "ipython3",
   "version": "3.10.8"
  }
 },
 "nbformat": 4,
 "nbformat_minor": 5
}
