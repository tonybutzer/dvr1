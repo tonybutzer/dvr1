{
 "cells": [
  {
   "cell_type": "code",
   "execution_count": 1,
   "id": "30c89f60-de6e-473b-a524-1aa09220a193",
   "metadata": {},
   "outputs": [],
   "source": [
    "import os\n",
    "import eyed3"
   ]
  },
  {
   "cell_type": "code",
   "execution_count": 2,
   "id": "18bdd04a-3e39-438e-bd10-bc54fea82b65",
   "metadata": {},
   "outputs": [
    {
     "name": "stdout",
     "output_type": "stream",
     "text": [
      "<class 'eyed3.mp3.Mp3AudioFile'>\n",
      "['__annotations__', '__class__', '__delattr__', '__dict__', '__dir__', '__doc__', '__eq__', '__format__', '__ge__', '__getattribute__', '__gt__', '__hash__', '__init__', '__init_subclass__', '__le__', '__lt__', '__module__', '__ne__', '__new__', '__reduce__', '__reduce_ex__', '__repr__', '__setattr__', '__sizeof__', '__str__', '__subclasshook__', '__weakref__', '_info', '_path', '_read', '_tag', '_tag_version', 'info', 'initTag', 'path', 'rename', 'tag', 'type']\n",
      "<eyed3.id3.tag.Tag object at 0x7fb65427c640>\n",
      "<class 'eyed3.mp3.Mp3AudioFile'>\n",
      "['__annotations__', '__class__', '__delattr__', '__dict__', '__dir__', '__doc__', '__eq__', '__format__', '__ge__', '__getattribute__', '__gt__', '__hash__', '__init__', '__init_subclass__', '__le__', '__lt__', '__module__', '__ne__', '__new__', '__reduce__', '__reduce_ex__', '__repr__', '__setattr__', '__sizeof__', '__str__', '__subclasshook__', '__weakref__', '_info', '_path', '_read', '_tag', '_tag_version', 'info', 'initTag', 'path', 'rename', 'tag', 'type']\n",
      "None\n",
      "<class 'eyed3.mp3.Mp3AudioFile'>\n",
      "['__annotations__', '__class__', '__delattr__', '__dict__', '__dir__', '__doc__', '__eq__', '__format__', '__ge__', '__getattribute__', '__gt__', '__hash__', '__init__', '__init_subclass__', '__le__', '__lt__', '__module__', '__ne__', '__new__', '__reduce__', '__reduce_ex__', '__repr__', '__setattr__', '__sizeof__', '__str__', '__subclasshook__', '__weakref__', '_info', '_path', '_read', '_tag', '_tag_version', 'info', 'initTag', 'path', 'rename', 'tag', 'type']\n",
      "None\n",
      "<class 'eyed3.mp3.Mp3AudioFile'>\n",
      "['__annotations__', '__class__', '__delattr__', '__dict__', '__dir__', '__doc__', '__eq__', '__format__', '__ge__', '__getattribute__', '__gt__', '__hash__', '__init__', '__init_subclass__', '__le__', '__lt__', '__module__', '__ne__', '__new__', '__reduce__', '__reduce_ex__', '__repr__', '__setattr__', '__sizeof__', '__str__', '__subclasshook__', '__weakref__', '_info', '_path', '_read', '_tag', '_tag_version', 'info', 'initTag', 'path', 'rename', 'tag', 'type']\n",
      "None\n",
      "<class 'eyed3.mp3.Mp3AudioFile'>\n",
      "['__annotations__', '__class__', '__delattr__', '__dict__', '__dir__', '__doc__', '__eq__', '__format__', '__ge__', '__getattribute__', '__gt__', '__hash__', '__init__', '__init_subclass__', '__le__', '__lt__', '__module__', '__ne__', '__new__', '__reduce__', '__reduce_ex__', '__repr__', '__setattr__', '__sizeof__', '__str__', '__subclasshook__', '__weakref__', '_info', '_path', '_read', '_tag', '_tag_version', 'info', 'initTag', 'path', 'rename', 'tag', 'type']\n",
      "None\n",
      "<class 'eyed3.mp3.Mp3AudioFile'>\n",
      "['__annotations__', '__class__', '__delattr__', '__dict__', '__dir__', '__doc__', '__eq__', '__format__', '__ge__', '__getattribute__', '__gt__', '__hash__', '__init__', '__init_subclass__', '__le__', '__lt__', '__module__', '__ne__', '__new__', '__reduce__', '__reduce_ex__', '__repr__', '__setattr__', '__sizeof__', '__str__', '__subclasshook__', '__weakref__', '_info', '_path', '_read', '_tag', '_tag_version', 'info', 'initTag', 'path', 'rename', 'tag', 'type']\n",
      "None\n",
      "<class 'eyed3.mp3.Mp3AudioFile'>\n",
      "['__annotations__', '__class__', '__delattr__', '__dict__', '__dir__', '__doc__', '__eq__', '__format__', '__ge__', '__getattribute__', '__gt__', '__hash__', '__init__', '__init_subclass__', '__le__', '__lt__', '__module__', '__ne__', '__new__', '__reduce__', '__reduce_ex__', '__repr__', '__setattr__', '__sizeof__', '__str__', '__subclasshook__', '__weakref__', '_info', '_path', '_read', '_tag', '_tag_version', 'info', 'initTag', 'path', 'rename', 'tag', 'type']\n",
      "None\n",
      "<class 'eyed3.mp3.Mp3AudioFile'>\n",
      "['__annotations__', '__class__', '__delattr__', '__dict__', '__dir__', '__doc__', '__eq__', '__format__', '__ge__', '__getattribute__', '__gt__', '__hash__', '__init__', '__init_subclass__', '__le__', '__lt__', '__module__', '__ne__', '__new__', '__reduce__', '__reduce_ex__', '__repr__', '__setattr__', '__sizeof__', '__str__', '__subclasshook__', '__weakref__', '_info', '_path', '_read', '_tag', '_tag_version', 'info', 'initTag', 'path', 'rename', 'tag', 'type']\n",
      "None\n",
      "<class 'eyed3.mp3.Mp3AudioFile'>\n",
      "['__annotations__', '__class__', '__delattr__', '__dict__', '__dir__', '__doc__', '__eq__', '__format__', '__ge__', '__getattribute__', '__gt__', '__hash__', '__init__', '__init_subclass__', '__le__', '__lt__', '__module__', '__ne__', '__new__', '__reduce__', '__reduce_ex__', '__repr__', '__setattr__', '__sizeof__', '__str__', '__subclasshook__', '__weakref__', '_info', '_path', '_read', '_tag', '_tag_version', 'info', 'initTag', 'path', 'rename', 'tag', 'type']\n",
      "None\n",
      "<class 'eyed3.mp3.Mp3AudioFile'>\n",
      "['__annotations__', '__class__', '__delattr__', '__dict__', '__dir__', '__doc__', '__eq__', '__format__', '__ge__', '__getattribute__', '__gt__', '__hash__', '__init__', '__init_subclass__', '__le__', '__lt__', '__module__', '__ne__', '__new__', '__reduce__', '__reduce_ex__', '__repr__', '__setattr__', '__sizeof__', '__str__', '__subclasshook__', '__weakref__', '_info', '_path', '_read', '_tag', '_tag_version', 'info', 'initTag', 'path', 'rename', 'tag', 'type']\n",
      "None\n",
      "<class 'eyed3.mp3.Mp3AudioFile'>\n",
      "['__annotations__', '__class__', '__delattr__', '__dict__', '__dir__', '__doc__', '__eq__', '__format__', '__ge__', '__getattribute__', '__gt__', '__hash__', '__init__', '__init_subclass__', '__le__', '__lt__', '__module__', '__ne__', '__new__', '__reduce__', '__reduce_ex__', '__repr__', '__setattr__', '__sizeof__', '__str__', '__subclasshook__', '__weakref__', '_info', '_path', '_read', '_tag', '_tag_version', 'info', 'initTag', 'path', 'rename', 'tag', 'type']\n",
      "None\n",
      "<class 'eyed3.mp3.Mp3AudioFile'>\n",
      "['__annotations__', '__class__', '__delattr__', '__dict__', '__dir__', '__doc__', '__eq__', '__format__', '__ge__', '__getattribute__', '__gt__', '__hash__', '__init__', '__init_subclass__', '__le__', '__lt__', '__module__', '__ne__', '__new__', '__reduce__', '__reduce_ex__', '__repr__', '__setattr__', '__sizeof__', '__str__', '__subclasshook__', '__weakref__', '_info', '_path', '_read', '_tag', '_tag_version', 'info', 'initTag', 'path', 'rename', 'tag', 'type']\n",
      "None\n"
     ]
    }
   ],
   "source": [
    "directory = '/media/tony/plexLive/plexroot/2_Audiobooks/Spiritual/et-new-earth-UT/D02 - Living a Life of Inner'\n",
    "for filename in os.listdir(directory):\n",
    "    if filename.endswith(\".mp3\"):\n",
    "      filepath = os.path.join(directory, filename)\n",
    "      audiofile = eyed3.load(filepath)\n",
    "      print (type(audiofile))\n",
    "      print(dir(audiofile))\n",
    "      print (audiofile.tag)\n",
    "      # audiofile.tag.artist = \"Eckhardt Tolle\"\n",
    "      # audiofile.tag.title = \"A New Earth D4\"\n",
    "      # audiofile.tag.save()\n",
    "      #print(f\"Metadata updated for {filename}\")\n",
    "    # tag = eyed3.Tag()\n",
    "    # tag.link(filepath)\n",
    "    # print( tag.getArtist())\n",
    "    # print( tag.getTitle())\n"
   ]
  },
  {
   "cell_type": "code",
   "execution_count": 3,
   "id": "5659c3d4-69f4-47eb-9d3d-2b6f1d613758",
   "metadata": {},
   "outputs": [],
   "source": [
    "# load the libraries that we'll use  \n",
    "from mutagen.mp3 import MP3  \n",
    "from mutagen.easyid3 import EasyID3  \n",
    "import mutagen.id3  \n",
    "from mutagen.id3 import ID3, TIT2, TIT3, TALB, TPE1, TRCK, TYER  \n",
    "  \n",
    "import glob  \n",
    "  \n",
    "import numpy as np  "
   ]
  },
  {
   "cell_type": "code",
   "execution_count": 4,
   "id": "05e6e638-47bd-48b6-95bc-f98ef1bd8d30",
   "metadata": {},
   "outputs": [],
   "source": [
    "directory = '/media/tony/plexLive/plexroot/2_Audiobooks/Spiritual/et-new-earth-UT/D02 - Living a Life of Inner'\n",
    "files=os.listdir(directory)"
   ]
  },
  {
   "cell_type": "code",
   "execution_count": 5,
   "id": "6ac95246-d8b5-4286-b6b1-80e77c905cdc",
   "metadata": {},
   "outputs": [
    {
     "data": {
      "text/plain": [
       "['01_Introduction-ut.mp3',\n",
       " '02_Trusting_in_life-ut.mp3',\n",
       " '03_Observing_the_ego-ut.mp3',\n",
       " '04_Recognize_illusion_as_illusion-ut.mp3',\n",
       " '05_Liberated_Life_5-ut.mp3',\n",
       " '06_Suffering_is_not_necessary-ut.mp3',\n",
       " '07_An_energy_field_of_pain-ut.mp3',\n",
       " '08_Feeding_the_pain_body-ut.mp3',\n",
       " '09_The_transmutation_of_pain-ut.mp3',\n",
       " '10_Track_10-ut.mp3',\n",
       " '11_Track_11-ut.mp3',\n",
       " '12_Track_12-ut.mp3',\n",
       " 'desktop.ini']"
      ]
     },
     "execution_count": 5,
     "metadata": {},
     "output_type": "execute_result"
    }
   ],
   "source": [
    "files"
   ]
  },
  {
   "cell_type": "code",
   "execution_count": 6,
   "id": "9ba75bfb-397e-42f3-a5ca-c0830c7262e8",
   "metadata": {},
   "outputs": [],
   "source": [
    "myfile = files[0]"
   ]
  },
  {
   "cell_type": "code",
   "execution_count": 7,
   "id": "ddb1c341-aa59-4c08-b51f-bcffcaf65001",
   "metadata": {},
   "outputs": [
    {
     "data": {
      "text/plain": [
       "{'title': ['D2 A New Earth'], 'artist': ['Eckhardt Tolle'], 'genre': ['Audio Book']}"
      ]
     },
     "execution_count": 7,
     "metadata": {},
     "output_type": "execute_result"
    }
   ],
   "source": [
    "mp3file = MP3(f'{directory}/{myfile}', ID3=EasyID3)   \n",
    "# what is contained in the existing ID3 tags?   \n",
    "mp3file  "
   ]
  },
  {
   "cell_type": "code",
   "execution_count": 8,
   "id": "c37903c2-0d9d-4d2f-b4d5-6f11d8ec4cdd",
   "metadata": {},
   "outputs": [],
   "source": [
    "filePath = f'{directory}/{myfile}'"
   ]
  },
  {
   "cell_type": "code",
   "execution_count": 9,
   "id": "2840fc33-eb7b-4182-8f11-26035b0ed0ed",
   "metadata": {},
   "outputs": [
    {
     "data": {
      "text/plain": [
       "{'title': ['D2 A New Earth'], 'artist': ['Eckhardt Tolle'], 'genre': ['Audio Book']}"
      ]
     },
     "execution_count": 9,
     "metadata": {},
     "output_type": "execute_result"
    }
   ],
   "source": [
    "try:\n",
    "  meta = EasyID3(filePath)\n",
    "except mutagen.id3.ID3NoHeaderError:\n",
    "  meta = mutagen.File(filePath, easy=True)\n",
    "  meta.add_tags()\n",
    "meta"
   ]
  },
  {
   "cell_type": "code",
   "execution_count": 10,
   "id": "90cf2f28-2f53-4fa2-8b9d-de05b948a93d",
   "metadata": {},
   "outputs": [
    {
     "data": {
      "text/plain": [
       "{'title': ['D2 A New Earth'], 'artist': ['Eckhardt Tolle'], 'genre': ['Audio Book']}"
      ]
     },
     "execution_count": 10,
     "metadata": {},
     "output_type": "execute_result"
    }
   ],
   "source": [
    "meta['title'] = \"D2 A New Earth\"\n",
    "meta['artist'] = \"Eckhardt Tolle\"\n",
    "meta['genre'] = \"Audio Book\"\n",
    "meta.save(filePath, v1=2)\n",
    "changed = EasyID3(filePath)\n",
    "changed"
   ]
  },
  {
   "cell_type": "code",
   "execution_count": 12,
   "id": "8dc384b6-aade-4914-8cc1-5c08ce5715b5",
   "metadata": {},
   "outputs": [
    {
     "name": "stdout",
     "output_type": "stream",
     "text": [
      "{'title': ['D2 A New Earth'], 'artist': ['Eckhardt Tolle'], 'genre': ['Audio Book']}\n",
      "{'title': ['D2 A New Earth'], 'artist': ['Eckhardt Tolle'], 'genre': ['Audio Book']}\n",
      "{'title': ['D2 A New Earth'], 'artist': ['Eckhardt Tolle'], 'genre': ['Audio Book']}\n",
      "{'title': ['D2 A New Earth'], 'artist': ['Eckhardt Tolle'], 'genre': ['Audio Book']}\n",
      "{'title': ['D2 A New Earth'], 'artist': ['Eckhardt Tolle'], 'genre': ['Audio Book']}\n",
      "{'title': ['D2 A New Earth'], 'artist': ['Eckhardt Tolle'], 'genre': ['Audio Book']}\n",
      "{'title': ['D2 A New Earth'], 'artist': ['Eckhardt Tolle'], 'genre': ['Audio Book']}\n",
      "{'title': ['D2 A New Earth'], 'artist': ['Eckhardt Tolle'], 'genre': ['Audio Book']}\n",
      "{'title': ['D2 A New Earth'], 'artist': ['Eckhardt Tolle'], 'genre': ['Audio Book']}\n",
      "{'title': ['D2 A New Earth'], 'artist': ['Eckhardt Tolle'], 'genre': ['Audio Book']}\n",
      "{'title': ['D2 A New Earth'], 'artist': ['Eckhardt Tolle'], 'genre': ['Audio Book']}\n"
     ]
    }
   ],
   "source": [
    "directory = '/media/tony/plexLive/plexroot/2_Audiobooks/Spiritual/et-new-earth-UT/D02 - Living a Life of Inner'\n",
    "for filename in os.listdir(directory):\n",
    "    if filename.endswith(\".mp3\"):\n",
    "      filePath = os.path.join(directory, filename)\n",
    "      try:\n",
    "        meta = EasyID3(filePath)\n",
    "      except mutagen.id3.ID3NoHeaderError:\n",
    "        meta = mutagen.File(filePath, easy=True)\n",
    "        meta.add_tags()\n",
    "        meta['title'] = \"D2 A New Earth\"\n",
    "        meta['artist'] = \"Eckhardt Tolle\"\n",
    "        meta['genre'] = \"Audio Book\"\n",
    "        meta.save(filePath, v1=2)\n",
    "        changed = EasyID3(filePath)\n",
    "        print(changed)\n",
    "        "
   ]
  },
  {
   "cell_type": "code",
   "execution_count": null,
   "id": "e7f63bd7-a32d-4d25-807e-b93d20f23903",
   "metadata": {},
   "outputs": [],
   "source": []
  }
 ],
 "metadata": {
  "kernelspec": {
   "display_name": "Python 3 (ipykernel)",
   "language": "python",
   "name": "python3"
  },
  "language_info": {
   "codemirror_mode": {
    "name": "ipython",
    "version": 3
   },
   "file_extension": ".py",
   "mimetype": "text/x-python",
   "name": "python",
   "nbconvert_exporter": "python",
   "pygments_lexer": "ipython3",
   "version": "3.10.8"
  }
 },
 "nbformat": 4,
 "nbformat_minor": 5
}
